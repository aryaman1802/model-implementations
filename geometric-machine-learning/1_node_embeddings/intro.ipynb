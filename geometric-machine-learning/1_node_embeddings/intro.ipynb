{
 "cells": [
  {
   "cell_type": "code",
   "execution_count": 2,
   "id": "a79476ef",
   "metadata": {},
   "outputs": [
    {
     "name": "stderr",
     "output_type": "stream",
     "text": [
      "c:\\Users\\dell\\anaconda3\\lib\\site-packages\\pandas\\core\\computation\\expressions.py:21: UserWarning: Pandas requires version '2.8.4' or newer of 'numexpr' (version '2.8.3' currently installed).\n",
      "  from pandas.core.computation.check import NUMEXPR_INSTALLED\n",
      "c:\\Users\\dell\\anaconda3\\lib\\site-packages\\pandas\\core\\arrays\\masked.py:60: UserWarning: Pandas requires version '1.3.6' or newer of 'bottleneck' (version '1.3.5' currently installed).\n",
      "  from pandas.core import (\n"
     ]
    },
    {
     "name": "stdout",
     "output_type": "stream",
     "text": [
      "imports done!\n",
      "torch_geometric version: 2.5.3\n"
     ]
    }
   ],
   "source": [
    "import torch_geometric\n",
    "import torch_geometric.nn as geo_nn\n",
    "from torch_geometric.datasets import Planetoid, FacebookPagePage\n",
    "import torch_geometric.transforms as geo_T\n",
    "import torch_geometric.utils as geo_utils\n",
    "\n",
    "import numpy as np\n",
    "import pandas as pd\n",
    "import matplotlib.pyplot as plt\n",
    "\n",
    "import random\n",
    "import os\n",
    "from tqdm import tqdm\n",
    "import networkx as nx\n",
    "import gc\n",
    "from collections import Counter\n",
    "\n",
    "print(\"imports done!\")\n",
    "\n",
    "print(\"torch_geometric version:\", torch_geometric.__version__)"
   ]
  },
  {
   "cell_type": "markdown",
   "id": "89607cca",
   "metadata": {},
   "source": [
    "Resources:\n",
    "- [Stanford CS224W](https://youtube.com/playlist?list=PLoROMvodv4rPLKxIpqhjhPgdQy7imNkDn&si=dECLC5c4u7kPfPq-)\n",
    "- [Graph Representation Learning](https://www.cs.mcgill.ca/~wlh/grl_book/files/GRL_Book.pdf)\n",
    "- [Hands-On Graph Neural Networks Using Python - Maxime Labonne](https://github.com/PacktPublishing/Hands-On-Graph-Neural-Networks-Using-Python)"
   ]
  },
  {
   "cell_type": "code",
   "execution_count": 1,
   "id": "57f48d51",
   "metadata": {},
   "outputs": [
    {
     "name": "stdout",
     "output_type": "stream",
     "text": [
      "imports done!\n"
     ]
    }
   ],
   "source": [
    "import networkx as nx\n",
    "import matplotlib.pyplot as plt\n",
    "\n",
    "print(\"imports done!\")"
   ]
  },
  {
   "cell_type": "markdown",
   "id": "360bbf4d",
   "metadata": {},
   "source": [
    "#### Let's draw a graph"
   ]
  },
  {
   "cell_type": "code",
   "execution_count": 5,
   "id": "4c43dd33",
   "metadata": {},
   "outputs": [
    {
     "data": {
      "image/png": "[encoded data removed]",
      "text/plain": [
       "<Figure size 640x480 with 1 Axes>"
      ]
     },
     "metadata": {},
     "output_type": "display_data"
    }
   ],
   "source": [
    "G = nx.Graph()\n",
    "G.add_edges_from([('A', 'B'), ('A', 'C'), ('B', 'D'),\n",
    "('B', 'E'), ('C', 'F'), ('C', 'G')])\n",
    "plt.axis('off')\n",
    "nx.draw_networkx(G,\n",
    "                 pos=nx.spring_layout(G, seed=0),\n",
    "                 node_size=600,\n",
    "                 cmap='coolwarm',\n",
    "                 font_size=14,\n",
    "                 font_color='white'\n",
    "                 )"
   ]
  },
  {
   "cell_type": "code",
   "execution_count": null,
   "id": "3f912732",
   "metadata": {},
   "outputs": [],
   "source": []
  },
  {
   "cell_type": "code",
   "execution_count": null,
   "id": "81a36b4c",
   "metadata": {},
   "outputs": [],
   "source": []
  }
 ],
 "metadata": {
  "kernelspec": {
   "display_name": "base",
   "language": "python",
   "name": "python3"
  },
  "language_info": {
   "codemirror_mode": {
    "name": "ipython",
    "version": 3
   },
   "file_extension": ".py",
   "mimetype": "text/x-python",
   "name": "python",
   "nbconvert_exporter": "python",
   "pygments_lexer": "ipython3",
   "version": "3.9.12"
  }
 },
 "nbformat": 4,
 "nbformat_minor": 5
}
