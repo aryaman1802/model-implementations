{
 "cells": [
  {
   "cell_type": "markdown",
   "metadata": {},
   "source": [
    "## Introduction to Generative Deep Learning\n",
    "\n",
    "Helpful Resources:\n",
    "- [Deep Generative Modeling - Jakub M. Tomczak](https://link.springer.com/book/10.1007/978-3-031-64087-2)\n",
    "- [Stanford's Deep Generative Models playlist](https://youtube.com/playlist?list=PLoROMvodv4rPOWA-omMM6STXaWW4FvJT8&si=N_TpTe1bPIhte-t8)"
   ]
  },
  {
   "cell_type": "markdown",
   "metadata": {},
   "source": [
    "#### **A taxonomy of deep generative models** \n",
    "\n",
    "![\"gdl_tax\"](./imgs/gdl_taxonomy.png \"gdl_tax\")\n",
    "\n",
    "Source: [Deep Generative Modeling - Jakub M. Tomczak](https://link.springer.com/book/10.1007/978-3-031-64087-2)"
   ]
  },
  {
   "cell_type": "markdown",
   "metadata": {},
   "source": [
    "Deep generative models can roughly be divided into 5 main categories:\n",
    "1. Autoregressive models (ARMs)\n",
    "2. Flow-based models\n",
    "3. Latent variable models\n",
    "4. Energy-based models\n",
    "5. Score-based models"
   ]
  },
  {
   "cell_type": "code",
   "execution_count": 5,
   "metadata": {},
   "outputs": [
    {
     "data": {
      "text/html": [
       "<div>\n",
       "<style scoped>\n",
       "    .dataframe tbody tr th:only-of-type {\n",
       "        vertical-align: middle;\n",
       "    }\n",
       "\n",
       "    .dataframe tbody tr th {\n",
       "        vertical-align: top;\n",
       "    }\n",
       "\n",
       "    .dataframe thead th {\n",
       "        text-align: right;\n",
       "    }\n",
       "</style>\n",
       "<table border=\"1\" class=\"dataframe\">\n",
       "  <thead>\n",
       "    <tr style=\"text-align: right;\">\n",
       "      <th></th>\n",
       "      <th>Category</th>\n",
       "      <th>Key Idea</th>\n",
       "      <th>Key Equation</th>\n",
       "      <th>Goal</th>\n",
       "    </tr>\n",
       "  </thead>\n",
       "  <tbody>\n",
       "    <tr>\n",
       "      <th>0</th>\n",
       "      <td>Autoregressive Models (ARMs)</td>\n",
       "      <td>Factorize joint probability into conditional p...</td>\n",
       "      <td>p(x) = ∏ p(x_i | x_1, ..., x_{i-1})</td>\n",
       "      <td>Sequentially predict and generate data</td>\n",
       "    </tr>\n",
       "    <tr>\n",
       "      <th>1</th>\n",
       "      <td>Flow-Based Models</td>\n",
       "      <td>Invertible transformations using change-of-var...</td>\n",
       "      <td>p(x) = p(z) |det(∂f^{-1}(x)/∂x)|</td>\n",
       "      <td>Transform simple distributions into complex da...</td>\n",
       "    </tr>\n",
       "    <tr>\n",
       "      <th>2</th>\n",
       "      <td>Latent Variable Models</td>\n",
       "      <td>Model data using latent (hidden) variables</td>\n",
       "      <td>ELBO: E_q[log p(x|z)] - KL(q(z|x) || p(z))</td>\n",
       "      <td>Learn a compressed representation to generate ...</td>\n",
       "    </tr>\n",
       "    <tr>\n",
       "      <th>3</th>\n",
       "      <td>Energy-Based Models (EBMs)</td>\n",
       "      <td>Associate energy levels with data configurations</td>\n",
       "      <td>p(x) = exp(-E(x)) / Z</td>\n",
       "      <td>Assign lower energy to likely data and higher ...</td>\n",
       "    </tr>\n",
       "    <tr>\n",
       "      <th>4</th>\n",
       "      <td>Score-Based Models</td>\n",
       "      <td>Use gradients of log-probability for generation</td>\n",
       "      <td>Score: s(x) = ∇_x log p(x)</td>\n",
       "      <td>Leverage score functions to generate samples</td>\n",
       "    </tr>\n",
       "  </tbody>\n",
       "</table>\n",
       "</div>"
      ],
      "text/plain": [
       "                       Category  \\\n",
       "0  Autoregressive Models (ARMs)   \n",
       "1             Flow-Based Models   \n",
       "2        Latent Variable Models   \n",
       "3    Energy-Based Models (EBMs)   \n",
       "4            Score-Based Models   \n",
       "\n",
       "                                            Key Idea  \\\n",
       "0  Factorize joint probability into conditional p...   \n",
       "1  Invertible transformations using change-of-var...   \n",
       "2         Model data using latent (hidden) variables   \n",
       "3   Associate energy levels with data configurations   \n",
       "4    Use gradients of log-probability for generation   \n",
       "\n",
       "                                 Key Equation  \\\n",
       "0         p(x) = ∏ p(x_i | x_1, ..., x_{i-1})   \n",
       "1            p(x) = p(z) |det(∂f^{-1}(x)/∂x)|   \n",
       "2  ELBO: E_q[log p(x|z)] - KL(q(z|x) || p(z))   \n",
       "3                       p(x) = exp(-E(x)) / Z   \n",
       "4                  Score: s(x) = ∇_x log p(x)   \n",
       "\n",
       "                                                Goal  \n",
       "0             Sequentially predict and generate data  \n",
       "1  Transform simple distributions into complex da...  \n",
       "2  Learn a compressed representation to generate ...  \n",
       "3  Assign lower energy to likely data and higher ...  \n",
       "4       Leverage score functions to generate samples  "
      ]
     },
     "metadata": {},
     "output_type": "display_data"
    }
   ],
   "source": [
    "import pandas as pd\n",
    "\n",
    "# Define the categories and their key attributes\n",
    "data = {\n",
    "    \"Category\": [\n",
    "        \"Autoregressive Models (ARMs)\",\n",
    "        \"Flow-Based Models\",\n",
    "        \"Latent Variable Models\",\n",
    "        \"Energy-Based Models (EBMs)\",\n",
    "        \"Score-Based Models\"\n",
    "    ],\n",
    "    \"Key Idea\": [\n",
    "        \"Factorize joint probability into conditional probabilities\",\n",
    "        \"Invertible transformations using change-of-variables\",\n",
    "        \"Model data using latent (hidden) variables\",\n",
    "        \"Associate energy levels with data configurations\",\n",
    "        \"Use gradients of log-probability for generation\"\n",
    "    ],\n",
    "    \"Key Equation\": [\n",
    "        \"p(x) = ∏ p(x_i | x_1, ..., x_{i-1})\",\n",
    "        \"p(x) = p(z) |det(∂f^{-1}(x)/∂x)|\",\n",
    "        \"ELBO: E_q[log p(x|z)] - KL(q(z|x) || p(z))\",\n",
    "        \"p(x) = exp(-E(x)) / Z\",\n",
    "        \"Score: s(x) = ∇_x log p(x)\"\n",
    "    ],\n",
    "    \"Goal\": [\n",
    "        \"Sequentially predict and generate data\",\n",
    "        \"Transform simple distributions into complex data distributions\",\n",
    "        \"Learn a compressed representation to generate or reconstruct data\",\n",
    "        \"Assign lower energy to likely data and higher energy to unlikely data\",\n",
    "        \"Leverage score functions to generate samples\"\n",
    "    ]\n",
    "}\n",
    "\n",
    "# Create a DataFrame for the table\n",
    "comparison_table = pd.DataFrame(data)\n",
    "\n",
    "display(comparison_table)"
   ]
  },
  {
   "cell_type": "markdown",
   "metadata": {},
   "source": [
    "#### **Autoregressive models (ARMs)**\n",
    "\n",
    "$$p(\\mathbf{x}) \\; = \\; \\prod_{i=1}^n p(x_i \\, | \\, x_1, x_2, ..., x_{i-1}) \\; = \\; \\prod_{i=1}^n p(x_i \\, | \\, x_{< i})$$"
   ]
  },
  {
   "cell_type": "markdown",
   "metadata": {},
   "source": [
    "#### **Flow-based models**\n",
    "\n",
    "something"
   ]
  },
  {
   "cell_type": "markdown",
   "metadata": {},
   "source": [
    "#### **Latent variable models**\n",
    "\n",
    "something"
   ]
  },
  {
   "cell_type": "markdown",
   "metadata": {},
   "source": [
    "#### **Energy-based models**\n",
    "\n",
    "something"
   ]
  },
  {
   "cell_type": "markdown",
   "metadata": {},
   "source": [
    "#### **Score-based models**\n",
    "\n",
    "something"
   ]
  },
  {
   "cell_type": "code",
   "execution_count": null,
   "metadata": {},
   "outputs": [],
   "source": []
  }
 ],
 "metadata": {
  "kernelspec": {
   "display_name": "base",
   "language": "python",
   "name": "python3"
  },
  "language_info": {
   "codemirror_mode": {
    "name": "ipython",
    "version": 3
   },
   "file_extension": ".py",
   "mimetype": "text/x-python",
   "name": "python",
   "nbconvert_exporter": "python",
   "pygments_lexer": "ipython3",
   "version": "3.9.12"
  }
 },
 "nbformat": 4,
 "nbformat_minor": 2
}
