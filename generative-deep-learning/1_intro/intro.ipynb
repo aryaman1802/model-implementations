{
 "cells": [
  {
   "cell_type": "markdown",
   "metadata": {},
   "source": [
    "## Introduction to Generative Deep Learning\n",
    "\n",
    "Helpful Resources:\n",
    "- [Deep Generative Modeling - Jakub M. Tomczak](https://link.springer.com/book/10.1007/978-3-031-64087-2)\n",
    "- [Stanford's Deep Generative Models playlist](https://youtube.com/playlist?list=PLoROMvodv4rPOWA-omMM6STXaWW4FvJT8&si=N_TpTe1bPIhte-t8)"
   ]
  },
  {
   "cell_type": "markdown",
   "metadata": {},
   "source": [
    "#### **A taxonomy of deep generative models** \n",
    "\n",
    "![\"gdl_tax\"](./imgs/gdl_taxonomy.png \"gdl_tax\")\n",
    "\n",
    "Source: [Deep Generative Modeling - Jakub M. Tomczak](https://link.springer.com/book/10.1007/978-3-031-64087-2)"
   ]
  },
  {
   "cell_type": "markdown",
   "metadata": {},
   "source": [
    "Deep generative models can roughly be divided into 5 main categories:\n",
    "1. Autoregressive models (ARMs)\n",
    "2. Flow-based models\n",
    "3. Latent variable models\n",
    "4. Energy-based models\n",
    "5. Score-based models"
   ]
  },
  {
   "cell_type": "markdown",
   "metadata": {},
   "source": [
    "#### **Autoregressive models (ARMs)**\n",
    "\n",
    "$$p(\\mathbf{x}) \\; = \\; \\prod_{i=1}^n p(x_i \\, | \\, x_1, x_2, ..., x_{i-1}) \\; = \\; \\prod_{i=1}^n p(x_i \\, | \\, x_{< i})$$"
   ]
  },
  {
   "cell_type": "markdown",
   "metadata": {},
   "source": [
    "#### **Flow-based models**\n",
    "\n",
    "something"
   ]
  },
  {
   "cell_type": "markdown",
   "metadata": {},
   "source": [
    "#### **Latent variable models**\n",
    "\n",
    "something"
   ]
  },
  {
   "cell_type": "markdown",
   "metadata": {},
   "source": [
    "#### **Energy-based models**\n",
    "\n",
    "something"
   ]
  },
  {
   "cell_type": "markdown",
   "metadata": {},
   "source": [
    "#### **Score-based models**\n",
    "\n",
    "something"
   ]
  },
  {
   "cell_type": "code",
   "execution_count": null,
   "metadata": {
    "vscode": {
     "languageId": "plaintext"
    }
   },
   "outputs": [],
   "source": []
  }
 ],
 "metadata": {
  "language_info": {
   "name": "python"
  }
 },
 "nbformat": 4,
 "nbformat_minor": 2
}
