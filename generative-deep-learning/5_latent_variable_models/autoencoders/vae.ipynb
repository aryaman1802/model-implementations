{
 "cells": [
  {
   "cell_type": "markdown",
   "metadata": {},
   "source": [
    "## Variational AutoEncoder (VAE)\n",
    "\n",
    "Paper: [Auto-Encoding Variational Bayes](https://arxiv.org/pdf/1312.6114)\n",
    "\n",
    "Helpful resources:\n",
    "- [Datacamp's tutorial on VAE](https://www.datacamp.com/tutorial/variational-autoencoders)\n",
    "- [CodeEmporium's video on VAE](https://youtu.be/fcvYpzHmhvA?si=WBQ9X6yVhKPOVagA)\n",
    "- [Stanford's Deep Generative Models playlist](https://youtube.com/playlist?list=PLoROMvodv4rPOWA-omMM6STXaWW4FvJT8&si=N_TpTe1bPIhte-t8)\n",
    "- ExplainingAI's videos on VAE:\n",
    "    - [Understanding VAE](https://youtu.be/1RPdu_5FCfk?si=ku_-AMmJI991t0To)\n",
    "    - [Implementing VAE](https://youtu.be/pEsC0Vcjc7c?si=u3mBvhTaJ77a-mnP)\n",
    "- Kapil Sachdeva's playlist on [Variational inference and autoencoder](https://youtube.com/playlist?list=PLivJwLo9VCUK1dXFU9Ig96fjANOMdoL9R&si=1ZIUhygpnF8l8SxY)\n",
    "- [AI Summer's blog on VAE](https://theaisummer.com/latent-variable-models/)"
   ]
  },
  {
   "cell_type": "markdown",
   "metadata": {},
   "source": [
    "Check my Kaggle notebook for the results = https://www.kaggle.com/code/aryamanbansal/variational-autoencoder\n",
    "\n",
    "Also, it does automatic mixed precision training with VAE!"
   ]
  },
  {
   "cell_type": "code",
   "execution_count": 30,
   "metadata": {
    "execution": {
     "iopub.execute_input": "2025-04-08T13:07:07.565765Z",
     "iopub.status.busy": "2025-04-08T13:07:07.565437Z",
     "iopub.status.idle": "2025-04-08T13:07:07.572597Z",
     "shell.execute_reply": "2025-04-08T13:07:07.571632Z",
     "shell.execute_reply.started": "2025-04-08T13:07:07.565740Z"
    },
    "trusted": true
   },
   "outputs": [
    {
     "name": "stdout",
     "output_type": "stream",
     "text": [
      "imports done!\n"
     ]
    }
   ],
   "source": [
    "import torch\n",
    "from torch import nn\n",
    "from torch import optim\n",
    "import torch.nn.functional as F\n",
    "from torch.utils.data import DataLoader, Dataset\n",
    "import torchvision\n",
    "from torchvision import datasets, transforms, models\n",
    "from torchinfo import summary\n",
    "from torch import GradScaler, autocast\n",
    "\n",
    "import numpy as np\n",
    "import pandas as pd\n",
    "import matplotlib.pyplot as plt\n",
    "import random\n",
    "import math\n",
    "\n",
    "import os\n",
    "from tqdm import tqdm\n",
    "from datetime import datetime\n",
    "import pytz\n",
    "import copy\n",
    "import time\n",
    "import gc\n",
    "\n",
    "print(\"imports done!\")"
   ]
  },
  {
   "cell_type": "code",
   "execution_count": 31,
   "metadata": {
    "execution": {
     "iopub.execute_input": "2025-04-08T13:07:07.704620Z",
     "iopub.status.busy": "2025-04-08T13:07:07.704287Z",
     "iopub.status.idle": "2025-04-08T13:07:07.723138Z",
     "shell.execute_reply": "2025-04-08T13:07:07.722169Z",
     "shell.execute_reply.started": "2025-04-08T13:07:07.704593Z"
    },
    "trusted": true
   },
   "outputs": [
    {
     "name": "stdout",
     "output_type": "stream",
     "text": [
      "Utility functions created!\n"
     ]
    }
   ],
   "source": [
    "def get_torch_version():\n",
    "    torch_version = torch.__version__.split(\"+\")[0]\n",
    "    torch_number = torch_version.split(\".\")[:2]\n",
    "    torch_number_float = torch_number[0] + \".\" + torch_number[1]\n",
    "    torch_number_float = float(torch_number_float)\n",
    "    return torch_number_float\n",
    "\n",
    "\n",
    "def set_seed(seed=42):\n",
    "    \"\"\"\n",
    "    Seeds basic parameters for reproducibility of results\n",
    "    \"\"\"\n",
    "    random.seed(seed)\n",
    "    os.environ[\"PYTHONHASHSEED\"] = str(seed)\n",
    "    np.random.seed(seed)\n",
    "    torch.manual_seed(seed)\n",
    "    if torch.cuda.is_available():\n",
    "        torch.cuda.manual_seed(seed)\n",
    "        torch.backends.cudnn.benchmark = False\n",
    "        torch.backends.cudnn.deterministic = True\n",
    "        # if get_torch_version() <= 1.7:\n",
    "        #     torch.set_deterministic(True)\n",
    "        # else:\n",
    "        #     torch.use_deterministic_algorithms(True)\n",
    "    print(f\"seed {seed} set!\")\n",
    "    \n",
    "\n",
    "def set_scheduler(scheduler, results, scheduler_on):\n",
    "    \"\"\"Makes the neccessary updates to the scheduler.\"\"\"\n",
    "    if scheduler_on == \"valid_acc\":\n",
    "        scheduler.step(results[\"valid_acc\"][-1])\n",
    "    elif scheduler_on == \"valid_loss\":\n",
    "        scheduler.step(results[\"valid_loss\"][-1])\n",
    "    elif scheduler_on == \"train_acc\":\n",
    "        scheduler.step(results[\"train_acc\"][-1])\n",
    "    elif scheduler_on == \"train_loss\":\n",
    "        scheduler.step(results[\"train_loss\"][-1])\n",
    "    else:\n",
    "        raise ValueError(\"Invalid `scheduler_on` choice.\")\n",
    "    return scheduler\n",
    "\n",
    "\n",
    "def visualize_results(results, plot_name=None):\n",
    "    \"\"\"Plot the training and validation loss and accuracy, given the results dictionary\"\"\"\n",
    "    train_loss, train_acc = results[\"train_loss\"], results[\"train_acc\"]\n",
    "    val_loss, val_acc = results[\"valid_loss\"], results[\"valid_acc\"]\n",
    "    cls = [\"no\", \"vort\", \"sphere\"]\n",
    "    x = np.arange(len(train_loss))  # this is the number of epochs\n",
    "    fig, ax = plt.subplots(nrows=2, ncols=2, figsize=(12,12))\n",
    "    # ax[0,0].set_title(\"Loss\")\n",
    "    ax[0,0].set_xlabel(\"Epochs\")\n",
    "    ax[0,0].set_ylabel(\"Loss\")\n",
    "    ax[0,0].plot(x, train_loss, label=\"train_loss\", color=\"orange\")\n",
    "    ax[0,0].plot(x, val_loss, label=\"valid_loss\", color=\"blue\")\n",
    "    ax[0,0].legend()\n",
    "    # ax[0,1].set_title(\"Accuracy\")\n",
    "    ax[0,1].set_xlabel(\"Epochs\")\n",
    "    ax[0,1].set_ylabel(\"Accuracy\")\n",
    "    ax[0,1].plot(x, train_acc, label=\"train_acc\", color=\"orange\")\n",
    "    ax[0,1].plot(x, val_acc, label=\"valid_acc\", color=\"blue\")\n",
    "    ax[0,1].legend()\n",
    "    # ax[1,0].set_title(\"Train ROC AUC Plot\")\n",
    "    ax[1,0].set_xlabel(\"Epochs\")\n",
    "    ax[1,0].set_ylabel(\"Train ROC AUC Score\")\n",
    "    ax[1,0].plot(x, results[\"train_roc_auc_0\"], label=cls[0])\n",
    "    ax[1,0].plot(x, results[\"train_roc_auc_1\"], label=cls[1])\n",
    "    ax[1,0].plot(x, results[\"train_roc_auc_2\"], label=cls[2])\n",
    "    ax[1,0].legend()\n",
    "    # ax[1,1].set_title(\"Valid ROC AUC Plot\")\n",
    "    ax[1,1].set_xlabel(\"Epochs\")\n",
    "    ax[1,1].set_ylabel(\"Valid ROC AUC Score\")\n",
    "    ax[1,1].plot(x, results[\"valid_roc_auc_0\"], label=cls[0])\n",
    "    ax[1,1].plot(x, results[\"valid_roc_auc_1\"], label=cls[1])\n",
    "    ax[1,1].plot(x, results[\"valid_roc_auc_2\"], label=cls[2])\n",
    "    ax[1,1].legend()\n",
    "    if plot_name is not None:\n",
    "        plt.savefig(plot_name)\n",
    "    plt.show()\n",
    "\n",
    "\n",
    "def save_model_info(path: str, device, model, model_name, optimizer, optimizer_name, \n",
    "                    scheduler=None, scheduler_name=\"\"):\n",
    "    model.to(device)\n",
    "    torch.save(model.state_dict(), os.path.join(path,model_name))\n",
    "    torch.save(optimizer.state_dict(), os.path.join(path,optimizer_name))\n",
    "    if scheduler is not None:\n",
    "        torch.save(scheduler.state_dict(), os.path.join(path,scheduler_name))    \n",
    "    print(\"Model info saved!\")\n",
    "    \n",
    "    \n",
    "def load_model_info(PATH, device, model, model_name, optimizer, optimizer_name, \n",
    "                    scheduler=None, scheduler_name=\"\"):\n",
    "    model.load_state_dict(torch.load(os.path.join(path,model_name)))\n",
    "    model.to(device)\n",
    "    optimizer.load_state_dict(torch.load(os.path.join(path,optimizer_name)))\n",
    "    if scheduler is not None:\n",
    "        scheduler.load_state_dict(torch.load(os.path.join(path,scheduler_name)))\n",
    "    print(\"Model info loaded!\")\n",
    "    \n",
    "    \n",
    "def get_current_time():\n",
    "    \"\"\"Returns the current time in Toronto.\"\"\"\n",
    "    now = datetime.now(pytz.timezone('Canada/Eastern'))\n",
    "    current_time = now.strftime(\"%d_%m_%Y__%H_%M_%S\")\n",
    "    return current_time\n",
    "\n",
    "\n",
    "print(\"Utility functions created!\")"
   ]
  },
  {
   "cell_type": "code",
   "execution_count": 32,
   "metadata": {
    "execution": {
     "iopub.execute_input": "2025-04-08T13:07:07.724751Z",
     "iopub.status.busy": "2025-04-08T13:07:07.724473Z",
     "iopub.status.idle": "2025-04-08T13:07:07.747334Z",
     "shell.execute_reply": "2025-04-08T13:07:07.746126Z",
     "shell.execute_reply.started": "2025-04-08T13:07:07.724727Z"
    },
    "trusted": true
   },
   "outputs": [
    {
     "data": {
      "text/plain": [
       "2.5"
      ]
     },
     "execution_count": 32,
     "metadata": {},
     "output_type": "execute_result"
    }
   ],
   "source": [
    "get_torch_version()"
   ]
  },
  {
   "cell_type": "code",
   "execution_count": 33,
   "metadata": {
    "execution": {
     "iopub.execute_input": "2025-04-08T13:07:07.749829Z",
     "iopub.status.busy": "2025-04-08T13:07:07.749559Z",
     "iopub.status.idle": "2025-04-08T13:07:07.768464Z",
     "shell.execute_reply": "2025-04-08T13:07:07.767521Z",
     "shell.execute_reply.started": "2025-04-08T13:07:07.749807Z"
    },
    "trusted": true
   },
   "outputs": [
    {
     "name": "stdout",
     "output_type": "stream",
     "text": [
      "seed 42 set!\n"
     ]
    }
   ],
   "source": [
    "set_seed(42)"
   ]
  },
  {
   "cell_type": "code",
   "execution_count": 34,
   "metadata": {
    "execution": {
     "iopub.execute_input": "2025-04-08T13:07:07.770410Z",
     "iopub.status.busy": "2025-04-08T13:07:07.770086Z",
     "iopub.status.idle": "2025-04-08T13:07:07.788985Z",
     "shell.execute_reply": "2025-04-08T13:07:07.788056Z",
     "shell.execute_reply.started": "2025-04-08T13:07:07.770384Z"
    },
    "trusted": true
   },
   "outputs": [
    {
     "data": {
      "text/plain": [
       "'cpu'"
      ]
     },
     "execution_count": 34,
     "metadata": {},
     "output_type": "execute_result"
    }
   ],
   "source": [
    "device = \"cuda\" if torch.cuda.is_available() else \"cpu\"\n",
    "device"
   ]
  },
  {
   "cell_type": "markdown",
   "metadata": {},
   "source": [
    "#### **Problems with a simple autoencoder**\n",
    "\n",
    "- Sampled images might not be valid (or realistic):\n",
    "    - Simple autoencoders will try to push away the training points in the latent space as far apart as possible. This is because the loss function of the autoencoder is based on the reconstruction error, and the model will try to minimize this error by pushing the points away from each other.\n",
    "    - When we sample a point from the latent space, it might not be a valid point, and the decoder might not be able to generate a realistic image from it.\n",
    "- New variations of the data are not possible:\n",
    "    - Since we don't know the distribution of the data in the latent space, we can't sample new points from it. We can only sample the points that are present in the training set.\n",
    "    - So, a simple autoencoder memorizes the *mapping* of the training data to the latent space, but it doesn't learn the *distribution* of the data in the latent space. "
   ]
  },
  {
   "cell_type": "markdown",
   "metadata": {},
   "source": [
    "#### **How does a Variational Autoencoder (VAE) solve these problems?**\n",
    "\n",
    "- **VAE learns the distribution of the data in the latent space**:\n",
    "    - VAE assumes that the data in the latent space follows a Gaussian distribution. This assumption allows us to sample new points from the latent space. So, instead of returning a single point only, the encoder now returns the mean $\\mu$ and the log of variance $\\text{log}(\\sigma^2)$ of the distribution of that point. \n",
    "- **VAE generates new data points**:\n",
    "    - Since we know the distribution of the data in the latent space, we can sample new points from it and generate new data points using the decoder.\n",
    "- **VAE generates realistic images**:\n",
    "    - The decoder of the VAE is trained to generate realistic images from the points sampled from the latent space. This is because the loss function of the VAE is based on the reconstruction error and the KL divergence between the distribution of the data in the latent space and the Gaussian distribution."
   ]
  },
  {
   "cell_type": "markdown",
   "metadata": {},
   "source": [
    "<figure>\n",
    "  <div style=\"display: flex; justify-content: center; gap: 2rem;\">\n",
    "    <div style=\"text-align: center;\">\n",
    "      <img\n",
    "        src=\"https://media.datacamp.com/cms/google/ad_4nxcqhvplhhjejvesie9iz9uurrlrzs3z5czb1pyo0kdq6ydkq-1votcagezdamobl7to7k4rlazhf9hcjcnbleocqytyrc4rjv65zxujw2vha6fjpmi3tvzxhchensesn2q6kgnlj1hcpdnbutpjg0rxru0.png\" width=\"600\"\n",
    "        alt=\"Simple Autoencoder architecture\"\n",
    "      />\n",
    "      <p style=\"text-align: center;\"><strong>Simple Autoencoder architecture</strong></p>\n",
    "    </div>\n",
    "    <div style=\"text-align: center;\">\n",
    "      <img\n",
    "        src=\"https://media.datacamp.com/cms/google/ad_4nxdmkiee_ttomnlm7hbv3hfw8pi5u9_hcoj_n8dvdnarca2ljdmh8nwvm4icp4vt1kieguzhmzosaqh3vul3ysb14_yuht8ero0wxwnd1ctv9ghlkmzpy8z5mhbi4ve4342i-_cks5gumhjt64ybkpbz0l-o.png\" width=\"720\"\n",
    "        alt=\"Variational Autoencoder architecture\"\n",
    "      />\n",
    "      <p style=\"text-align: center;\"><strong>Variational Autoencoder architecture</strong></p>\n",
    "    </div>\n",
    "  </div>\n",
    "  <figcaption style=\"text-align: center; margin-top: 1rem;\">\n",
    "    <strong>Source:</strong> <a href=\"https://www.datacamp.com/tutorial/variational-autoencoders\">Datacamp</a>\n",
    "  </figcaption>\n",
    "</figure>\n"
   ]
  },
  {
   "cell_type": "markdown",
   "metadata": {},
   "source": [
    "Workflow of VAE for a single input datapoint $x$:\n",
    "1. Send input point $x$ to the encoder.\n",
    "2. The encoder returns the parameters (mean $\\mu$ and log of variance $\\text{log}(\\sigma^2)$) of the distribution of the point $x$, instead of the point itself.\n",
    "3. By reparameterization trick, calculate: $z = \\mu + \\sigma \\cdot \\varepsilon$, where $\\varepsilon \\in \\mathcal{N}(0,1)$.\n",
    "4. Send $z$ to the decoder to get a generated data point.\n",
    "5. Calculate ELBO by using $x, z, \\mu, \\text{log}(\\sigma^2)$."
   ]
  },
  {
   "cell_type": "code",
   "execution_count": 35,
   "metadata": {
    "execution": {
     "iopub.execute_input": "2025-04-08T13:07:07.790301Z",
     "iopub.status.busy": "2025-04-08T13:07:07.789973Z",
     "iopub.status.idle": "2025-04-08T13:07:07.917131Z",
     "shell.execute_reply": "2025-04-08T13:07:07.916232Z",
     "shell.execute_reply.started": "2025-04-08T13:07:07.790275Z"
    },
    "trusted": true
   },
   "outputs": [],
   "source": [
    "transform = transforms.Compose(\n",
    "    [transforms.ToTensor(),\n",
    "     transforms.Normalize((0.5), (0.5)),\n",
    "     transforms.Resize((32, 32))\n",
    "    ])\n",
    "\n",
    "batch_size = 128\n",
    "\n",
    "train_dataset = torchvision.datasets.FashionMNIST(root='./', train=True, download=True, transform=transform)\n",
    "train_loader = torch.utils.data.DataLoader(train_dataset, batch_size=batch_size, shuffle=True)\n",
    "\n",
    "valid_dataset = torchvision.datasets.FashionMNIST(root='./', train=False, download=True, transform=transform)\n",
    "valid_loader = torch.utils.data.DataLoader(valid_dataset, batch_size=batch_size, shuffle=False)\n",
    "\n",
    "classes = ('T-shirt', 'Trouser', 'Pullover', 'Dress', 'Coat', 'Sandal', 'Shirt', 'Sneaker', 'Bag', 'Ankle Boot')"
   ]
  },
  {
   "cell_type": "code",
   "execution_count": 36,
   "metadata": {
    "execution": {
     "iopub.execute_input": "2025-04-08T13:07:07.918475Z",
     "iopub.status.busy": "2025-04-08T13:07:07.918065Z",
     "iopub.status.idle": "2025-04-08T13:07:07.924755Z",
     "shell.execute_reply": "2025-04-08T13:07:07.923881Z",
     "shell.execute_reply.started": "2025-04-08T13:07:07.918438Z"
    },
    "trusted": true
   },
   "outputs": [
    {
     "name": "stdout",
     "output_type": "stream",
     "text": [
      "length of train_dataset: 60000\n",
      "length of valid_dataset: 10000\n"
     ]
    }
   ],
   "source": [
    "print(\"length of train_dataset:\", len(train_dataset))\n",
    "print(\"length of valid_dataset:\", len(valid_dataset))"
   ]
  },
  {
   "cell_type": "code",
   "execution_count": 37,
   "metadata": {
    "execution": {
     "iopub.execute_input": "2025-04-08T13:07:07.925861Z",
     "iopub.status.busy": "2025-04-08T13:07:07.925579Z",
     "iopub.status.idle": "2025-04-08T13:07:07.946347Z",
     "shell.execute_reply": "2025-04-08T13:07:07.945487Z",
     "shell.execute_reply.started": "2025-04-08T13:07:07.925829Z"
    },
    "trusted": true
   },
   "outputs": [
    {
     "name": "stdout",
     "output_type": "stream",
     "text": [
      "2\n",
      "input shape:\t torch.Size([1, 32, 32])\n",
      "label:\t\t 9\n"
     ]
    }
   ],
   "source": [
    "print(len(train_dataset[0]))\n",
    "print(\"input shape:\\t\", train_dataset[0][0].shape)\n",
    "print(\"label:\\t\\t\", train_dataset[0][1])"
   ]
  },
  {
   "cell_type": "code",
   "execution_count": 38,
   "metadata": {
    "execution": {
     "iopub.execute_input": "2025-04-08T13:07:07.947601Z",
     "iopub.status.busy": "2025-04-08T13:07:07.947335Z",
     "iopub.status.idle": "2025-04-08T13:07:11.604223Z",
     "shell.execute_reply": "2025-04-08T13:07:11.603207Z",
     "shell.execute_reply.started": "2025-04-08T13:07:07.947578Z"
    },
    "trusted": true
   },
   "outputs": [
    {
     "data": {
      "image/png": "[encoded data removed]",
      "text/plain": [
       "<Figure size 1200x1600 with 64 Axes>"
      ]
     },
     "metadata": {},
     "output_type": "display_data"
    }
   ],
   "source": [
    "def visualize_data():\n",
    "    nrows = 8\n",
    "    ncols = 8\n",
    "    indices = np.random.randint(low=0, high=60000, size=nrows*ncols).reshape(nrows,ncols)\n",
    "    fig, ax = plt.subplots(nrows, ncols, figsize=(12,16))\n",
    "    for i in range(nrows):\n",
    "        for j in range(ncols):\n",
    "            idx = indices[i][j]\n",
    "            img = train_dataset[idx][0]\n",
    "            img = img/2 + 0.5   # unnormalize (makes the image better looking)\n",
    "            npimg = img.numpy()\n",
    "            npimg = np.transpose(npimg, (1,2,0))\n",
    "            label = classes[train_dataset[idx][1]]\n",
    "            ax[i,j].imshow(npimg, cmap=\"gray\")\n",
    "            ax[i,j].set_title(label, fontsize=8)\n",
    "            ax[i,j].axis(\"off\")\n",
    "\n",
    "\n",
    "visualize_data()"
   ]
  },
  {
   "cell_type": "code",
   "execution_count": 39,
   "metadata": {
    "execution": {
     "iopub.execute_input": "2025-04-08T13:07:11.606912Z",
     "iopub.status.busy": "2025-04-08T13:07:11.606613Z",
     "iopub.status.idle": "2025-04-08T13:07:11.661209Z",
     "shell.execute_reply": "2025-04-08T13:07:11.660200Z",
     "shell.execute_reply.started": "2025-04-08T13:07:11.606884Z"
    },
    "trusted": true
   },
   "outputs": [
    {
     "data": {
      "text/plain": [
       "torch.Size([1, 32, 32])"
      ]
     },
     "execution_count": 39,
     "metadata": {},
     "output_type": "execute_result"
    }
   ],
   "source": [
    "def get_single_img():\n",
    "    \"\"\"\n",
    "    Returns a single image as a numpy array.\n",
    "    \"\"\"\n",
    "    dataiter = iter(train_loader)\n",
    "    images, labels = next(dataiter)\n",
    "    img = images[0]\n",
    "    img = img/2 + 0.5   # unnormalize (makes the image better looking)\n",
    "    return img\n",
    "\n",
    "get_single_img().shape"
   ]
  },
  {
   "cell_type": "code",
   "execution_count": 40,
   "metadata": {
    "execution": {
     "iopub.execute_input": "2025-04-08T13:07:11.663042Z",
     "iopub.status.busy": "2025-04-08T13:07:11.662666Z",
     "iopub.status.idle": "2025-04-08T13:07:11.939304Z",
     "shell.execute_reply": "2025-04-08T13:07:11.938168Z",
     "shell.execute_reply.started": "2025-04-08T13:07:11.663005Z"
    },
    "trusted": true
   },
   "outputs": [
    {
     "name": "stdout",
     "output_type": "stream",
     "text": [
      "freed up some memory!\n"
     ]
    }
   ],
   "source": [
    "# use this code to free up gpu memory\n",
    "gc.collect()\n",
    "torch.cuda.empty_cache()\n",
    "print(\"freed up some memory!\")"
   ]
  },
  {
   "cell_type": "code",
   "execution_count": 41,
   "metadata": {
    "execution": {
     "iopub.execute_input": "2025-04-08T13:07:11.940659Z",
     "iopub.status.busy": "2025-04-08T13:07:11.940356Z",
     "iopub.status.idle": "2025-04-08T13:07:11.961986Z",
     "shell.execute_reply": "2025-04-08T13:07:11.960917Z",
     "shell.execute_reply.started": "2025-04-08T13:07:11.940633Z"
    },
    "trusted": true
   },
   "outputs": [],
   "source": [
    "class Encoder(nn.Module):\n",
    "    def __init__(self, latent_dim=32):\n",
    "        super(Encoder, self).__init__()\n",
    "        self.conv1 = nn.Conv2d(in_channels=1, out_channels=32, kernel_size=(3,3),\n",
    "                               stride=2, padding=(1,1))\n",
    "        self.conv2 = nn.Conv2d(in_channels=32, out_channels=64, kernel_size=(3,3),\n",
    "                               stride=2, padding=(1,1))\n",
    "        self.conv3 = nn.Conv2d(in_channels=64, out_channels=128, kernel_size=(3,3),\n",
    "                               stride=2, padding=(1,1))\n",
    "        self.lin1 = nn.Linear(2048, 1024)    # to get the value 2048, just check the shape of x after torch.flatten\n",
    "        self.lin2 = nn.Linear(1024, 512)\n",
    "        self.lin3 = nn.Linear(512, 128)\n",
    "        self.dropout1 = nn.Dropout2d(p=0.3)\n",
    "        self.dropout2 = nn.Dropout(p=0.3)\n",
    "        self.bnorm1 = nn.BatchNorm2d(32)\n",
    "        self.bnorm2 = nn.BatchNorm2d(128)\n",
    "        self.bnorm3 = nn.BatchNorm1d(1024)\n",
    "        self.bnorm4 = nn.BatchNorm1d(128)\n",
    "        self.mu = nn.Sequential(\n",
    "            nn.Linear(128, 64),\n",
    "            nn.ReLU(),\n",
    "            nn.Linear(64, latent_dim)\n",
    "        )\n",
    "        self.logvar = nn.Sequential(\n",
    "            nn.Linear(128, 64),\n",
    "            nn.ReLU(),\n",
    "            nn.Linear(64, latent_dim)\n",
    "        )\n",
    "\n",
    "    def forward(self, x):\n",
    "        x = self.bnorm1(F.relu(self.conv1(x)))\n",
    "        x = self.dropout1(F.relu(self.conv2(x)))\n",
    "        x = self.bnorm2(F.relu(self.conv3(x)))\n",
    "        x = torch.flatten(x, 1)   # flatten all dimensions except batch\n",
    "        x = self.bnorm3(F.relu(self.lin1(x)))\n",
    "        x = self.dropout2(F.relu(self.lin2(x)))\n",
    "        x = self.bnorm4(F.relu(self.lin3(x)))\n",
    "        mu = self.mu(x)\n",
    "        logvar = self.logvar(x)\n",
    "        return mu, logvar\n"
   ]
  },
  {
   "cell_type": "code",
   "execution_count": 42,
   "metadata": {
    "execution": {
     "iopub.execute_input": "2025-04-08T13:07:11.963251Z",
     "iopub.status.busy": "2025-04-08T13:07:11.962982Z",
     "iopub.status.idle": "2025-04-08T13:07:12.018726Z",
     "shell.execute_reply": "2025-04-08T13:07:12.017738Z",
     "shell.execute_reply.started": "2025-04-08T13:07:11.963221Z"
    },
    "trusted": true
   },
   "outputs": [
    {
     "data": {
      "text/plain": [
       "========================================================================================================================\n",
       "Layer (type (var_name))                  Input Shape          Output Shape         Param #              Trainable\n",
       "========================================================================================================================\n",
       "Encoder (Encoder)                        [1, 1, 32, 32]       [1, 32]              --                   True\n",
       "├─Conv2d (conv1)                         [1, 1, 32, 32]       [1, 32, 16, 16]      320                  True\n",
       "├─BatchNorm2d (bnorm1)                   [1, 32, 16, 16]      [1, 32, 16, 16]      64                   True\n",
       "├─Conv2d (conv2)                         [1, 32, 16, 16]      [1, 64, 8, 8]        18,496               True\n",
       "├─Dropout2d (dropout1)                   [1, 64, 8, 8]        [1, 64, 8, 8]        --                   --\n",
       "├─Conv2d (conv3)                         [1, 64, 8, 8]        [1, 128, 4, 4]       73,856               True\n",
       "├─BatchNorm2d (bnorm2)                   [1, 128, 4, 4]       [1, 128, 4, 4]       256                  True\n",
       "├─Linear (lin1)                          [1, 2048]            [1, 1024]            2,098,176            True\n",
       "├─BatchNorm1d (bnorm3)                   [1, 1024]            [1, 1024]            2,048                True\n",
       "├─Linear (lin2)                          [1, 1024]            [1, 512]             524,800              True\n",
       "├─Dropout (dropout2)                     [1, 512]             [1, 512]             --                   --\n",
       "├─Linear (lin3)                          [1, 512]             [1, 128]             65,664               True\n",
       "├─BatchNorm1d (bnorm4)                   [1, 128]             [1, 128]             256                  True\n",
       "├─Sequential (mu)                        [1, 128]             [1, 32]              --                   True\n",
       "│    └─Linear (0)                        [1, 128]             [1, 64]              8,256                True\n",
       "│    └─ReLU (1)                          [1, 64]              [1, 64]              --                   --\n",
       "│    └─Linear (2)                        [1, 64]              [1, 32]              2,080                True\n",
       "├─Sequential (logvar)                    [1, 128]             [1, 32]              --                   True\n",
       "│    └─Linear (0)                        [1, 128]             [1, 64]              8,256                True\n",
       "│    └─ReLU (1)                          [1, 64]              [1, 64]              --                   --\n",
       "│    └─Linear (2)                        [1, 64]              [1, 32]              2,080                True\n",
       "========================================================================================================================\n",
       "Total params: 2,804,608\n",
       "Trainable params: 2,804,608\n",
       "Non-trainable params: 0\n",
       "Total mult-adds (M): 5.16\n",
       "========================================================================================================================\n",
       "Input size (MB): 0.00\n",
       "Forward/backward pass size (MB): 0.22\n",
       "Params size (MB): 11.22\n",
       "Estimated Total Size (MB): 11.44\n",
       "========================================================================================================================"
      ]
     },
     "execution_count": 42,
     "metadata": {},
     "output_type": "execute_result"
    }
   ],
   "source": [
    "summary(model=Encoder(32), input_size=(1,1,32,32), \n",
    "        col_names=[\"input_size\", \"output_size\", \"num_params\", \"trainable\"],\n",
    "        col_width=20, row_settings=[\"var_names\"])"
   ]
  },
  {
   "cell_type": "code",
   "execution_count": 43,
   "metadata": {
    "execution": {
     "iopub.execute_input": "2025-04-08T13:07:12.020015Z",
     "iopub.status.busy": "2025-04-08T13:07:12.019685Z",
     "iopub.status.idle": "2025-04-08T13:07:12.127441Z",
     "shell.execute_reply": "2025-04-08T13:07:12.126296Z",
     "shell.execute_reply.started": "2025-04-08T13:07:12.019987Z"
    },
    "trusted": true
   },
   "outputs": [
    {
     "name": "stdout",
     "output_type": "stream",
     "text": [
      "torch.Size([128, 1, 32, 32])\n",
      "torch.Size([128])\n",
      "torch.Size([128, 32])\n",
      "torch.Size([128, 32])\n"
     ]
    }
   ],
   "source": [
    "def fn():\n",
    "    model = Encoder(32).to(device)\n",
    "    for X,y in train_loader:\n",
    "        X = X.to(device)\n",
    "        y = y.to(device)\n",
    "        print(X.shape)\n",
    "        print(y.shape)\n",
    "        mu, logvar = model(X)\n",
    "        print(mu.shape, logvar.shape, sep='\\n')\n",
    "        break\n",
    "    \n",
    "\n",
    "fn()"
   ]
  },
  {
   "cell_type": "code",
   "execution_count": 44,
   "metadata": {
    "execution": {
     "iopub.execute_input": "2025-04-08T13:07:12.128973Z",
     "iopub.status.busy": "2025-04-08T13:07:12.128648Z",
     "iopub.status.idle": "2025-04-08T13:07:12.286099Z",
     "shell.execute_reply": "2025-04-08T13:07:12.285168Z",
     "shell.execute_reply.started": "2025-04-08T13:07:12.128918Z"
    },
    "trusted": true
   },
   "outputs": [
    {
     "name": "stdout",
     "output_type": "stream",
     "text": [
      "freed up some memory!\n"
     ]
    }
   ],
   "source": [
    "# use this code to free up gpu memory\n",
    "gc.collect()\n",
    "torch.cuda.empty_cache()\n",
    "print(\"freed up some memory!\")"
   ]
  },
  {
   "cell_type": "code",
   "execution_count": 55,
   "metadata": {
    "execution": {
     "iopub.execute_input": "2025-04-08T13:33:08.734574Z",
     "iopub.status.busy": "2025-04-08T13:33:08.734116Z",
     "iopub.status.idle": "2025-04-08T13:33:08.748262Z",
     "shell.execute_reply": "2025-04-08T13:33:08.746835Z",
     "shell.execute_reply.started": "2025-04-08T13:33:08.734536Z"
    },
    "trusted": true
   },
   "outputs": [],
   "source": [
    "class Decoder(nn.Module):\n",
    "    def __init__(self, latent_dim=32):\n",
    "        super(Decoder, self).__init__()\n",
    "        self.lin1 = nn.Linear(latent_dim, 128)\n",
    "        self.lin2 = nn.Linear(128, 2048)\n",
    "        self.convt1 = nn.ConvTranspose2d(in_channels=128, out_channels=128, \n",
    "                                         kernel_size=(3,3), stride=2, padding=(1,1),\n",
    "                                         output_padding=(1,1))\n",
    "        self.convt2 = nn.ConvTranspose2d(in_channels=128, out_channels=64,\n",
    "                                         kernel_size=(3,3), stride=2, padding=(1,1),\n",
    "                                         output_padding=(1,1))\n",
    "        self.convt3 = nn.ConvTranspose2d(in_channels=64, out_channels=32, \n",
    "                                         kernel_size=(3,3), stride=2, padding=(1,1),\n",
    "                                         output_padding=(1,1))\n",
    "        self.conv1 = nn.Conv2d(in_channels=32, out_channels=1, kernel_size=(3,3),\n",
    "                               stride=1, padding=\"same\")\n",
    "        self.dropout = nn.Dropout2d(p=0.3)\n",
    "        self.bnorm1 = nn.BatchNorm1d(128)\n",
    "        self.bnorm2 = nn.BatchNorm2d(128)\n",
    "        self.bnorm3 = nn.BatchNorm2d(32)\n",
    "\n",
    "    def forward(self, x):\n",
    "        x = self.bnorm1(F.relu(self.lin1(x)))\n",
    "        x = F.relu(self.lin2(x))\n",
    "        x = x.view(-1, 128, 4, 4)     # we get 4 after dividing 2048 by (128 * batch_size * 2)\n",
    "        x = self.bnorm2(F.relu(self.convt1(x)))        \n",
    "        x = self.dropout(F.relu(self.convt2(x)))\n",
    "        x = self.bnorm3(F.relu(self.convt3(x)))\n",
    "        x = F.sigmoid(self.conv1(x))\n",
    "        return x\n",
    "        "
   ]
  },
  {
   "cell_type": "code",
   "execution_count": 56,
   "metadata": {
    "execution": {
     "iopub.execute_input": "2025-04-08T13:33:08.986262Z",
     "iopub.status.busy": "2025-04-08T13:33:08.985907Z",
     "iopub.status.idle": "2025-04-08T13:33:09.003757Z",
     "shell.execute_reply": "2025-04-08T13:33:09.002734Z",
     "shell.execute_reply.started": "2025-04-08T13:33:08.986233Z"
    },
    "trusted": true
   },
   "outputs": [
    {
     "data": {
      "text/plain": [
       "========================================================================================================================\n",
       "Layer (type (var_name))                  Input Shape          Output Shape         Param #              Trainable\n",
       "========================================================================================================================\n",
       "Decoder (Decoder)                        [1, 32]              [1, 1, 32, 32]       --                   True\n",
       "├─Linear (lin1)                          [1, 32]              [1, 128]             4,224                True\n",
       "├─BatchNorm1d (bnorm1)                   [1, 128]             [1, 128]             256                  True\n",
       "├─Linear (lin2)                          [1, 128]             [1, 2048]            264,192              True\n",
       "├─ConvTranspose2d (convt1)               [1, 128, 4, 4]       [1, 128, 8, 8]       147,584              True\n",
       "├─BatchNorm2d (bnorm2)                   [1, 128, 8, 8]       [1, 128, 8, 8]       256                  True\n",
       "├─ConvTranspose2d (convt2)               [1, 128, 8, 8]       [1, 64, 16, 16]      73,792               True\n",
       "├─Dropout2d (dropout)                    [1, 64, 16, 16]      [1, 64, 16, 16]      --                   --\n",
       "├─ConvTranspose2d (convt3)               [1, 64, 16, 16]      [1, 32, 32, 32]      18,464               True\n",
       "├─BatchNorm2d (bnorm3)                   [1, 32, 32, 32]      [1, 32, 32, 32]      64                   True\n",
       "├─Conv2d (conv1)                         [1, 32, 32, 32]      [1, 1, 32, 32]       289                  True\n",
       "========================================================================================================================\n",
       "Total params: 509,121\n",
       "Trainable params: 509,121\n",
       "Non-trainable params: 0\n",
       "Total mult-adds (M): 47.81\n",
       "========================================================================================================================\n",
       "Input size (MB): 0.00\n",
       "Forward/backward pass size (MB): 0.81\n",
       "Params size (MB): 2.04\n",
       "Estimated Total Size (MB): 2.85\n",
       "========================================================================================================================"
      ]
     },
     "execution_count": 56,
     "metadata": {},
     "output_type": "execute_result"
    }
   ],
   "source": [
    "summary(model=Decoder(32), input_size=(1,32), \n",
    "        col_names=[\"input_size\", \"output_size\", \"num_params\", \"trainable\"],\n",
    "        col_width=20, row_settings=[\"var_names\"])"
   ]
  },
  {
   "cell_type": "code",
   "execution_count": 57,
   "metadata": {
    "execution": {
     "iopub.execute_input": "2025-04-08T13:33:10.791757Z",
     "iopub.status.busy": "2025-04-08T13:33:10.791410Z",
     "iopub.status.idle": "2025-04-08T13:33:10.998518Z",
     "shell.execute_reply": "2025-04-08T13:33:10.997647Z",
     "shell.execute_reply.started": "2025-04-08T13:33:10.791722Z"
    },
    "trusted": true
   },
   "outputs": [
    {
     "name": "stdout",
     "output_type": "stream",
     "text": [
      "mu.shape:\t\t torch.Size([128, 32])\n",
      "logvar.shape:\t\t torch.Size([128, 32])\n",
      "dec_output.shape:\t torch.Size([128, 1, 32, 32])\n"
     ]
    }
   ],
   "source": [
    "def fn():\n",
    "    latent_dim = 32\n",
    "    encoder = Encoder(latent_dim).to(device)\n",
    "    decoder = Decoder(latent_dim).to(device)\n",
    "    for X,y in train_loader:\n",
    "        X = X.to(device)\n",
    "        y = y.to(device)\n",
    "        mu, logvar = encoder(X)\n",
    "        print(\"mu.shape:\\t\\t\", mu.shape)\n",
    "        print(\"logvar.shape:\\t\\t\", logvar.shape)\n",
    "        sigma = torch.exp(0.5 * logvar)\n",
    "        epsilon = torch.randn_like(sigma)\n",
    "        z = mu + logvar*epsilon\n",
    "        dec_output = decoder(z)\n",
    "        print(\"dec_output.shape:\\t\", dec_output.shape)\n",
    "        break\n",
    "\n",
    "\n",
    "fn()"
   ]
  },
  {
   "cell_type": "code",
   "execution_count": 58,
   "metadata": {
    "execution": {
     "iopub.execute_input": "2025-04-08T13:33:14.488708Z",
     "iopub.status.busy": "2025-04-08T13:33:14.488366Z",
     "iopub.status.idle": "2025-04-08T13:33:14.648785Z",
     "shell.execute_reply": "2025-04-08T13:33:14.647804Z",
     "shell.execute_reply.started": "2025-04-08T13:33:14.488680Z"
    },
    "trusted": true
   },
   "outputs": [
    {
     "name": "stdout",
     "output_type": "stream",
     "text": [
      "freed up some memory!\n"
     ]
    }
   ],
   "source": [
    "# use this code to free up gpu memory\n",
    "gc.collect()\n",
    "torch.cuda.empty_cache()\n",
    "print(\"freed up some memory!\")"
   ]
  },
  {
   "cell_type": "markdown",
   "metadata": {},
   "source": [
    "Workflow of VAE:\n",
    "\n",
    "- Input is image $x$\n",
    "- $\\mu, \\, \\log_e \\sigma^2 \\; = \\; \\text{Encoder}(x)$\n",
    "- $z = \\mu + \\sigma \\cdot \\varepsilon$, where $\\varepsilon \\in \\mathcal{N}(0,1) \\qquad \\rightarrow \\quad \\text{reparameterization trick}$\n",
    "- $\\text{Generated image} \\; = \\; \\text{Decoder}(z)$"
   ]
  },
  {
   "cell_type": "markdown",
   "metadata": {},
   "source": [
    "\\begin{align*}\n",
    "\\text{log}_e \\, \\sigma^2 & \\; = \\; \\text{logvar} \\\\\n",
    "\\sigma^2 & \\; = \\; e^{\\text{logvar}} \\\\\n",
    "\\sigma & \\; = \\; \\sqrt{e^{\\text{logvar}}} \\\\ \\\\\n",
    "\\therefore \\;\\; \\sigma & \\; = \\; e^{0.5 \\times \\text{logvar}} \\\\ \n",
    "\\end{align*}"
   ]
  },
  {
   "cell_type": "code",
   "execution_count": 59,
   "metadata": {
    "execution": {
     "iopub.execute_input": "2025-04-08T13:33:17.001376Z",
     "iopub.status.busy": "2025-04-08T13:33:17.001029Z",
     "iopub.status.idle": "2025-04-08T13:33:17.007315Z",
     "shell.execute_reply": "2025-04-08T13:33:17.006037Z",
     "shell.execute_reply.started": "2025-04-08T13:33:17.001346Z"
    },
    "trusted": true
   },
   "outputs": [],
   "source": [
    "class Variational_Autoencoder(nn.Module):\n",
    "    def __init__(self, latent_dim=32):\n",
    "        super(Variational_Autoencoder, self).__init__()\n",
    "        self.encoder = Encoder(latent_dim)\n",
    "        self.decoder = Decoder(latent_dim)\n",
    "\n",
    "    def reparameterize(self, mu, logvar):\n",
    "        sigma = torch.exp(0.5 * logvar)   # standard deviation\n",
    "        epsilon = torch.randn_like(sigma)\n",
    "        z = mu + sigma * epsilon\n",
    "        return z\n",
    "\n",
    "    def forward(self, x):\n",
    "        mu, logvar = self.encoder(x)\n",
    "        z = self.reparameterize(mu, logvar)\n",
    "        output = self.decoder(z)\n",
    "        return output\n",
    "        "
   ]
  },
  {
   "cell_type": "code",
   "execution_count": 60,
   "metadata": {
    "execution": {
     "iopub.execute_input": "2025-04-08T13:33:17.408609Z",
     "iopub.status.busy": "2025-04-08T13:33:17.408259Z",
     "iopub.status.idle": "2025-04-08T13:33:17.453991Z",
     "shell.execute_reply": "2025-04-08T13:33:17.452975Z",
     "shell.execute_reply.started": "2025-04-08T13:33:17.408575Z"
    },
    "trusted": true
   },
   "outputs": [
    {
     "data": {
      "text/plain": [
       "==================================================================================================================================\n",
       "Layer (type (var_name))                            Input Shape          Output Shape         Param #              Trainable\n",
       "==================================================================================================================================\n",
       "Variational_Autoencoder (Variational_Autoencoder)  [1, 1, 32, 32]       [1, 1, 32, 32]       --                   True\n",
       "├─Encoder (encoder)                                [1, 1, 32, 32]       [1, 32]              --                   True\n",
       "│    └─Conv2d (conv1)                              [1, 1, 32, 32]       [1, 32, 16, 16]      320                  True\n",
       "│    └─BatchNorm2d (bnorm1)                        [1, 32, 16, 16]      [1, 32, 16, 16]      64                   True\n",
       "│    └─Conv2d (conv2)                              [1, 32, 16, 16]      [1, 64, 8, 8]        18,496               True\n",
       "│    └─Dropout2d (dropout1)                        [1, 64, 8, 8]        [1, 64, 8, 8]        --                   --\n",
       "│    └─Conv2d (conv3)                              [1, 64, 8, 8]        [1, 128, 4, 4]       73,856               True\n",
       "│    └─BatchNorm2d (bnorm2)                        [1, 128, 4, 4]       [1, 128, 4, 4]       256                  True\n",
       "│    └─Linear (lin1)                               [1, 2048]            [1, 1024]            2,098,176            True\n",
       "│    └─BatchNorm1d (bnorm3)                        [1, 1024]            [1, 1024]            2,048                True\n",
       "│    └─Linear (lin2)                               [1, 1024]            [1, 512]             524,800              True\n",
       "│    └─Dropout (dropout2)                          [1, 512]             [1, 512]             --                   --\n",
       "│    └─Linear (lin3)                               [1, 512]             [1, 128]             65,664               True\n",
       "│    └─BatchNorm1d (bnorm4)                        [1, 128]             [1, 128]             256                  True\n",
       "│    └─Sequential (mu)                             [1, 128]             [1, 32]              --                   True\n",
       "│    │    └─Linear (0)                             [1, 128]             [1, 64]              8,256                True\n",
       "│    │    └─ReLU (1)                               [1, 64]              [1, 64]              --                   --\n",
       "│    │    └─Linear (2)                             [1, 64]              [1, 32]              2,080                True\n",
       "│    └─Sequential (logvar)                         [1, 128]             [1, 32]              --                   True\n",
       "│    │    └─Linear (0)                             [1, 128]             [1, 64]              8,256                True\n",
       "│    │    └─ReLU (1)                               [1, 64]              [1, 64]              --                   --\n",
       "│    │    └─Linear (2)                             [1, 64]              [1, 32]              2,080                True\n",
       "├─Decoder (decoder)                                [1, 32]              [1, 1, 32, 32]       --                   True\n",
       "│    └─Linear (lin1)                               [1, 32]              [1, 128]             4,224                True\n",
       "│    └─BatchNorm1d (bnorm1)                        [1, 128]             [1, 128]             256                  True\n",
       "│    └─Linear (lin2)                               [1, 128]             [1, 2048]            264,192              True\n",
       "│    └─ConvTranspose2d (convt1)                    [1, 128, 4, 4]       [1, 128, 8, 8]       147,584              True\n",
       "│    └─BatchNorm2d (bnorm2)                        [1, 128, 8, 8]       [1, 128, 8, 8]       256                  True\n",
       "│    └─ConvTranspose2d (convt2)                    [1, 128, 8, 8]       [1, 64, 16, 16]      73,792               True\n",
       "│    └─Dropout2d (dropout)                         [1, 64, 16, 16]      [1, 64, 16, 16]      --                   --\n",
       "│    └─ConvTranspose2d (convt3)                    [1, 64, 16, 16]      [1, 32, 32, 32]      18,464               True\n",
       "│    └─BatchNorm2d (bnorm3)                        [1, 32, 32, 32]      [1, 32, 32, 32]      64                   True\n",
       "│    └─Conv2d (conv1)                              [1, 32, 32, 32]      [1, 1, 32, 32]       289                  True\n",
       "==================================================================================================================================\n",
       "Total params: 3,313,729\n",
       "Trainable params: 3,313,729\n",
       "Non-trainable params: 0\n",
       "Total mult-adds (M): 52.97\n",
       "==================================================================================================================================\n",
       "Input size (MB): 0.00\n",
       "Forward/backward pass size (MB): 1.03\n",
       "Params size (MB): 13.25\n",
       "Estimated Total Size (MB): 14.29\n",
       "=================================================================================================================================="
      ]
     },
     "execution_count": 60,
     "metadata": {},
     "output_type": "execute_result"
    }
   ],
   "source": [
    "summary(model=Variational_Autoencoder(32), input_size=(1,1,32,32), \n",
    "        col_names=[\"input_size\", \"output_size\", \"num_params\", \"trainable\"],\n",
    "        col_width=20, row_settings=[\"var_names\"])"
   ]
  },
  {
   "cell_type": "code",
   "execution_count": 62,
   "metadata": {
    "execution": {
     "iopub.execute_input": "2025-04-08T13:33:33.320825Z",
     "iopub.status.busy": "2025-04-08T13:33:33.320475Z",
     "iopub.status.idle": "2025-04-08T13:33:33.527771Z",
     "shell.execute_reply": "2025-04-08T13:33:33.526851Z",
     "shell.execute_reply.started": "2025-04-08T13:33:33.320794Z"
    },
    "trusted": true
   },
   "outputs": [
    {
     "name": "stdout",
     "output_type": "stream",
     "text": [
      "output.shape:\t torch.Size([128, 1, 32, 32])\n"
     ]
    }
   ],
   "source": [
    "def fn():\n",
    "    latent_dim = 32\n",
    "    vae = Variational_Autoencoder(latent_dim).to(device)\n",
    "    for X,y in train_loader:\n",
    "        X = X.to(device)\n",
    "        y = y.to(device)\n",
    "        output = vae(X)\n",
    "        print(\"output.shape:\\t\", output.shape)\n",
    "        break\n",
    "\n",
    "\n",
    "fn()"
   ]
  },
  {
   "cell_type": "code",
   "execution_count": null,
   "metadata": {
    "trusted": true
   },
   "outputs": [],
   "source": []
  }
 ],
 "metadata": {
  "kaggle": {
   "accelerator": "none",
   "dataSources": [],
   "dockerImageVersionId": 30918,
   "isGpuEnabled": false,
   "isInternetEnabled": true,
   "language": "python",
   "sourceType": "notebook"
  },
  "kernelspec": {
   "display_name": "base",
   "language": "python",
   "name": "python3"
  },
  "language_info": {
   "codemirror_mode": {
    "name": "ipython",
    "version": 3
   },
   "file_extension": ".py",
   "mimetype": "text/x-python",
   "name": "python",
   "nbconvert_exporter": "python",
   "pygments_lexer": "ipython3",
   "version": "3.9.12"
  }
 },
 "nbformat": 4,
 "nbformat_minor": 4
}
