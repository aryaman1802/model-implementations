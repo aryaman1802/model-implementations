{
 "cells": [
  {
   "cell_type": "markdown",
   "metadata": {},
   "source": [
    "## Controllable Generation\n",
    "\n",
    "Related Paper:\n",
    "\n",
    "- [Interpreting the Latent Space of GANs for Semantic Face Editing](https://arxiv.org/pdf/1907.10786)\n",
    "\n",
    "Helpful Resource:\n",
    "- [GANs specialization on Coursera](https://www.coursera.org/specializations/generative-adversarial-networks-gans)  $\\; \\rightarrow \\;$ most of the content of this notebook has been borrowed from this course\n",
    "- [The GAN Zoo](https://github.com/hindupuravinash/the-gan-zoo)"
   ]
  },
  {
   "cell_type": "markdown",
   "metadata": {},
   "source": [
    "Controllable generation refers to modifying specific features in GAN outputs after training. It focuses on controlling features (e.g., age, hair color, sunglasses) by tweaking the input noise vector $z$. It works by feeding the modified noise vector into the generator to produce the desired output. For eg: if we want to generate an image of a woman, who originally had red hair, with blue hair, we can tweak the noise vector to achieve this. \n",
    "\n",
    "| **Conditional Generation** | **Controllable Generation** |\n",
    "|:--------------------------:|:---------------------------:|\n",
    "| Requires labeled data during training. | Does not require labeled data during training. |\n",
    "| Outputs examples from the classes we want (eg: dog, cat, etc.) | Outputs examples with the features we specified (eg: old dog, black cat, etc.). |\n",
    "| Appends a class vector to the noise vector. | Manipulates the noise vector $z$ after model has been trained. | "
   ]
  },
  {
   "cell_type": "markdown",
   "metadata": {},
   "source": [
    "#### **Vector Algebra in the Z-space**\n",
    "\n",
    "- The space in which the noise vector $z$ resides is called the Z-space.\n",
    "\n",
    "**Similarity of Noise Vectors to Word Embeddings**\n",
    "\n",
    "- We can think of the noise vector as a word embedding vector. \n",
    "- Just like how each of the different columns in a word embedding vector represent different features of a word, each of the different dimensions in the noise vector represent different features of the image that is to be generated. \n",
    "- For eg: in the case of a word embedding vector, the different columns represented features like masculine/feminine, singular/plural, etc. In the case of a noise vector, the different dimensions could represent features like hair color, age, etc.\n",
    "\n",
    "**Direction of features in Z-space**\n",
    "\n",
    "- Suppose we have two noise vectors $z_1$ and $z_2$ that produce two different outputs.\n",
    "- $z_1$ produces a woman with red hair and $z_2$ produces the same woman but with blue hair.\n",
    "- The difference between the two noise vectors $z_2$ and $z_1$ gives us the direction in which we have to move in the Z-space to modify the hair color of the images we generate.\n",
    "- This direction vector is called $d$.\n",
    "- By moving along this direction vector, we can modify the hair color of the images we generate. In other words, if we move in the direction of this direction vector the hair color of the output image will gradually change from red to blue, and we can get any shade of hair color in between by moving along this direction vector.\n",
    "- By simply adding $d$ to $z_1$, we get $z_2$. In other words, by adding a direction vector that contains the path or direction to the new feature we want to our current noise vector, we obtain the new noise vector that contains our desired feature.\n",
    "- In controllable generation, we need to find direction vectors for the features we want. This helps us produce outputs with features we want."
   ]
  },
  {
   "cell_type": "markdown",
   "metadata": {},
   "source": [
    "#### **Challenges with Controllable Generation**\n",
    "\n",
    "**Challeges**\n",
    "- Feature correlation.\n",
    "- Z-space entanglement.\n",
    "\n",
    "**Feature correlation**\n",
    "\n",
    "When different features have strongly correlated in the training dataset, it becomes difficult to control specific features without modifying the ones that are correlated to them.\n",
    "\n",
    "For eg: suppose we want to add a beard to a woman's face. Now, we would just like to add a beard and not alter anything else. If the feature containing beard is uncorrelated, then adding a beard to woman's face will do just that and not bring about any other side effects. However, if that feature is correlated with some other feature, say masculinity, then adding a beard to the woman's face will also make her face masculine. Thus, some features in training data are strongly correlated (eg: beards and masculinity). Changing one feature (eg: adding a beard) may unintentionally alter others (eg: making the face appear more masculine).\n",
    "\n",
    "![\"feature_corr\"](./imgs/control_gen_feature_corr.png \"feature_corr\")\n",
    "\n",
    "**Z-space entanglement**\n",
    "\n",
    "- Features are intertwined in \\( Z \\)-space.\n",
    "- Adjusting one feature (e.g., glasses) may also change unrelated features (e.g., hair or beard).\n",
    "- Happens when \\( Z \\)-space dimensions are too few or poorly trained.\n",
    "\n",
    "#### Causes of Challenges\n",
    "- **Dataset-related:** High correlation between features in the dataset.\n",
    "- **Model-related:** Insufficient dimensions in \\( Z \\)-space or suboptimal training.\n",
    "\n",
    "#### Summary\n",
    "- Controlling features in GANs can be difficult due to correlations in data and entanglement in \\( Z \\)-space.\n",
    "- Overcoming these issues requires better data preparation and model design."
   ]
  },
  {
   "cell_type": "markdown",
   "metadata": {},
   "source": [
    "#### **4. Classifier Gradients**\n",
    "\n",
    "##### Purpose\n",
    "- Use pre-trained classifiers to find directions in \\( Z \\)-space for controlling features post-training.\n",
    "\n",
    "#### How it Works\n",
    "1. Pass a batch of \\( Z \\)-vectors through the generator to create images.\n",
    "2. Use a pre-trained classifier to identify the presence of a feature (e.g., sunglasses).\n",
    "3. Adjust \\( Z \\)-vectors:\n",
    "   - Move in the gradient direction that increases the likelihood of the feature.\n",
    "   - Example: Penalize images without sunglasses, adjust \\( Z \\)-vectors to produce sunglasses.\n",
    "\n",
    "#### Advantages\n",
    "- Simple and efficient way to control features.\n",
    "- No need to modify the trained generator.\n",
    "\n",
    "#### Requirements\n",
    "- Access to a reliable, pre-trained classifier for the desired feature.\n",
    "- Optionally, train your own classifier if unavailable.\n",
    "\n",
    "#### Summary\n",
    "- Classifier gradients allow post-training feature control by leveraging pre-trained classifiers to adjust \\( Z \\)-vectors.\n",
    "- The method is straightforward but requires a suitable classifier."
   ]
  },
  {
   "cell_type": "markdown",
   "metadata": {},
   "source": [
    "#### **5. Disentanglement**\n",
    "\n",
    "#### Definition\n",
    "- **Entangled Z-space:** Changes in one dimension of \\( Z \\)-vector affect multiple features.\n",
    "- **Disentangled Z-space:** Each dimension corresponds to a single feature, enabling precise control.\n",
    "\n",
    "#### Importance of Disentanglement\n",
    "- Allows targeted changes:\n",
    "  - Example: Modify glasses without affecting hair or beard.\n",
    "- Simplifies feature control for continuous attributes.\n",
    "\n",
    "#### Encouraging Disentanglement\n",
    "1. **Supervised Methods:**\n",
    "   - Label data and associate specific \\( Z \\)-dimensions with features.\n",
    "   - Example: Label images by hair color or length.\n",
    "   - Limitation: Time-consuming and impractical for continuous features.\n",
    "\n",
    "2. **Unsupervised Methods:**\n",
    "   - Add regularization to the loss function during training.\n",
    "   - Encourage \\( Z \\)-dimensions to independently represent features.\n",
    "   - Advanced techniques can achieve this without labeled data.\n",
    "\n",
    "#### Summary\n",
    "- Disentangled \\( Z \\)-spaces ensure individual dimensions control specific features.\n",
    "- Supervised and unsupervised methods can help achieve disentanglement, improving controllable generation."
   ]
  },
  {
   "cell_type": "code",
   "execution_count": null,
   "metadata": {},
   "outputs": [],
   "source": []
  }
 ],
 "metadata": {
  "language_info": {
   "name": "python"
  }
 },
 "nbformat": 4,
 "nbformat_minor": 2
}
