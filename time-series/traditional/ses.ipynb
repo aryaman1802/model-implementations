{
 "cells": [
  {
   "cell_type": "markdown",
   "metadata": {},
   "source": [
    "## **Simple Exponential Smoothing (SES)**"
   ]
  },
  {
   "cell_type": "markdown",
   "metadata": {},
   "source": [
    "#### **Motivation and Context**\n",
    "\n",
    "In time series forecasting, one of the primary goals is to predict future values based on past observations. **Exponential Smoothing** is a family of methods that provide a way to weight past observations exponentially, giving more importance to recent data while still considering older data to some extent. This approach is particularly useful for data without a clear trend or seasonal pattern.\n",
    "\n",
    "**Simple Exponential Smoothing (SES)** is the most basic form of exponential smoothing. It is ideal for time series data that exhibits no trend or seasonality. SES is built upon the concept of weighted averages, where the weights decrease exponentially for older observations. This method ensures that the forecasts adapt smoothly to changes in the underlying data.\n",
    "\n",
    "Understanding SES lays the groundwork for more complex exponential smoothing methods, such as double and triple exponential smoothing, which handle trends and seasonality respectively."
   ]
  },
  {
   "cell_type": "markdown",
   "metadata": {},
   "source": [
    "##### **1. Introduction to Exponential Smoothing**\n",
    "\n",
    "Exponential Smoothing methods are widely used for time series forecasting due to their simplicity and effectiveness. The core idea is to create forecasts by taking a weighted average of past observations, where the weights decay exponentially as the observations get older. This ensures that more recent data points have a greater influence on the forecast.\n",
    "\n",
    "Mathematically, exponential smoothing can be represented as:\n",
    "\n",
    "$$S_t = \\alpha X_t + (1 - \\alpha) S_{t-1}$$\n",
    "\n",
    "where:\n",
    "- $S_t$ is the smoothed value at time $t$.\n",
    "- $X_t$ is the actual value at time $t$.\n",
    "- $\\alpha$ is the smoothing parameter ($0 \\le \\alpha \\le 1$)."
   ]
  },
  {
   "cell_type": "markdown",
   "metadata": {},
   "source": [
    "##### **2. The Two Extreme Forecasts**\n",
    "\n",
    "Before diving into SES, it's helpful to understand the two extreme forecasting methods:\n",
    "\n",
    "- **Random Walk Prediction:**  \n",
    "  $$\\hat{x}_{n+1} = x_n$$\n",
    "  \n",
    "  This method assumes that the best forecast for the next period is the last observed value. It's simple but doesn't account for any underlying patterns.\n",
    "\n",
    "- **IID (independent and identically distributed) Noise Prediction:**  \n",
    "  $$\\hat{x}_{n+1} = \\bar{x}$$\n",
    "  Here, $\\bar{x}$ is the average of all past observations. This method assumes that future values will revert to the mean, ignoring any recent changes.\n",
    "\n",
    "SES offers a balance between these extremes by weighting past observations, allowing the forecast to adapt based on recent trends without being overly reactive."
   ]
  },
  {
   "cell_type": "markdown",
   "metadata": {},
   "source": [
    "##### **3. Simple Exponential Smoothing (SES)**\n",
    "\n",
    "**SES Equation:**\n",
    "$$S_t = \\alpha X_t + (1 - \\alpha) S_{t-1}$$\n",
    "- **Smoothing Parameter ($\\alpha$)**: Determines the weight given to the most recent observation. A higher $\\alpha$ gives more weight to recent data, making the forecast more responsive to changes.\n",
    "\n",
    "**Initial Condition:**\n",
    "To start the smoothing process, an initial value $S_0$ must be set. A common approach is to set $S_0$ as the first observation:\n",
    "\n",
    "$$S_0 = X_0$$\n",
    "\n",
    "**Forecast Equation:**\n",
    "Once the smoothed value $S_t$ is computed, the forecast for the next period is simply:\n",
    "\n",
    "$$\\hat{x}_{t+1} = S_t$$\n",
    "\n",
    "This implies that the forecast is equal to the current smoothed value.\n",
    "\n",
    "**Interpretation:**\n",
    "- **Adaptability:** SES adjusts the forecast based on recent observations, making it suitable for data without trend or seasonality.\n",
    "- **Memory:** The parameter $\\alpha$ controls how much \"memory\" the model has. A smaller $\\alpha$ means the model remembers longer past data, while a larger $\\alpha$ makes it more responsive to recent changes."
   ]
  },
  {
   "cell_type": "markdown",
   "metadata": {},
   "source": [
    "##### **4. Implementing SES from Scratch in Python**"
   ]
  },
  {
   "cell_type": "code",
   "execution_count": 2,
   "metadata": {},
   "outputs": [],
   "source": [
    "import numpy as np\n",
    "import pandas as pd\n",
    "import matplotlib.pyplot as plt"
   ]
  },
  {
   "cell_type": "code",
   "execution_count": 5,
   "metadata": {},
   "outputs": [],
   "source": [
    "class SimpleExponentialSmoothing:\n",
    "    def __init__(self, alpha):\n",
    "        if not (0 < alpha <= 1):\n",
    "            raise ValueError(\"Alpha must be in the interval (0, 1].\")\n",
    "        self.alpha = alpha\n",
    "        self.fitted_values = None\n",
    "        self.level = None\n",
    "\n",
    "    def fit(self, data):\n",
    "        \"\"\"\n",
    "        Fit the SES model to the data.\n",
    "        Parameters:\n",
    "            data (array-like): Time series data.                                                                                                                                                                                            \n",
    "        \"\"\"\n",
    "        data = np.asarray(data)\n",
    "        n = len(data)\n",
    "        self.fitted_values = np.zeros(n)\n",
    "        \n",
    "        # Initialize level with the first observation\n",
    "        self.level = data[0]\n",
    "        self.fitted_values[0] = self.level\n",
    "        \n",
    "        # Recursive smoothing\n",
    "        for t in range(1, n):\n",
    "            self.level = self.alpha * data[t] + (1 - self.alpha) * self.level\n",
    "            self.fitted_values[t] = self.level\n",
    "        \n",
    "        return self\n",
    "\n",
    "    def forecast(self, steps=1):\n",
    "        \"\"\"\n",
    "        Forecast future values.\n",
    "        For SES, the forecast is constant and equal to the last level.\n",
    "        Parameters:\n",
    "            steps (int): Number of steps ahead to forecast.\n",
    "        Returns:\n",
    "            forecasts (np.array): Forecasted values.\n",
    "        \"\"\"\n",
    "        return np.full(steps, self.level)\n",
    "\n",
    "    def plot(self, data):\n",
    "        \"\"\"\n",
    "        Plot the original data and the fitted values.\n",
    "        \"\"\"\n",
    "        plt.figure(figsize=(10, 5))\n",
    "        plt.plot(data, label='Original Data')\n",
    "        plt.plot(self.fitted_values, label='SES Fitted Values', linestyle='--')\n",
    "        plt.xlabel(\"Time\")\n",
    "        plt.ylabel(\"Value\")\n",
    "        plt.title(\"Simple Exponential Smoothing\")\n",
    "        plt.legend()\n",
    "        plt.show()"
   ]
  },
  {
   "cell_type": "code",
   "execution_count": 1,
   "metadata": {},
   "outputs": [
    {
     "data": {
      "text/plain": [
       "12"
      ]
     },
     "execution_count": 1,
     "metadata": {},
     "output_type": "execute_result"
    }
   ],
   "source": [
    "import os\n",
    "\n",
    "os.cpu_count()"
   ]
  },
  {
   "cell_type": "code",
   "execution_count": null,
   "metadata": {},
   "outputs": [],
   "source": [
    "def simple_exponential_smoothing(series, alpha):\n",
    "    \"\"\"\n",
    "    Perform Simple Exponential Smoothing on a time series.\n",
    "\n",
    "    Parameters:\n",
    "    - series: List or array of time series data.\n",
    "    - alpha: Smoothing parameter (0 < alpha < 1).\n",
    "\n",
    "    Returns:\n",
    "    - smoothed_series: List of smoothed values.\n",
    "    \"\"\"\n",
    "    smoothed_series = [series[0]]  # Initialize with the first observation\n",
    "    for t in range(1, len(series)):\n",
    "        S_t = alpha * series[t] + (1 - alpha) * smoothed_series[t-1]\n",
    "        smoothed_series.append(S_t)\n",
    "    return smoothed_series\n",
    "\n",
    "# Example Usage\n",
    "if __name__ == \"__main__\":\n",
    "    # Sample time series data\n",
    "    data = [3, 10, 12, 13, 12, 10, 12]\n",
    "    alpha = 0.5\n",
    "    smoothed = simple_exponential_smoothing(data, alpha)\n",
    "    \n",
    "    # Plotting\n",
    "    plt.figure(figsize=(10, 6))\n",
    "    plt.plot(data, label='Original Data', marker='o')\n",
    "    plt.plot(smoothed, label='SES Smoothed', marker='o')\n",
    "    plt.title('Simple Exponential Smoothing')\n",
    "    plt.xlabel('Time')\n",
    "    plt.ylabel('Value')\n",
    "    plt.legend()\n",
    "    plt.show()"
   ]
  },
  {
   "cell_type": "markdown",
   "metadata": {},
   "source": [
    "**Explanation:**\n",
    "- **Initialization:** The first smoothed value is set to the first data point.\n",
    "- **Iteration:** For each subsequent time point, apply the SES equation to compute the smoothed value.\n",
    "- **Plotting:** Visualize the original data alongside the smoothed values to observe the effect of smoothing."
   ]
  },
  {
   "cell_type": "markdown",
   "metadata": {},
   "source": [
    "##### **5. Using SES with the `statsmodels` library**"
   ]
  },
  {
   "cell_type": "code",
   "execution_count": 3,
   "metadata": {},
   "outputs": [],
   "source": [
    "from statsmodels.tsa.holtwinters import SimpleExpSmoothing"
   ]
  },
  {
   "cell_type": "code",
   "execution_count": 6,
   "metadata": {},
   "outputs": [
    {
     "data": {
      "text/html": [
       "<div>\n",
       "<style scoped>\n",
       "    .dataframe tbody tr th:only-of-type {\n",
       "        vertical-align: middle;\n",
       "    }\n",
       "\n",
       "    .dataframe tbody tr th {\n",
       "        vertical-align: top;\n",
       "    }\n",
       "\n",
       "    .dataframe thead th {\n",
       "        text-align: right;\n",
       "    }\n",
       "</style>\n",
       "<table border=\"1\" class=\"dataframe\">\n",
       "  <thead>\n",
       "    <tr style=\"text-align: right;\">\n",
       "      <th></th>\n",
       "      <th>co2</th>\n",
       "    </tr>\n",
       "  </thead>\n",
       "  <tbody>\n",
       "    <tr>\n",
       "      <th>1958-03-29</th>\n",
       "      <td>316.1</td>\n",
       "    </tr>\n",
       "    <tr>\n",
       "      <th>1958-04-05</th>\n",
       "      <td>317.3</td>\n",
       "    </tr>\n",
       "    <tr>\n",
       "      <th>1958-04-12</th>\n",
       "      <td>317.6</td>\n",
       "    </tr>\n",
       "    <tr>\n",
       "      <th>1958-04-19</th>\n",
       "      <td>317.5</td>\n",
       "    </tr>\n",
       "    <tr>\n",
       "      <th>1958-04-26</th>\n",
       "      <td>316.4</td>\n",
       "    </tr>\n",
       "    <tr>\n",
       "      <th>...</th>\n",
       "      <td>...</td>\n",
       "    </tr>\n",
       "    <tr>\n",
       "      <th>2001-12-01</th>\n",
       "      <td>370.3</td>\n",
       "    </tr>\n",
       "    <tr>\n",
       "      <th>2001-12-08</th>\n",
       "      <td>370.8</td>\n",
       "    </tr>\n",
       "    <tr>\n",
       "      <th>2001-12-15</th>\n",
       "      <td>371.2</td>\n",
       "    </tr>\n",
       "    <tr>\n",
       "      <th>2001-12-22</th>\n",
       "      <td>371.3</td>\n",
       "    </tr>\n",
       "    <tr>\n",
       "      <th>2001-12-29</th>\n",
       "      <td>371.5</td>\n",
       "    </tr>\n",
       "  </tbody>\n",
       "</table>\n",
       "<p>2284 rows × 1 columns</p>\n",
       "</div>"
      ],
      "text/plain": [
       "              co2\n",
       "1958-03-29  316.1\n",
       "1958-04-05  317.3\n",
       "1958-04-12  317.6\n",
       "1958-04-19  317.5\n",
       "1958-04-26  316.4\n",
       "...           ...\n",
       "2001-12-01  370.3\n",
       "2001-12-08  370.8\n",
       "2001-12-15  371.2\n",
       "2001-12-22  371.3\n",
       "2001-12-29  371.5\n",
       "\n",
       "[2284 rows x 1 columns]"
      ]
     },
     "execution_count": 6,
     "metadata": {},
     "output_type": "execute_result"
    }
   ],
   "source": [
    "# Import the CO2 dataset\n",
    "import statsmodels.datasets.co2 as co2\n",
    "\n",
    "co2_data = co2.load().data\n",
    "co2_data"
   ]
  },
  {
   "cell_type": "code",
   "execution_count": 11,
   "metadata": {},
   "outputs": [
    {
     "data": {
      "text/plain": [
       "array([[316.1],\n",
       "       [317.3],\n",
       "       [317.6],\n",
       "       ...,\n",
       "       [371.2],\n",
       "       [371.3],\n",
       "       [371.5]])"
      ]
     },
     "execution_count": 11,
     "metadata": {},
     "output_type": "execute_result"
    }
   ],
   "source": [
    "co2_data.values"
   ]
  },
  {
   "cell_type": "code",
   "execution_count": 14,
   "metadata": {},
   "outputs": [],
   "source": [
    "# Fit SES model\n",
    "model = SimpleExpSmoothing(co2_data.values).fit(smoothing_level=0.5, optimized=False)\n",
    "ses_forecast = model.fittedvalues\n",
    "\n",
    "# Forecast the next value\n",
    "forecast = model.forecast(1)"
   ]
  },
  {
   "cell_type": "code",
   "execution_count": 7,
   "metadata": {},
   "outputs": [
    {
     "ename": "NameError",
     "evalue": "name 'plt' is not defined",
     "output_type": "error",
     "traceback": [
      "\u001b[1;31m---------------------------------------------------------------------------\u001b[0m",
      "\u001b[1;31mNameError\u001b[0m                                 Traceback (most recent call last)",
      "\u001b[1;32m~\\AppData\\Local\\Temp\\ipykernel_17292\\267931058.py\u001b[0m in \u001b[0;36m<module>\u001b[1;34m\u001b[0m\n\u001b[0;32m      1\u001b[0m \u001b[1;31m# Plotting\u001b[0m\u001b[1;33m\u001b[0m\u001b[1;33m\u001b[0m\u001b[0m\n\u001b[1;32m----> 2\u001b[1;33m \u001b[0mplt\u001b[0m\u001b[1;33m.\u001b[0m\u001b[0mfigure\u001b[0m\u001b[1;33m(\u001b[0m\u001b[0mfigsize\u001b[0m\u001b[1;33m=\u001b[0m\u001b[1;33m(\u001b[0m\u001b[1;36m10\u001b[0m\u001b[1;33m,\u001b[0m \u001b[1;36m6\u001b[0m\u001b[1;33m)\u001b[0m\u001b[1;33m)\u001b[0m\u001b[1;33m\u001b[0m\u001b[1;33m\u001b[0m\u001b[0m\n\u001b[0m\u001b[0;32m      3\u001b[0m \u001b[0mplt\u001b[0m\u001b[1;33m.\u001b[0m\u001b[0mplot\u001b[0m\u001b[1;33m(\u001b[0m\u001b[0mco2_data\u001b[0m\u001b[1;33m.\u001b[0m\u001b[0mvalues\u001b[0m\u001b[1;33m,\u001b[0m \u001b[0mlabel\u001b[0m\u001b[1;33m=\u001b[0m\u001b[1;34m'Original Data'\u001b[0m\u001b[1;33m,\u001b[0m \u001b[0mmarker\u001b[0m\u001b[1;33m=\u001b[0m\u001b[1;34m'o'\u001b[0m\u001b[1;33m)\u001b[0m\u001b[1;33m\u001b[0m\u001b[1;33m\u001b[0m\u001b[0m\n\u001b[0;32m      4\u001b[0m \u001b[0mplt\u001b[0m\u001b[1;33m.\u001b[0m\u001b[0mplot\u001b[0m\u001b[1;33m(\u001b[0m\u001b[0mses_forecast\u001b[0m\u001b[1;33m,\u001b[0m \u001b[0mlabel\u001b[0m\u001b[1;33m=\u001b[0m\u001b[1;34m'SES Fitted'\u001b[0m\u001b[1;33m,\u001b[0m \u001b[0mmarker\u001b[0m\u001b[1;33m=\u001b[0m\u001b[1;34m'o'\u001b[0m\u001b[1;33m)\u001b[0m\u001b[1;33m\u001b[0m\u001b[1;33m\u001b[0m\u001b[0m\n\u001b[0;32m      5\u001b[0m \u001b[0mplt\u001b[0m\u001b[1;33m.\u001b[0m\u001b[0mplot\u001b[0m\u001b[1;33m(\u001b[0m\u001b[0mlen\u001b[0m\u001b[1;33m(\u001b[0m\u001b[0mco2_data\u001b[0m\u001b[1;33m.\u001b[0m\u001b[0mvalues\u001b[0m\u001b[1;33m)\u001b[0m\u001b[1;33m,\u001b[0m \u001b[0mforecast\u001b[0m\u001b[1;33m,\u001b[0m \u001b[0mlabel\u001b[0m\u001b[1;33m=\u001b[0m\u001b[1;34m'Forecast'\u001b[0m\u001b[1;33m,\u001b[0m \u001b[0mmarker\u001b[0m\u001b[1;33m=\u001b[0m\u001b[1;34m'o'\u001b[0m\u001b[1;33m,\u001b[0m \u001b[0mlinestyle\u001b[0m\u001b[1;33m=\u001b[0m\u001b[1;34m'None'\u001b[0m\u001b[1;33m)\u001b[0m\u001b[1;33m\u001b[0m\u001b[1;33m\u001b[0m\u001b[0m\n",
      "\u001b[1;31mNameError\u001b[0m: name 'plt' is not defined"
     ]
    }
   ],
   "source": [
    "# Plotting\n",
    "plt.figure(figsize=(10, 6))\n",
    "plt.plot(co2_data.values, label='Original Data', marker='o')\n",
    "plt.plot(ses_forecast, label='SES Fitted', marker='o')\n",
    "plt.plot(len(co2_data.values), forecast, label='Forecast', marker='o', linestyle='None')\n",
    "plt.title('Simple Exponential Smoothing with statsmodels')\n",
    "plt.xlabel('Time')\n",
    "plt.ylabel('Value')\n",
    "plt.legend()\n",
    "plt.show()"
   ]
  },
  {
   "cell_type": "code",
   "execution_count": null,
   "metadata": {},
   "outputs": [],
   "source": [
    "print(f\"Next forecasted value: {forecast.iloc[0]}\")"
   ]
  },
  {
   "cell_type": "code",
   "execution_count": null,
   "metadata": {},
   "outputs": [],
   "source": []
  }
 ],
 "metadata": {
  "kernelspec": {
   "display_name": "base",
   "language": "python",
   "name": "python3"
  },
  "language_info": {
   "codemirror_mode": {
    "name": "ipython",
    "version": 3
   },
   "file_extension": ".py",
   "mimetype": "text/x-python",
   "name": "python",
   "nbconvert_exporter": "python",
   "pygments_lexer": "ipython3",
   "version": "3.9.12"
  }
 },
 "nbformat": 4,
 "nbformat_minor": 2
}
