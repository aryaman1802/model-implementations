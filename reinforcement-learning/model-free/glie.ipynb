{
 "cells": [
  {
   "cell_type": "markdown",
   "metadata": {},
   "source": [
    "## GLIE MC Control Algorithm\n",
    "\n",
    "- GLIE $\\; \\rightarrow \\;$ Greedy in the Limit with Infinite Exploration\n",
    "- MC $\\; \\rightarrow \\;$ Monte Carlo\n",
    "\n",
    "This is an on-policy algorithm."
   ]
  },
  {
   "cell_type": "markdown",
   "metadata": {},
   "source": [
    "Resources used while writing this notebook:\n",
    "- [Nimish Sanghi's book on Deep RL](https://www.amazon.com/Deep-Reinforcement-Learning-Python-TensorFlow/dp/1484268083)\n",
    "- Tawsif Kamal's videos on Blackjack Monte Carlo Reinforcement Learning [part 1](https://youtu.be/NeusGkowXR4?si=9a1aE_bInK4vSAHw) and [part 2](https://youtu.be/wn8hlPNwL74?si=PV_h3WQCXmZKwRzW).\n",
    "- [Gymnasium docs for Blackjack](https://gymnasium.farama.org/environments/toy_text/blackjack/)."
   ]
  },
  {
   "cell_type": "markdown",
   "metadata": {},
   "source": [
    "![Exploring Starts](./algo_img/mc_control.png \"Exploring Starts\")"
   ]
  },
  {
   "cell_type": "markdown",
   "metadata": {},
   "source": [
    "![Epsilon-Soft](./algo_img/mc_control_epsilon_soft.png \"Epsilon-Soft\")"
   ]
  },
  {
   "cell_type": "code",
   "execution_count": 2,
   "metadata": {},
   "outputs": [
    {
     "data": {
      "text/html": [
       "<img src=\"https://gymnasium.farama.org/_images/blackjack.gif\"/>"
      ],
      "text/plain": [
       "<IPython.core.display.Image object>"
      ]
     },
     "execution_count": 2,
     "metadata": {},
     "output_type": "execute_result"
    }
   ],
   "source": [
    "from IPython.display import Image\n",
    "Image(url=\"https://gymnasium.farama.org/_images/blackjack.gif\")"
   ]
  },
  {
   "cell_type": "code",
   "execution_count": 5,
   "metadata": {},
   "outputs": [],
   "source": [
    "import gymnasium as gym\n",
    "import numpy as np\n",
    "from collections import defaultdict\n",
    "from tqdm import tqdm\n",
    "import matplotlib.pyplot as plt\n",
    "from blackjack.plot_utils import plot_policy, plot_win_rate\n",
    "\n",
    "# create Blackjack environment\n",
    "env = gym.make(\"Blackjack-v1\", natural=False, sab=False)"
   ]
  },
  {
   "cell_type": "code",
   "execution_count": 57,
   "metadata": {},
   "outputs": [],
   "source": [
    "def epsilon_soft_strategy(env, Q, state, epsilon):\n",
    "    probs = np.zeros(2)\n",
    "    # since there are only two actions: 0 and 1\n",
    "    # so, optimal action is either 0 or 1\n",
    "    # and, sub-optimal action is the other one \n",
    "    optimal_action = np.argmax(Q[state])\n",
    "    sub_optimal_action = np.abs(optimal_action - 1)\n",
    "    probs[optimal_action] = 1 - epsilon + epsilon/env.action_space.n\n",
    "    probs[sub_optimal_action] = epsilon/env.action_space.n\n",
    "    action = np.random.choice([0,1], p=probs)\n",
    "    return action\n"
   ]
  },
  {
   "cell_type": "code",
   "execution_count": 8,
   "metadata": {},
   "outputs": [],
   "source": [
    "def epsilon_greedy_strategy(env, epsilon, policy, state):\n",
    "    if np.random.random() < epsilon:\n",
    "        return env.action_space.sample()\n",
    "    else:\n",
    "        return np.argmax(policy[state])\n",
    "    "
   ]
  },
  {
   "cell_type": "code",
   "execution_count": 31,
   "metadata": {},
   "outputs": [],
   "source": [
    "class GLIE_MC_Control:\n",
    "    def __init__(self, env, num_episodes, epsilon, strategy, policy, \n",
    "                 gamma=1, epsilon_min=None, decay_rate=None, alpha=None):\n",
    "        \"\"\"\n",
    "        param env: (gymnasium environment) the environment to run the algorithm on\n",
    "        param num_episodes: (int) number of episodes to run the algorithm\n",
    "        param epsilon: (float) \n",
    "        param epsilon_min: float or None\n",
    "        param decay_rate: float or None\n",
    "        param gamma: (float) discount factor\n",
    "        param alpha: float or None\n",
    "        \"\"\"\n",
    "        self.env = env\n",
    "        self.num_episodes = num_episodes\n",
    "        self.epsilon = epsilon\n",
    "        self.epsilon_min = epsilon_min\n",
    "        self.decay_rate = decay_rate\n",
    "        self.gamma = gamma\n",
    "        n_actions = self.env.action_space.n\n",
    "        self.Q = defaultdict(lambda: np.zeros(n_actions))  # state-action value\n",
    "        self.N = defaultdict(lambda: np.zeros(n_actions))  # visit count\n",
    "        self.policy = policy\n",
    "        self.gamma = gamma                      # discount factor\n",
    "        self.epsilon = epsilon                  # exploration rate\n",
    "        self.strategy = strategy                # action selection strategy\n",
    "        self.alpha = alpha                      # constant factor\n",
    "        self.rewards_all_episodes_fv = []\n",
    "        self.rewards_all_episodes_ev = []\n",
    "    \n",
    "\n",
    "    def generate_episode(self):\n",
    "        state, _ = self.env.reset()\n",
    "        episode = []\n",
    "        while True:\n",
    "            action = self.strategy(self.env, self.epsilon, \n",
    "                                   self.policy, state)\n",
    "            next_state, reward, done, trunc, _ = self.env.step(action)\n",
    "            episode.append((state, action, reward))\n",
    "            state = next_state\n",
    "            if (done or trunc):\n",
    "                break\n",
    "        return episode\n",
    "\n",
    "\n",
    "    def first_visit(self):\n",
    "        \"\"\"\n",
    "        This is the first-visit GLIE MC control algorithm.\n",
    "        \"\"\"\n",
    "        for k in tqdm(range(1, self.num_episodes+1)):\n",
    "            experience = self.generate_episode()\n",
    "            states, actions, rewards = zip(*experience)\n",
    "            self.rewards_all_episodes_fv.append(sum(rewards))\n",
    "            G = 0\n",
    "            for t in range(len(states)-1, -1, -1):\n",
    "                s, a, r = states[t], actions[t], rewards[t]\n",
    "                G = self.gamma * G + r\n",
    "                if s not in states[:t]:\n",
    "                    if self.alpha is not None:\n",
    "                        self.Q[s][a] = self.Q[s][a] + self.alpha * (G - self.Q[s][a])\n",
    "                    else:\n",
    "                        self.N[s][a] += 1\n",
    "                        self.Q[s][a] = self.Q[s][a] + (1 / self.N[s][a]) * (G - self.Q[s][a])\n",
    "                    # update the policy\n",
    "                    for state_value, q_value in self.Q.items():\n",
    "                        self.policy[state_value] = np.argmax(q_value)\n",
    "            # update epsilon\n",
    "            if (self.decay_rate is not None) and (self.epsilon_min is not None):\n",
    "                self.epsilon = max(self.epsilon_min, self.epsilon * self.decay_rate)\n",
    "            else:\n",
    "                self.epsilon = 1/k\n",
    "                \n",
    "\n",
    "    def every_visit(self):\n",
    "        \"\"\"\n",
    "        This is the every-visit GLIE MC control algorithm.\n",
    "        \"\"\"\n",
    "        for k in tqdm(range(1, self.num_episodes+1)):\n",
    "            experience = self.generate_episode()\n",
    "            states, actions, rewards = zip(*experience)\n",
    "            self.rewards_all_episodes_ev.append(sum(rewards))\n",
    "            G = 0\n",
    "            for t in range(len(states)-1, -1, -1):\n",
    "                s, a, r = states[t], actions[t], rewards[t]\n",
    "                G = self.gamma * G + r\n",
    "                if self.alpha is not None:\n",
    "                    self.Q[s][a] = self.Q[s][a] + self.alpha * (G - self.Q[s][a])\n",
    "                else:\n",
    "                    self.N[s][a] += 1\n",
    "                    self.Q[s][a] = self.Q[s][a] + (1 / self.N[s][a]) * (G - self.Q[s][a])\n",
    "                # update the policy\n",
    "                for state_value, q_value in self.Q.items():\n",
    "                    self.policy[state_value] = np.argmax(q_value)\n",
    "            # update epsilon\n",
    "            if (self.decay_rate is not None) and (self.epsilon_min is not None):\n",
    "                self.epsilon = max(self.epsilon_min, self.epsilon * self.decay_rate)\n",
    "            else:\n",
    "                self.epsilon = 1/k\n",
    "            # uncomment this to have higher exploration initially\n",
    "            # and then let epsilon decay after 5000 episodes\n",
    "            # if k <= 100:\n",
    "            #     self.epsilon = 0.02"
   ]
  },
  {
   "cell_type": "code",
   "execution_count": 45,
   "metadata": {},
   "outputs": [],
   "source": [
    "env = gym.make(\"Blackjack-v1\", natural=False, sab=False)\n",
    "n_actions = env.action_space.n\n",
    "random_policy = defaultdict(lambda: np.ones(n_actions) / n_actions)\n",
    "num_episodes = 50_000\n",
    "gamma = 1\n",
    "epsilon = 1\n",
    "strategy = epsilon_greedy_strategy"
   ]
  },
  {
   "cell_type": "code",
   "execution_count": 46,
   "metadata": {},
   "outputs": [],
   "source": [
    "fv_glie = GLIE_MC_Control(env, num_episodes, epsilon, strategy, random_policy)"
   ]
  },
  {
   "cell_type": "code",
   "execution_count": 47,
   "metadata": {},
   "outputs": [
    {
     "data": {
      "text/plain": [
       "[((19, 9, 0), 0, -1.0)]"
      ]
     },
     "execution_count": 47,
     "metadata": {},
     "output_type": "execute_result"
    }
   ],
   "source": [
    "fv_glie.generate_episode()"
   ]
  },
  {
   "cell_type": "code",
   "execution_count": 48,
   "metadata": {},
   "outputs": [
    {
     "name": "stderr",
     "output_type": "stream",
     "text": [
      "100%|██████████| 50000/50000 [00:42<00:00, 1182.13it/s]\n"
     ]
    }
   ],
   "source": [
    "fv_glie.first_visit()"
   ]
  },
  {
   "cell_type": "code",
   "execution_count": 49,
   "metadata": {},
   "outputs": [
    {
     "data": {
      "image/png": "[encoded data removed]",
      "text/plain": [
       "<Figure size 432x288 with 1 Axes>"
      ]
     },
     "metadata": {
      "needs_background": "light"
     },
     "output_type": "display_data"
    }
   ],
   "source": [
    "plot_win_rate(fv_glie.rewards_all_episodes_fv, fv_glie.num_episodes)"
   ]
  },
  {
   "cell_type": "code",
   "execution_count": 50,
   "metadata": {},
   "outputs": [
    {
     "data": {
      "image/png": "[encoded data removed]",
      "text/plain": [
       "<Figure size 1080x1080 with 4 Axes>"
      ]
     },
     "metadata": {
      "needs_background": "light"
     },
     "output_type": "display_data"
    }
   ],
   "source": [
    "# the plots are empty as we don't have a policy, ie,\n",
    "# we are following a random policy\n",
    "plot_policy(fv_glie.policy)"
   ]
  },
  {
   "cell_type": "code",
   "execution_count": 51,
   "metadata": {},
   "outputs": [],
   "source": [
    "env = gym.make(\"Blackjack-v1\", natural=False, sab=False)\n",
    "n_actions = env.action_space.n\n",
    "random_policy = defaultdict(lambda: np.ones(n_actions) / n_actions)\n",
    "num_episodes = 50_000\n",
    "gamma = 1\n",
    "epsilon = 1\n",
    "strategy = epsilon_greedy_strategy\n",
    "epsilon_min = 0.05\n",
    "alpha = 0.03\n",
    "decay_rate = 0.9999"
   ]
  },
  {
   "cell_type": "code",
   "execution_count": 52,
   "metadata": {},
   "outputs": [],
   "source": [
    "fv_glie2 = GLIE_MC_Control(env, num_episodes, epsilon, strategy, random_policy,\n",
    "                           gamma, epsilon_min, decay_rate, alpha)"
   ]
  },
  {
   "cell_type": "code",
   "execution_count": 53,
   "metadata": {},
   "outputs": [
    {
     "data": {
      "text/plain": [
       "[((9, 6, 0), 0, -1.0)]"
      ]
     },
     "execution_count": 53,
     "metadata": {},
     "output_type": "execute_result"
    }
   ],
   "source": [
    "fv_glie2.generate_episode()"
   ]
  },
  {
   "cell_type": "code",
   "execution_count": 54,
   "metadata": {},
   "outputs": [
    {
     "name": "stderr",
     "output_type": "stream",
     "text": [
      "  0%|          | 128/50000 [00:00<00:39, 1276.56it/s]"
     ]
    },
    {
     "name": "stderr",
     "output_type": "stream",
     "text": [
      "100%|██████████| 50000/50000 [00:39<00:00, 1253.99it/s]\n"
     ]
    }
   ],
   "source": [
    "fv_glie2.first_visit()"
   ]
  },
  {
   "cell_type": "code",
   "execution_count": 55,
   "metadata": {},
   "outputs": [
    {
     "data": {
      "image/png": "[encoded data removed]",
      "text/plain": [
       "<Figure size 432x288 with 1 Axes>"
      ]
     },
     "metadata": {
      "needs_background": "light"
     },
     "output_type": "display_data"
    }
   ],
   "source": [
    "plot_win_rate(fv_glie2.rewards_all_episodes_fv, fv_glie2.num_episodes)"
   ]
  },
  {
   "cell_type": "code",
   "execution_count": 56,
   "metadata": {},
   "outputs": [
    {
     "data": {
      "image/png": "[encoded data removed]",
      "text/plain": [
       "<Figure size 1080x1080 with 4 Axes>"
      ]
     },
     "metadata": {
      "needs_background": "light"
     },
     "output_type": "display_data"
    }
   ],
   "source": [
    "# the plots are empty as we don't have a policy, ie,\n",
    "# we are following a random policy\n",
    "plot_policy(fv_glie.policy)"
   ]
  },
  {
   "cell_type": "markdown",
   "metadata": {},
   "source": [
    "![Optimal Policy](./blackjack/optimal.png \"Optimal Policy\")"
   ]
  },
  {
   "cell_type": "code",
   "execution_count": 32,
   "metadata": {},
   "outputs": [],
   "source": [
    "env = gym.make(\"Blackjack-v1\", natural=False, sab=False)\n",
    "n_actions = env.action_space.n\n",
    "random_policy = defaultdict(lambda: np.ones(n_actions) / n_actions)\n",
    "num_episodes = 10_000\n",
    "gamma = 1\n",
    "epsilon = 1\n",
    "strategy = epsilon_greedy_strategy"
   ]
  },
  {
   "cell_type": "code",
   "execution_count": 33,
   "metadata": {},
   "outputs": [],
   "source": [
    "ev_glie = GLIE_MC_Control(env, num_episodes, epsilon, strategy, random_policy)"
   ]
  },
  {
   "cell_type": "code",
   "execution_count": 34,
   "metadata": {},
   "outputs": [
    {
     "data": {
      "text/plain": [
       "[((7, 10, 0), 0, -1.0)]"
      ]
     },
     "execution_count": 34,
     "metadata": {},
     "output_type": "execute_result"
    }
   ],
   "source": [
    "ev_glie.generate_episode()"
   ]
  },
  {
   "cell_type": "code",
   "execution_count": 35,
   "metadata": {},
   "outputs": [
    {
     "name": "stderr",
     "output_type": "stream",
     "text": [
      "100%|██████████| 10000/10000 [00:08<00:00, 1245.56it/s]\n"
     ]
    }
   ],
   "source": [
    "ev_glie.every_visit()"
   ]
  },
  {
   "cell_type": "code",
   "execution_count": 38,
   "metadata": {},
   "outputs": [
    {
     "name": "stderr",
     "output_type": "stream",
     "text": [
      "Exception ignored in: <function tqdm.__del__ at 0x7f9c27607670>\n",
      "Traceback (most recent call last):\n",
      "  File \"/home/aryaman/anaconda3/lib/python3.9/site-packages/tqdm/std.py\", line 1162, in __del__\n",
      "    self.close()\n",
      "  File \"/home/aryaman/anaconda3/lib/python3.9/site-packages/tqdm/std.py\", line 1291, in close\n",
      "    if self.last_print_t < self.start_t + self.delay:\n",
      "AttributeError: 'tqdm' object has no attribute 'last_print_t'\n"
     ]
    },
    {
     "data": {
      "image/png": "[encoded data removed]",
      "text/plain": [
       "<Figure size 432x288 with 1 Axes>"
      ]
     },
     "metadata": {
      "needs_background": "light"
     },
     "output_type": "display_data"
    }
   ],
   "source": [
    "plot_win_rate(ev_glie.rewards_all_episodes_ev, ev_glie.num_episodes)"
   ]
  },
  {
   "cell_type": "code",
   "execution_count": 39,
   "metadata": {},
   "outputs": [
    {
     "data": {
      "image/png": "[encoded data removed]",
      "text/plain": [
       "<Figure size 1080x1080 with 4 Axes>"
      ]
     },
     "metadata": {
      "needs_background": "light"
     },
     "output_type": "display_data"
    }
   ],
   "source": [
    "# the plots are empty as we don't have a policy, ie,\n",
    "# we are following a random policy\n",
    "plot_policy(ev_glie.policy)"
   ]
  },
  {
   "cell_type": "code",
   "execution_count": null,
   "metadata": {},
   "outputs": [],
   "source": []
  },
  {
   "cell_type": "code",
   "execution_count": null,
   "metadata": {},
   "outputs": [],
   "source": []
  }
 ],
 "metadata": {
  "kernelspec": {
   "display_name": "base",
   "language": "python",
   "name": "python3"
  },
  "language_info": {
   "codemirror_mode": {
    "name": "ipython",
    "version": 3
   },
   "file_extension": ".py",
   "mimetype": "text/x-python",
   "name": "python",
   "nbconvert_exporter": "python",
   "pygments_lexer": "ipython3",
   "version": "3.9.7"
  }
 },
 "nbformat": 4,
 "nbformat_minor": 2
}
