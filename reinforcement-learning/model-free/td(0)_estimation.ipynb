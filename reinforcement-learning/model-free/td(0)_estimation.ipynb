{
 "cells": [
  {
   "cell_type": "markdown",
   "metadata": {},
   "source": [
    "## TD(0) for Estimation Algorithm\n",
    "\n",
    "- TD $\\; \\rightarrow \\;$ Temporal Difference\n",
    "- This is an off-policy algorithm.\n",
    "- Temporal difference learning is an approach that combines the benefits of both DP (Dynamic Programming) and MC (Monte Carlo), using bootstrapping from DP and the sample-based approach from MC.\n",
    "- Bootstrapping is the approach where the value of a state is based on the current estimate of the successor state.\n",
    "- MC is based on starting from a state and sampling the outcomes based on the current policy the agent is following. The value estimates are averages over multiple runs. In other words, the sum over model transition probabilities is replaced by averages.\n",
    "- TD(0) is a one-step estimate.\n",
    "- Thus, TD has an advantage over DP as it does not require the model knowledge (transition dynamics function). A TD method has an advantage over MC as TD methods can update the state value at every step; i.e., they can be used in an online setup through which we learn as the situation unfolds without waiting for the end of episode.\n",
    "- TD(0) is also called one-step TD."
   ]
  },
  {
   "cell_type": "markdown",
   "metadata": {},
   "source": [
    "![TD(0) Estimation](./algo_img/tabular_td(0)_estimation.png \"TD(0) Estimation\")"
   ]
  },
  {
   "cell_type": "markdown",
   "metadata": {},
   "source": [
    "Let's compare the updates of the Monte Carlo (MC) and Temporal Difference (TD):\n",
    "\n",
    "- MC Update:\n",
    "\n",
    "$$V(S_t) \\; = \\; V(S_t) \\, + \\, \\alpha[G_t - V(S_t)]$$\n",
    "\n",
    "&nbsp;  \n",
    "\n",
    "- TD Update:\n",
    "\n",
    "\\begin{align*}\n",
    "V(S_t) \\; & = \\; V(S_t) \\, + \\, \\alpha[R_{t+1} + \\gamma V(S_{t+1}) \\, - \\, V(S_t)] \\\\\n",
    "& = \\; V(S_t) \\, + \\, \\alpha \\cdot \\delta_t \\\\\n",
    "\\end{align*}\n",
    "\n",
    ", where $\\; \\delta_t \\; = \\; R_{t+1} + \\gamma V(S_{t+1}) \\, - \\, V(S_t) \\; = \\;$ TD error\n",
    "\n",
    "<!-- $$V(S_t) \\; = \\; V(S_t) \\, + \\, \\alpha[R_{t+1} + \\gamma V(S_{t+1}) \\, - \\, V(S_t)]$$ -->"
   ]
  },
  {
   "cell_type": "code",
   "execution_count": 2,
   "metadata": {},
   "outputs": [],
   "source": [
    "import gymnasium as gym\n",
    "import numpy as np\n",
    "from collections import defaultdict\n",
    "from tqdm import tqdm\n",
    "import matplotlib.pyplot as plt\n",
    "from IPython.display import Image"
   ]
  },
  {
   "cell_type": "code",
   "execution_count": 4,
   "metadata": {},
   "outputs": [],
   "source": [
    "class TD0:\n",
    "    \"\"\"TD(0) estimation algorithm.\"\"\"\n",
    "    def __init__(self, get_possible_actions, strategy, \n",
    "                 epsilon=1, alpha=1, gamma=1):\n",
    "        self._V = defaultdict(lambda: 0)\n",
    "        self.get_possible_actions = get_possible_actions\n",
    "        self.epsilon = epsilon\n",
    "        self.strategy = strategy\n",
    "        self.alpha = alpha   # learning rate or step size\n",
    "        self.gamma = gamma   # discount factor\n",
    "\n",
    "\n",
    "    def _get_V(self, state):\n",
    "        return self._V[state]\n",
    "\n",
    "\n",
    "    def set_V(self, state, value):\n",
    "        self._V[state] = value\n",
    "\n",
    "\n",
    "    def update(self, state, reward, next_state, done):\n",
    "        \"\"\"\n",
    "        This is the main update function for the TD(0) algorithm.\n",
    "        Note that this function only contains the update equations, \n",
    "        not the entire TD(0) algorithm.\n",
    "        \"\"\"\n",
    "        if not done:\n",
    "            td_error = reward + self.gamma * self._get_V(next_state) - \\\n",
    "                       self._get_V(state)\n",
    "        else:\n",
    "            td_error = reward - self._get_V(state)\n",
    "        value = self._get_V(state) + self.alpha * td_error\n",
    "        self.set_V(state, value)\n",
    "\n",
    "\n",
    "    def max_action(self, state):\n",
    "        \"\"\"\n",
    "        Return the best action for a given state, ie,\n",
    "        the action in the state that has the highest state value.\n",
    "        If there are multiple actions with the same state values,\n",
    "        return a random action from the set of best actions.\n",
    "        \"\"\"\n",
    "        actions = self.get_possible_actions(state)\n",
    "        best_action = []\n",
    "        best_state_value = float(\"-inf\")\n",
    "        for action in actions:\n",
    "            value = self._get_V(state)\n",
    "            if value > best_state_value:\n",
    "                best_action = [action]\n",
    "                best_state_value = value\n",
    "            elif value == best_state_value:\n",
    "                best_action.append(action)\n",
    "        return np.random.choice(np.array(best_action))\n",
    "\n",
    "\n",
    "    def get_action(self, state):\n",
    "        \"\"\"\n",
    "        Choose an action based on the input strategy.\n",
    "        \"\"\"\n",
    "        return self.strategy(self.epsilon, self.get_possible_actions,\n",
    "                             state, self.max_action)\n",
    "\n"
   ]
  },
  {
   "cell_type": "code",
   "execution_count": 5,
   "metadata": {},
   "outputs": [],
   "source": [
    "def epsilon_greedy_strategy(epsilon, get_possible_actions, state, max_action):\n",
    "    \"\"\"\n",
    "    Epsilon-greedy strategy.\n",
    "\n",
    "    Choose a random number in the interval [0, 1) with a uniform \n",
    "    probability distribution. Use np.random.random() to do this.\n",
    "\n",
    "    If this random number is less than epsilon, return a random action.\n",
    "    Otherwise, return the best action for the given state.\n",
    "    \"\"\"\n",
    "    actions = get_possible_actions(state)\n",
    "    if len(actions) == 0:\n",
    "        return None\n",
    "    random_number = np.random.random()\n",
    "    if random_number < epsilon:\n",
    "        # exploration\n",
    "        return np.random.choice(actions)\n",
    "    else:\n",
    "        # exploitation\n",
    "        return max_action(state)\n",
    "    "
   ]
  },
  {
   "cell_type": "code",
   "execution_count": 6,
   "metadata": {},
   "outputs": [],
   "source": [
    "def train_agent(env, agent, num_episodes=10_000, t_max=10_000, decay_rate=None):\n",
    "    \"\"\"\n",
    "    This is a generic training function.\n",
    "\n",
    "    env: gymnasium environment\n",
    "    agent: SARSA object\n",
    "    num_episodes: (int) number of episodes to train the agent\n",
    "    t_max: (int) maximum number of steps per episode\n",
    "    decay_rate: (float) epsilon decay rate\n",
    "    \"\"\"\n",
    "    episode_rewards = []\n",
    "    for i in tqdm(range(num_episodes)):\n",
    "        G = 0\n",
    "        state, _ = env.reset()\n",
    "        action = agent.get_action(state)\n",
    "        for t in range(t_max):\n",
    "            next_state, reward, done, trunc, _ = env.step(action)\n",
    "            next_action = agent.get_action(next_state)\n",
    "            flag = (done or trunc)\n",
    "            agent.update(state, reward, next_state, flag)\n",
    "            G += reward\n",
    "            if flag:\n",
    "                episode_rewards.append(G)\n",
    "                if decay_rate is not None:\n",
    "                    agent.epsilon = agent.epsilon * decay_rate\n",
    "                break\n",
    "            state = next_state\n",
    "            action = next_action\n",
    "    return np.array(episode_rewards)\n"
   ]
  },
  {
   "cell_type": "code",
   "execution_count": 7,
   "metadata": {},
   "outputs": [],
   "source": [
    "def plot_rewards(env_name, rewards, label):\n",
    "    plt.title(f\"Env: {env_name}  Mean Reward: {np.mean(rewards[-20:]):.1f}\")\n",
    "    plt.plot(rewards, label=label)\n",
    "    plt.grid()\n",
    "    plt.legend()\n",
    "    plt.show()\n"
   ]
  },
  {
   "cell_type": "markdown",
   "metadata": {},
   "source": [
    "### Trying out TD(0) on Cliff Walking environment"
   ]
  },
  {
   "cell_type": "code",
   "execution_count": 8,
   "metadata": {},
   "outputs": [
    {
     "data": {
      "text/html": [
       "<img src=\"https://gymnasium.farama.org/_images/cliff_walking.gif\"/>"
      ],
      "text/plain": [
       "<IPython.core.display.Image object>"
      ]
     },
     "execution_count": 8,
     "metadata": {},
     "output_type": "execute_result"
    }
   ],
   "source": [
    "Image(url=\"https://gymnasium.farama.org/_images/cliff_walking.gif\")"
   ]
  },
  {
   "cell_type": "code",
   "execution_count": 9,
   "metadata": {},
   "outputs": [],
   "source": [
    "# create Cliff Walking environment\n",
    "cw_env = gym.make(\"CliffWalking-v0\")"
   ]
  },
  {
   "cell_type": "code",
   "execution_count": 10,
   "metadata": {},
   "outputs": [
    {
     "data": {
      "text/plain": [
       "(36, {'prob': 1})"
      ]
     },
     "execution_count": 10,
     "metadata": {},
     "output_type": "execute_result"
    }
   ],
   "source": [
    "cw_env.reset()"
   ]
  },
  {
   "cell_type": "code",
   "execution_count": 11,
   "metadata": {},
   "outputs": [
    {
     "data": {
      "text/plain": [
       "4"
      ]
     },
     "execution_count": 11,
     "metadata": {},
     "output_type": "execute_result"
    }
   ],
   "source": [
    "cw_env.action_space.n"
   ]
  },
  {
   "cell_type": "code",
   "execution_count": 12,
   "metadata": {},
   "outputs": [
    {
     "data": {
      "text/plain": [
       "48"
      ]
     },
     "execution_count": 12,
     "metadata": {},
     "output_type": "execute_result"
    }
   ],
   "source": [
    "cw_env.observation_space.n"
   ]
  },
  {
   "cell_type": "code",
   "execution_count": 14,
   "metadata": {},
   "outputs": [
    {
     "name": "stderr",
     "output_type": "stream",
     "text": [
      "100%|██████████| 100/100 [00:25<00:00,  3.87it/s]\n"
     ]
    }
   ],
   "source": [
    "agent1 = TD0(\n",
    "    get_possible_actions = lambda s : range(cw_env.action_space.n),\n",
    "    strategy = epsilon_greedy_strategy,\n",
    "    epsilon = 0.2,\n",
    "    alpha = 0.25, \n",
    "    gamma = 0.99\n",
    ")\n",
    "\n",
    "rewards = train_agent(cw_env, agent1, num_episodes=100, decay_rate=0.99)"
   ]
  },
  {
   "cell_type": "code",
   "execution_count": 15,
   "metadata": {},
   "outputs": [
    {
     "data": {
      "image/png": "[encoded data removed]",
      "text/plain": [
       "<Figure size 432x288 with 1 Axes>"
      ]
     },
     "metadata": {
      "needs_background": "light"
     },
     "output_type": "display_data"
    }
   ],
   "source": [
    "plot_rewards(\"Cliff Walking\", rewards, \"TD(0)\")"
   ]
  },
  {
   "cell_type": "markdown",
   "metadata": {},
   "source": [
    "### Trying out TD(0) on Taxi environment"
   ]
  },
  {
   "cell_type": "code",
   "execution_count": 16,
   "metadata": {},
   "outputs": [
    {
     "data": {
      "text/html": [
       "<img src=\"https://gymnasium.farama.org/_images/taxi.gif\"/>"
      ],
      "text/plain": [
       "<IPython.core.display.Image object>"
      ]
     },
     "execution_count": 16,
     "metadata": {},
     "output_type": "execute_result"
    }
   ],
   "source": [
    "Image(url=\"https://gymnasium.farama.org/_images/taxi.gif\")"
   ]
  },
  {
   "cell_type": "code",
   "execution_count": 17,
   "metadata": {},
   "outputs": [],
   "source": [
    "t_env = gym.make(\"Taxi-v3\")"
   ]
  },
  {
   "cell_type": "code",
   "execution_count": 18,
   "metadata": {},
   "outputs": [
    {
     "data": {
      "text/plain": [
       "(321, {'prob': 1.0, 'action_mask': array([1, 1, 1, 0, 0, 0], dtype=int8)})"
      ]
     },
     "execution_count": 18,
     "metadata": {},
     "output_type": "execute_result"
    }
   ],
   "source": [
    "t_env.reset()"
   ]
  },
  {
   "cell_type": "code",
   "execution_count": 19,
   "metadata": {},
   "outputs": [
    {
     "data": {
      "text/plain": [
       "6"
      ]
     },
     "execution_count": 19,
     "metadata": {},
     "output_type": "execute_result"
    }
   ],
   "source": [
    "t_env.action_space.n"
   ]
  },
  {
   "cell_type": "code",
   "execution_count": 20,
   "metadata": {},
   "outputs": [
    {
     "data": {
      "text/plain": [
       "500"
      ]
     },
     "execution_count": 20,
     "metadata": {},
     "output_type": "execute_result"
    }
   ],
   "source": [
    "t_env.observation_space.n"
   ]
  },
  {
   "cell_type": "code",
   "execution_count": 23,
   "metadata": {},
   "outputs": [
    {
     "name": "stderr",
     "output_type": "stream",
     "text": [
      "100%|██████████| 1000/1000 [00:13<00:00, 71.54it/s]\n"
     ]
    }
   ],
   "source": [
    "agent2 = TD0(\n",
    "    get_possible_actions = lambda state: range(t_env.action_space.n),\n",
    "    strategy = epsilon_greedy_strategy, \n",
    "    epsilon = 0.2,\n",
    "    alpha = 0.25, \n",
    "    gamma = 0.99\n",
    ")\n",
    "\n",
    "rewards = train_agent(t_env, agent2, num_episodes=1000, decay_rate=0.99)"
   ]
  },
  {
   "cell_type": "code",
   "execution_count": 24,
   "metadata": {},
   "outputs": [
    {
     "data": {
      "image/png": "[encoded data removed]",
      "text/plain": [
       "<Figure size 432x288 with 1 Axes>"
      ]
     },
     "metadata": {
      "needs_background": "light"
     },
     "output_type": "display_data"
    }
   ],
   "source": [
    "plot_rewards(\"Taxi\", rewards, \"TD(0)\")"
   ]
  },
  {
   "cell_type": "code",
   "execution_count": null,
   "metadata": {},
   "outputs": [],
   "source": []
  }
 ],
 "metadata": {
  "kernelspec": {
   "display_name": "base",
   "language": "python",
   "name": "python3"
  },
  "language_info": {
   "codemirror_mode": {
    "name": "ipython",
    "version": 3
   },
   "file_extension": ".py",
   "mimetype": "text/x-python",
   "name": "python",
   "nbconvert_exporter": "python",
   "pygments_lexer": "ipython3",
   "version": "3.9.7"
  }
 },
 "nbformat": 4,
 "nbformat_minor": 2
}
