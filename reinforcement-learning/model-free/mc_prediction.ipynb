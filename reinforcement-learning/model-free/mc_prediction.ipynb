{
 "cells": [
  {
   "cell_type": "markdown",
   "metadata": {},
   "source": [
    "## Monte Carlo Value Prediction Algorithm for Estimation "
   ]
  },
  {
   "cell_type": "markdown",
   "metadata": {},
   "source": [
    "Resources used while writing this notebook:\n",
    "- [Nimish Sanghi's book on Deep RL](https://www.amazon.com/Deep-Reinforcement-Learning-Python-TensorFlow/dp/1484268083)\n",
    "- [University of Alberta's RL specialization](https://www.coursera.org/specializations/reinforcement-learning)\n",
    "\n",
    "Note: Sanghi's book creates a custom environment called Gridworld to try its algorithms on. However, that environment is based on OpenAI's Gym library and has been deprecated,ie, we cannot use it anymore :(. But nothing to worry about, as we will try our algorithms on the Blackjack environment of the Gymnasium library.\n",
    "\n",
    "&nbsp;\n",
    "\n",
    "This is an on-policy algorithm."
   ]
  },
  {
   "cell_type": "markdown",
   "metadata": {},
   "source": [
    "![First-visit MC Prediction](./algo_img/first_visit_mc_prediction.png \"First-visit MC Prediction\")"
   ]
  },
  {
   "cell_type": "markdown",
   "metadata": {},
   "source": [
    "![Every-visit MC Prediction](./algo_img/every_visit_on-policy_mc_control.png \"Every-visit MC Prediction\")"
   ]
  },
  {
   "cell_type": "code",
   "execution_count": 1,
   "metadata": {},
   "outputs": [
    {
     "data": {
      "text/html": [
       "<img src=\"https://gymnasium.farama.org/_images/blackjack.gif\"/>"
      ],
      "text/plain": [
       "<IPython.core.display.Image object>"
      ]
     },
     "execution_count": 1,
     "metadata": {},
     "output_type": "execute_result"
    }
   ],
   "source": [
    "from IPython.display import Image\n",
    "Image(url=\"https://gymnasium.farama.org/_images/blackjack.gif\")"
   ]
  },
  {
   "cell_type": "code",
   "execution_count": 1,
   "metadata": {},
   "outputs": [],
   "source": [
    "import gymnasium as gym\n",
    "import numpy as np\n",
    "from collections import defaultdict\n",
    "from tqdm import tqdm\n",
    "import matplotlib.pyplot as plt\n",
    "from blackjack.plot_utils import plot_policy, plot_win_rate\n",
    "\n",
    "# create Blackjack environment\n",
    "env = gym.make(\"Blackjack-v1\", natural=False, sab=False)"
   ]
  },
  {
   "cell_type": "code",
   "execution_count": 14,
   "metadata": {},
   "outputs": [
    {
     "name": "stdout",
     "output_type": "stream",
     "text": [
      "defaultdict(<function fn.<locals>.<lambda> at 0x7f4256e8d790>, {(19, 10, False): array([0.5, 0.5])})\n",
      "0\n"
     ]
    }
   ],
   "source": [
    "def fn():\n",
    "    n_actions = env.action_space.n\n",
    "    random_policy = defaultdict(lambda: np.ones(n_actions) / n_actions)\n",
    "    state = (19, 10, False)\n",
    "    random_policy[state]\n",
    "    print(random_policy)\n",
    "    print(np.argmax(random_policy[state]))\n",
    "    \n",
    "\n",
    "fn()"
   ]
  },
  {
   "cell_type": "code",
   "execution_count": 35,
   "metadata": {},
   "outputs": [],
   "source": [
    "def epsilon_greedy_strategy(env, epsilon, policy, state):\n",
    "    if np.random.random() < epsilon:\n",
    "        return env.action_space.sample()\n",
    "    else:\n",
    "        return np.argmax(policy[state])\n",
    "    "
   ]
  },
  {
   "cell_type": "code",
   "execution_count": 7,
   "metadata": {},
   "outputs": [
    {
     "data": {
      "text/plain": [
       "defaultdict(float, {(1, 2, 3): 5.46, (4, 5, 6): 7.13})"
      ]
     },
     "execution_count": 7,
     "metadata": {},
     "output_type": "execute_result"
    }
   ],
   "source": [
    "def fn():\n",
    "    V = defaultdict(float)\n",
    "    V[(1,2,3)] = 5.46\n",
    "    V[(4,5,6)] = 7.13\n",
    "    return V\n",
    "\n",
    "fn()"
   ]
  },
  {
   "cell_type": "code",
   "execution_count": 82,
   "metadata": {},
   "outputs": [],
   "source": [
    "class MC_Prediction:\n",
    "    def __init__(self, num_episodes, env, gamma, policy, epsilon, \n",
    "                 strategy, alpha=None):\n",
    "        self.num_episodes = num_episodes\n",
    "        self.env = env\n",
    "        self.V = defaultdict(float)   # estimated state values\n",
    "        self.N = defaultdict(int)     # visit count\n",
    "        self.policy = policy\n",
    "        self.gamma = gamma            # discount factor\n",
    "        self.epsilon = epsilon        # exploration rate\n",
    "        self.strategy = strategy      # action selection strategy\n",
    "        self.alpha = alpha            # constant factor\n",
    "        self.rewards_all_episodes_fv = []\n",
    "        self.rewards_all_episodes_ev = []\n",
    "\n",
    "    def generate_episode(self):\n",
    "        state, _ = self.env.reset()\n",
    "        episode = []\n",
    "        while True:\n",
    "            action = self.strategy(self.env, self.epsilon, \n",
    "                                   self.policy, state)\n",
    "            next_state, reward, done, trunc, _ = env.step(action)\n",
    "            episode.append((state, reward))\n",
    "            state = next_state\n",
    "            if (done or trunc):\n",
    "                break\n",
    "        return episode\n",
    "\n",
    "\n",
    "    def first_visit(self):\n",
    "        \"\"\"\n",
    "        This is the first-visit MC Value Prediction algorithm for estimation.\n",
    "        Check pg. 80 of Nimish Sanghi's book for the pseudocode.\n",
    "        \"\"\"\n",
    "        for _ in tqdm(range(self.num_episodes)):\n",
    "            experience = self.generate_episode()\n",
    "            states, rewards = zip(*experience)\n",
    "            self.rewards_all_episodes_fv.append(sum(rewards))\n",
    "            G = 0\n",
    "            for t in range(len(states)-1, -1, -1):\n",
    "                s, r = states[t], rewards[t]\n",
    "                G = self.gamma * G + r\n",
    "                if s not in states[:t]:\n",
    "                    if self.alpha is not None:\n",
    "                        self.V[s] = self.V[s] + self.alpha * (G - self.V[s])\n",
    "                    else:\n",
    "                        self.N[s] += 1\n",
    "                        self.V[s] = self.V[s] + (1/self.N[s]) * (G - self.V[s])\n",
    "        return self.V\n",
    "\n",
    "\n",
    "    def every_visit(self):\n",
    "        \"\"\"\n",
    "        This is the every-visit MC Value Prediction algorithm for estimation.\n",
    "        \"\"\"\n",
    "        for _ in tqdm(range(self.num_episodes)):\n",
    "            experience = self.generate_episode()\n",
    "            states, rewards = zip(*experience)\n",
    "            self.rewards_all_episodes_ev.append(sum(rewards))\n",
    "            G = 0\n",
    "            for t in range(len(states)-1, -1, -1):\n",
    "                s, r = states[t], rewards[t]\n",
    "                G = self.gamma * G + r\n",
    "                if self.alpha is not None:\n",
    "                    self.V[s] = self.V[s] + self.alpha * (G - self.V[s])\n",
    "                else:\n",
    "                    self.N[s] += 1\n",
    "                    self.V[s] = self.V[s] + (1/self.N[s]) * (G - self.V[s])\n",
    "        return self.V\n",
    "    "
   ]
  },
  {
   "cell_type": "code",
   "execution_count": 74,
   "metadata": {},
   "outputs": [],
   "source": [
    "n_actions = env.action_space.n\n",
    "random_policy = defaultdict(lambda: np.ones(n_actions) / n_actions)\n",
    "num_episodes = 10_000\n",
    "env = gym.make(\"Blackjack-v1\", natural=False, sab=False)\n",
    "gamma = 1\n",
    "epsilon = 1\n",
    "strategy = epsilon_greedy_strategy"
   ]
  },
  {
   "cell_type": "code",
   "execution_count": 75,
   "metadata": {},
   "outputs": [],
   "source": [
    "fv_mc = MC_Prediction(num_episodes, env, gamma, random_policy, epsilon, strategy)"
   ]
  },
  {
   "cell_type": "code",
   "execution_count": 76,
   "metadata": {},
   "outputs": [
    {
     "data": {
      "text/plain": [
       "[((8, 4, 0), -1.0)]"
      ]
     },
     "execution_count": 76,
     "metadata": {},
     "output_type": "execute_result"
    }
   ],
   "source": [
    "fv_mc.generate_episode()"
   ]
  },
  {
   "cell_type": "code",
   "execution_count": 77,
   "metadata": {},
   "outputs": [
    {
     "name": "stderr",
     "output_type": "stream",
     "text": [
      "100%|██████████| 10000/10000 [00:01<00:00, 5616.39it/s]\n"
     ]
    },
    {
     "data": {
      "text/plain": [
       "defaultdict(float,\n",
       "            {(18, 4, 0): -0.15,\n",
       "             (17, 10, 0): -0.6138613861386139,\n",
       "             (15, 10, 0): -0.6282894736842105,\n",
       "             (18, 5, 1): -0.3125,\n",
       "             (7, 5, 0): 0.0,\n",
       "             (15, 5, 0): -0.34210526315789475,\n",
       "             (14, 10, 0): -0.6095238095238096,\n",
       "             (7, 10, 0): -0.5,\n",
       "             (19, 7, 1): 0.4,\n",
       "             (8, 7, 0): -0.16666666666666666,\n",
       "             (5, 7, 0): -0.6666666666666666,\n",
       "             (18, 9, 0): -0.5357142857142857,\n",
       "             (13, 10, 0): -0.5778546712802768,\n",
       "             (18, 10, 0): -0.5427509293680297,\n",
       "             (16, 10, 0): -0.6013289036544851,\n",
       "             (10, 10, 0): -0.3971631205673759,\n",
       "             (11, 10, 0): -0.6125,\n",
       "             (15, 10, 1): -0.7297297297297297,\n",
       "             (19, 10, 0): -0.40217391304347827,\n",
       "             (12, 10, 0): -0.5474006116207951,\n",
       "             (9, 9, 0): -0.5,\n",
       "             (15, 1, 0): -0.927710843373494,\n",
       "             (19, 1, 0): -0.4461538461538462,\n",
       "             (16, 1, 0): -0.8493150684931506,\n",
       "             (15, 9, 0): -0.5975609756097561,\n",
       "             (16, 4, 1): -0.25,\n",
       "             (14, 4, 1): -0.3333333333333333,\n",
       "             (7, 9, 0): -0.7142857142857143,\n",
       "             (20, 10, 1): 0.056338028169014086,\n",
       "             (16, 10, 1): -0.5660377358490566,\n",
       "             (18, 6, 0): -0.1791044776119403,\n",
       "             (14, 4, 0): -0.32098765432098764,\n",
       "             (11, 1, 0): -0.7407407407407407,\n",
       "             (13, 10, 1): -0.38235294117647056,\n",
       "             (21, 7, 0): 0.075,\n",
       "             (21, 7, 1): 0.2222222222222222,\n",
       "             (18, 8, 0): -0.5714285714285714,\n",
       "             (16, 9, 0): -0.5432098765432098,\n",
       "             (17, 1, 1): -0.5454545454545454,\n",
       "             (13, 1, 1): -0.7777777777777778,\n",
       "             (7, 3, 0): -0.125,\n",
       "             (20, 10, 0): -0.18101545253863136,\n",
       "             (18, 10, 1): -0.4772727272727273,\n",
       "             (13, 9, 0): -0.6590909090909091,\n",
       "             (19, 8, 0): -0.015151515151515152,\n",
       "             (21, 8, 1): 0.14705882352941177,\n",
       "             (20, 6, 0): -0.06930693069306931,\n",
       "             (15, 2, 0): -0.5060240963855421,\n",
       "             (14, 2, 0): -0.5135135135135135,\n",
       "             (12, 3, 0): -0.4044943820224719,\n",
       "             (17, 2, 0): -0.5851063829787234,\n",
       "             (15, 7, 0): -0.5189873417721519,\n",
       "             (6, 5, 0): -0.21052631578947367,\n",
       "             (19, 7, 0): -0.2,\n",
       "             (12, 7, 0): -0.5588235294117647,\n",
       "             (9, 10, 0): -0.4,\n",
       "             (17, 9, 0): -0.6301369863013698,\n",
       "             (20, 8, 0): -0.11224489795918367,\n",
       "             (17, 1, 0): -0.7974683544303798,\n",
       "             (10, 1, 0): -0.75,\n",
       "             (12, 10, 1): -0.8461538461538461,\n",
       "             (15, 6, 0): -0.4857142857142857,\n",
       "             (20, 5, 0): -0.05555555555555555,\n",
       "             (18, 3, 0): -0.4473684210526316,\n",
       "             (13, 3, 0): -0.3037974683544304,\n",
       "             (10, 3, 0): -0.23255813953488372,\n",
       "             (21, 10, 0): -0.08396946564885496,\n",
       "             (14, 5, 0): -0.3404255319148936,\n",
       "             (12, 6, 0): -0.4268292682926829,\n",
       "             (21, 10, 1): 0.23648648648648649,\n",
       "             (10, 5, 0): -0.125,\n",
       "             (19, 10, 1): -0.2857142857142857,\n",
       "             (21, 5, 0): -0.16129032258064516,\n",
       "             (18, 5, 0): -0.2463768115942029,\n",
       "             (9, 6, 0): -0.09090909090909091,\n",
       "             (17, 6, 0): -0.4,\n",
       "             (10, 6, 0): -0.18421052631578946,\n",
       "             (20, 3, 0): -0.12380952380952381,\n",
       "             (17, 3, 0): -0.44776119402985076,\n",
       "             (7, 7, 0): -0.4782608695652174,\n",
       "             (19, 2, 0): -0.28125,\n",
       "             (14, 1, 0): -0.85,\n",
       "             (17, 5, 0): -0.37037037037037035,\n",
       "             (13, 8, 0): -0.6710526315789473,\n",
       "             (21, 2, 1): 0.30434782608695654,\n",
       "             (19, 6, 0): -0.045454545454545456,\n",
       "             (11, 6, 0): -0.25,\n",
       "             (11, 2, 0): -0.42105263157894735,\n",
       "             (8, 6, 0): -0.12,\n",
       "             (11, 7, 0): -0.375,\n",
       "             (14, 6, 0): -0.2676056338028169,\n",
       "             (17, 4, 0): -0.65625,\n",
       "             (6, 2, 0): -0.4,\n",
       "             (12, 5, 0): -0.3815789473684211,\n",
       "             (21, 9, 1): 0.22916666666666666,\n",
       "             (20, 2, 0): -0.1568627450980392,\n",
       "             (20, 4, 0): -0.06363636363636363,\n",
       "             (20, 9, 1): 0.4117647058823529,\n",
       "             (19, 4, 0): -0.18292682926829268,\n",
       "             (11, 8, 0): -0.40476190476190477,\n",
       "             (8, 8, 0): -0.48484848484848486,\n",
       "             (12, 2, 0): -0.35294117647058826,\n",
       "             (16, 3, 0): -0.5833333333333334,\n",
       "             (13, 6, 0): -0.4387755102040816,\n",
       "             (6, 10, 0): -0.65,\n",
       "             (19, 5, 0): -0.11688311688311688,\n",
       "             (18, 4, 1): 0.11764705882352941,\n",
       "             (5, 9, 0): -0.5,\n",
       "             (14, 8, 0): -0.6705882352941176,\n",
       "             (21, 6, 0): 0.0,\n",
       "             (13, 3, 1): -0.3333333333333333,\n",
       "             (16, 5, 0): -0.3,\n",
       "             (8, 1, 0): -0.8888888888888888,\n",
       "             (15, 4, 0): -0.4057971014492754,\n",
       "             (15, 3, 1): -0.16666666666666666,\n",
       "             (13, 2, 0): -0.3855421686746988,\n",
       "             (18, 1, 1): -0.16666666666666666,\n",
       "             (21, 4, 0): 0.0,\n",
       "             (5, 6, 0): 0.5,\n",
       "             (19, 3, 0): -0.22033898305084745,\n",
       "             (15, 3, 0): -0.44155844155844154,\n",
       "             (12, 9, 0): -0.6629213483146067,\n",
       "             (21, 2, 0): -0.046511627906976744,\n",
       "             (18, 7, 0): -0.1044776119402985,\n",
       "             (11, 4, 0): 0.0,\n",
       "             (5, 5, 0): -0.09090909090909091,\n",
       "             (5, 8, 0): -0.8571428571428571,\n",
       "             (21, 6, 1): 0.40476190476190477,\n",
       "             (13, 4, 0): -0.25287356321839083,\n",
       "             (16, 8, 0): -0.5555555555555556,\n",
       "             (20, 3, 1): 0.2857142857142857,\n",
       "             (18, 3, 1): 0.0,\n",
       "             (10, 4, 0): -0.3333333333333333,\n",
       "             (21, 1, 0): -0.2571428571428571,\n",
       "             (12, 4, 0): -0.45652173913043476,\n",
       "             (9, 4, 0): -0.03225806451612903,\n",
       "             (20, 1, 0): -0.44036697247706424,\n",
       "             (20, 1, 1): 0.09090909090909091,\n",
       "             (9, 1, 0): -0.9285714285714286,\n",
       "             (15, 4, 1): -0.125,\n",
       "             (4, 6, 0): -0.375,\n",
       "             (10, 2, 0): -0.47368421052631576,\n",
       "             (8, 10, 0): -0.6555555555555556,\n",
       "             (17, 8, 0): -0.5285714285714286,\n",
       "             (17, 7, 0): -0.42857142857142855,\n",
       "             (14, 9, 0): -0.7976190476190477,\n",
       "             (14, 9, 1): -0.14285714285714285,\n",
       "             (12, 1, 0): -0.64,\n",
       "             (16, 4, 0): -0.4861111111111111,\n",
       "             (11, 5, 0): -0.25,\n",
       "             (17, 10, 1): -0.37777777777777777,\n",
       "             (13, 1, 0): -0.6060606060606061,\n",
       "             (15, 8, 1): -0.42857142857142855,\n",
       "             (13, 8, 1): -1.0,\n",
       "             (18, 2, 0): -0.30158730158730157,\n",
       "             (18, 2, 1): -0.4117647058823529,\n",
       "             (16, 7, 0): -0.5217391304347826,\n",
       "             (9, 2, 0): -0.23076923076923078,\n",
       "             (16, 2, 0): -0.391304347826087,\n",
       "             (20, 5, 1): 0.0,\n",
       "             (13, 5, 0): -0.30952380952380953,\n",
       "             (16, 6, 0): -0.5070422535211268,\n",
       "             (21, 9, 0): 0.0,\n",
       "             (21, 3, 0): -0.027777777777777776,\n",
       "             (21, 3, 1): 0.5333333333333333,\n",
       "             (12, 8, 0): -0.46987951807228917,\n",
       "             (20, 7, 1): 0.3076923076923077,\n",
       "             (16, 7, 1): -0.375,\n",
       "             (20, 9, 0): -0.14634146341463414,\n",
       "             (15, 8, 0): -0.6842105263157895,\n",
       "             (7, 4, 0): -0.32,\n",
       "             (13, 6, 1): 0.0,\n",
       "             (11, 9, 0): -0.24489795918367346,\n",
       "             (14, 7, 0): -0.5517241379310345,\n",
       "             (11, 3, 0): -0.023255813953488372,\n",
       "             (5, 3, 0): -0.2727272727272727,\n",
       "             (8, 3, 0): -0.25,\n",
       "             (10, 9, 0): -0.5,\n",
       "             (7, 1, 0): -0.2222222222222222,\n",
       "             (14, 10, 1): -0.8235294117647058,\n",
       "             (12, 2, 1): 0.6,\n",
       "             (10, 8, 0): -0.2708333333333333,\n",
       "             (14, 7, 1): -0.3333333333333333,\n",
       "             (16, 1, 1): -0.7,\n",
       "             (14, 1, 1): -0.4666666666666667,\n",
       "             (9, 5, 0): -0.047619047619047616,\n",
       "             (6, 7, 0): -0.7777777777777778,\n",
       "             (18, 9, 1): 0.25,\n",
       "             (8, 2, 0): -0.36,\n",
       "             (21, 4, 1): 0.43243243243243246,\n",
       "             (14, 3, 0): -0.47058823529411764,\n",
       "             (20, 7, 0): 0.0,\n",
       "             (9, 3, 0): -0.2727272727272727,\n",
       "             (20, 2, 1): 0.3125,\n",
       "             (21, 1, 1): 0.07407407407407407,\n",
       "             (19, 1, 1): -0.6,\n",
       "             (13, 7, 0): -0.5,\n",
       "             (19, 9, 0): -0.19298245614035087,\n",
       "             (16, 8, 1): -0.5555555555555556,\n",
       "             (13, 2, 1): -0.5,\n",
       "             (16, 6, 1): -0.14285714285714285,\n",
       "             (10, 7, 0): -0.15,\n",
       "             (4, 5, 0): 0.3333333333333333,\n",
       "             (6, 3, 0): -0.3333333333333333,\n",
       "             (12, 6, 1): 0.3333333333333333,\n",
       "             (19, 2, 1): -0.1111111111111111,\n",
       "             (9, 8, 0): -0.5,\n",
       "             (16, 9, 1): -0.1111111111111111,\n",
       "             (15, 9, 1): -1.0,\n",
       "             (5, 4, 0): -0.2727272727272727,\n",
       "             (21, 8, 0): -0.1724137931034483,\n",
       "             (18, 8, 1): -0.5,\n",
       "             (19, 5, 1): -0.13333333333333333,\n",
       "             (17, 7, 1): 0.2222222222222222,\n",
       "             (15, 6, 1): 0.2,\n",
       "             (21, 5, 1): 0.16326530612244897,\n",
       "             (5, 10, 0): -0.3076923076923077,\n",
       "             (4, 10, 0): -0.5238095238095238,\n",
       "             (12, 3, 1): 0.0,\n",
       "             (12, 1, 1): -0.6,\n",
       "             (4, 3, 0): -1.0,\n",
       "             (17, 2, 1): -0.15789473684210525,\n",
       "             (6, 1, 0): -0.35294117647058826,\n",
       "             (6, 4, 0): -0.6363636363636364,\n",
       "             (18, 7, 1): 0.8,\n",
       "             (14, 8, 1): -0.3333333333333333,\n",
       "             (16, 3, 1): -0.3181818181818182,\n",
       "             (9, 7, 0): -0.3333333333333333,\n",
       "             (8, 4, 0): -0.058823529411764705,\n",
       "             (7, 8, 0): -0.5882352941176471,\n",
       "             (5, 2, 0): 0.0,\n",
       "             (17, 8, 1): 0.1111111111111111,\n",
       "             (19, 8, 1): 0.3333333333333333,\n",
       "             (8, 5, 0): -0.07407407407407407,\n",
       "             (17, 5, 1): -0.42857142857142855,\n",
       "             (18, 1, 0): -0.6590909090909091,\n",
       "             (15, 1, 1): -1.0,\n",
       "             (17, 3, 1): -0.2727272727272727,\n",
       "             (20, 8, 1): 0.2,\n",
       "             (4, 7, 0): 0.0,\n",
       "             (12, 8, 1): 0.3333333333333333,\n",
       "             (5, 1, 0): -0.8333333333333334,\n",
       "             (16, 5, 1): -1.0,\n",
       "             (15, 5, 1): -0.6,\n",
       "             (12, 7, 1): -0.5,\n",
       "             (20, 6, 1): 0.3333333333333333,\n",
       "             (8, 9, 0): -0.6,\n",
       "             (15, 2, 1): -0.6666666666666666,\n",
       "             (19, 3, 1): 0.23076923076923078,\n",
       "             (14, 3, 1): -0.1111111111111111,\n",
       "             (16, 2, 1): 0.16666666666666666,\n",
       "             (7, 6, 0): -0.5263157894736842,\n",
       "             (7, 2, 0): -0.25,\n",
       "             (6, 8, 0): -0.25,\n",
       "             (19, 6, 1): -0.2222222222222222,\n",
       "             (20, 4, 1): 0.3125,\n",
       "             (19, 4, 1): 0.375,\n",
       "             (12, 9, 1): 1.0,\n",
       "             (6, 6, 0): -0.25,\n",
       "             (4, 1, 0): -0.3333333333333333,\n",
       "             (13, 7, 1): -0.3333333333333333,\n",
       "             (17, 9, 1): -0.75,\n",
       "             (18, 6, 1): -0.23076923076923078,\n",
       "             (4, 4, 0): -0.6666666666666666,\n",
       "             (19, 9, 1): 0.0,\n",
       "             (6, 9, 0): -0.4,\n",
       "             (13, 5, 1): -0.1111111111111111,\n",
       "             (13, 4, 1): 0.16666666666666666,\n",
       "             (14, 5, 1): -0.2,\n",
       "             (14, 2, 1): -0.38461538461538464,\n",
       "             (17, 6, 1): 0.08333333333333333,\n",
       "             (15, 7, 1): 0.0,\n",
       "             (13, 9, 1): -1.0,\n",
       "             (14, 6, 1): -0.625,\n",
       "             (17, 4, 1): 0.1111111111111111,\n",
       "             (4, 8, 0): -1.0,\n",
       "             (12, 5, 1): -0.2,\n",
       "             (4, 9, 0): -0.3333333333333333,\n",
       "             (12, 4, 1): 0.3333333333333333,\n",
       "             (4, 2, 0): 1.0})"
      ]
     },
     "execution_count": 77,
     "metadata": {},
     "output_type": "execute_result"
    }
   ],
   "source": [
    "fv_mc.first_visit()"
   ]
  },
  {
   "cell_type": "code",
   "execution_count": 80,
   "metadata": {},
   "outputs": [
    {
     "data": {
      "image/png": "[encoded data removed]",
      "text/plain": [
       "<Figure size 432x288 with 1 Axes>"
      ]
     },
     "metadata": {
      "needs_background": "light"
     },
     "output_type": "display_data"
    }
   ],
   "source": [
    "plot_win_rate(fv_mc.rewards_all_episodes_fv, fv_mc.num_episodes)"
   ]
  },
  {
   "cell_type": "code",
   "execution_count": 81,
   "metadata": {},
   "outputs": [
    {
     "data": {
      "image/png": "[encoded data removed]",
      "text/plain": [
       "<Figure size 1080x1080 with 4 Axes>"
      ]
     },
     "metadata": {
      "needs_background": "light"
     },
     "output_type": "display_data"
    }
   ],
   "source": [
    "# the plots are empty as we don't have a policy, ie,\n",
    "# we are following a random policy\n",
    "plot_policy(fv_mc.policy)"
   ]
  },
  {
   "cell_type": "markdown",
   "metadata": {},
   "source": [
    "![Optimal Policy](./blackjack/optimal.png \"Optimal Policy\")"
   ]
  },
  {
   "cell_type": "code",
   "execution_count": null,
   "metadata": {},
   "outputs": [],
   "source": []
  }
 ],
 "metadata": {
  "kernelspec": {
   "display_name": "base",
   "language": "python",
   "name": "python3"
  },
  "language_info": {
   "codemirror_mode": {
    "name": "ipython",
    "version": 3
   },
   "file_extension": ".py",
   "mimetype": "text/x-python",
   "name": "python",
   "nbconvert_exporter": "python",
   "pygments_lexer": "ipython3",
   "version": "3.9.7"
  }
 },
 "nbformat": 4,
 "nbformat_minor": 2
}
