{
 "cells": [
  {
   "cell_type": "markdown",
   "metadata": {},
   "source": [
    "## Expected SARSA Algorithm"
   ]
  },
  {
   "cell_type": "markdown",
   "metadata": {},
   "source": [
    "Resources used while writing this notebook:\n",
    "- [Nimish Sanghi's book on Deep RL](https://www.amazon.com/Deep-Reinforcement-Learning-Python-TensorFlow/dp/1484268083)"
   ]
  },
  {
   "cell_type": "markdown",
   "metadata": {},
   "source": [
    "Expected SARSA is a mixture of Q-learning and SARSA. The difference is that $max$ is replaced by an expectation in the Q-learning update rule. "
   ]
  },
  {
   "cell_type": "markdown",
   "metadata": {},
   "source": [
    "Update rule for Q-learning:\n",
    "\n",
    "$$\\displaystyle Q(S_t, A_t) \\; = \\; Q(S_t, A_t) \\, + \\, \\alpha [R_{t+1} + \\gamma \\, max_{A_{t+1}} Q(S_{t+1}, A_{t+1}) \\, - \\, Q(S_t, A_t)]$$"
   ]
  },
  {
   "cell_type": "markdown",
   "metadata": {},
   "source": [
    "Update rule for Expected SARSA:\n",
    "\n",
    "\\begin{align*}\n",
    "Q(S_t, A_t) \\; & = \\; Q(S_t, A_t) \\, + \\, \\alpha \\left[ R_{t+1} \\, + \\, \\gamma \\cdot \\mathbb{E}_a \\, \\left[ Q(S_{t+1}, a) \\right] \\, - \\, Q(S_t, A_t) \\right] \\\\\n",
    "& = \\; Q(S_t, A_t) \\, + \\, \\alpha \\left[ R_{t+1} \\, + \\, \\gamma \\cdot \\sum \\limits_a \\left[ \\pi (a | S_{t+1}) \\, \\cdot \\, Q(S_{t+1}, a) \\right] \\, - \\, Q(S_t, A_t) \\right] \\\\\n",
    "& = \\; Q(S_t, A_t) \\, + \\, \\alpha \\cdot \\delta_t\n",
    "\\end{align*}\n",
    "\n",
    ", where \n",
    "- $\\displaystyle \\; \\delta_t \\; = \\; R_{t+1} + \\gamma \\cdot \\mathbb{E}_a \\, \\left[ Q(S_{t+1}, a) \\right] \\, - \\, Q(S_t, A_t) \\; = \\;$ TD error \n",
    "- $\\displaystyle \\mathbb{E}_a \\, \\left[ Q(S_{t+1}, a) \\right] = \\sum \\limits_a \\left[ \\pi (a | S_{t+1}) \\, \\cdot \\, Q(S_{t+1}, a) \\right] $"
   ]
  },
  {
   "cell_type": "markdown",
   "metadata": {},
   "source": [
    "- We can run expected SARSA as on-policy, which is what we will do while testing it against the cliff and taxi worlds. \n",
    "- It can also be run off-­policy where the behavior policy is more exploratory and the target policy $\\pi$ follows a deterministic greedy policy."
   ]
  },
  {
   "cell_type": "code",
   "execution_count": 1,
   "metadata": {},
   "outputs": [],
   "source": [
    "import gymnasium as gym\n",
    "import numpy as np\n",
    "from collections import defaultdict\n",
    "from tqdm import tqdm\n",
    "import matplotlib.pyplot as plt\n",
    "from IPython.display import Image\n",
    "\n",
    "%matplotlib inline"
   ]
  },
  {
   "cell_type": "code",
   "execution_count": 2,
   "metadata": {},
   "outputs": [],
   "source": [
    "class Expected_SARSA:\n",
    "    \"\"\"Expected_SARSA (on-policy TD control) algorithm.\"\"\"\n",
    "    def __init__(self, get_possible_actions, strategy, \n",
    "                 epsilon=1, alpha=1, gamma=1):\n",
    "        self._Q = defaultdict(lambda: defaultdict(lambda: 0))\n",
    "        self.get_possible_actions = get_possible_actions\n",
    "        self.epsilon = epsilon\n",
    "        self.strategy = strategy\n",
    "        self.alpha = alpha   # learning rate or step size\n",
    "        self.gamma = gamma   # discount factor\n",
    "\n",
    "\n",
    "    def _get_Q(self, state, action):\n",
    "        return self._Q[state][action]\n",
    "\n",
    "\n",
    "    def set_Q(self, state, action, value):\n",
    "        self._Q[state][action] = value\n",
    "\n",
    "\n",
    "    def update(self, state, action, reward, next_state, done):\n",
    "        \"\"\"\n",
    "        This is the main update function for the Expected SARSA algorithm.\n",
    "        Note that this function only contains the update equations, \n",
    "        not the entire Expected SARSA algorithm.\n",
    "        \"\"\"\n",
    "        if not done:\n",
    "            best_next_action = self.max_action(next_state)\n",
    "            actions = self.get_possible_actions(next_state)\n",
    "            next_q = 0\n",
    "            # calculate the expected value of the next state\n",
    "            for next_action in actions:\n",
    "                if next_action == best_next_action:\n",
    "                    term = 1 - self.epsilon + (self.epsilon / len(actions))\n",
    "                else:\n",
    "                    term = self.epsilon / len(actions)\n",
    "                next_q += term * self._get_Q(next_state, next_action)\n",
    "            td_error = reward + self.gamma * next_q - self._get_Q(state, action)\n",
    "        else:\n",
    "            td_error = reward - self._get_Q(state, action)\n",
    "        q_value = self._get_Q(state, action) + self.alpha * td_error\n",
    "        self.set_Q(state, action, q_value)\n",
    "\n",
    "\n",
    "    def max_action(self, state):\n",
    "        \"\"\"\n",
    "        Return the best action for a given state, ie,\n",
    "        the action in the state-action pair that has the highest Q-value.\n",
    "        If there are multiple actions with the same Q-value,\n",
    "        return a random action from the set of best actions.\n",
    "        \"\"\"\n",
    "        actions = self.get_possible_actions(state)\n",
    "        best_action = []\n",
    "        best_q_value = float(\"-inf\")\n",
    "        for action in actions:\n",
    "            q_value = self._get_Q(state, action)\n",
    "            if q_value > best_q_value:\n",
    "                best_action = [action]\n",
    "                best_q_value = q_value\n",
    "            elif q_value == best_q_value:\n",
    "                best_action.append(action)\n",
    "        return np.random.choice(np.array(best_action))\n",
    "\n",
    "\n",
    "    def get_action(self, state):\n",
    "        \"\"\"\n",
    "        Choose an action based on the input strategy.\n",
    "        \"\"\"\n",
    "        return self.strategy(self.epsilon, self.get_possible_actions,\n",
    "                             state, self.max_action)\n",
    "\n"
   ]
  },
  {
   "cell_type": "code",
   "execution_count": 3,
   "metadata": {},
   "outputs": [],
   "source": [
    "def epsilon_greedy_strategy(epsilon, get_possible_actions, state, max_action):\n",
    "    \"\"\"\n",
    "    Epsilon-greedy strategy.\n",
    "\n",
    "    Choose a random number in the interval [0, 1) with a uniform \n",
    "    probability distribution. Use np.random.random() to do this.\n",
    "\n",
    "    If this random number is less than epsilon, return a random action.\n",
    "    Otherwise, return the best action for the given state.\n",
    "    \"\"\"\n",
    "    actions = get_possible_actions(state)\n",
    "    if len(actions) == 0:\n",
    "        return None\n",
    "    random_number = np.random.random()\n",
    "    if random_number < epsilon:\n",
    "        # exploration\n",
    "        return np.random.choice(actions)\n",
    "    else:\n",
    "        # exploitation\n",
    "        return max_action(state)\n",
    "    "
   ]
  },
  {
   "cell_type": "code",
   "execution_count": 5,
   "metadata": {},
   "outputs": [],
   "source": [
    "def train_agent(env, agent, num_episodes=10_000, t_max=10_000, decay_rate=None):\n",
    "    \"\"\"\n",
    "    This is a generic training function.\n",
    "\n",
    "    env: gymnasium environment\n",
    "    agent: Expected_SARSA object\n",
    "    num_episodes: (int) number of episodes to train the agent\n",
    "    t_max: (int) maximum number of steps per episode\n",
    "    decay_rate: (float) epsilon decay rate\n",
    "    \"\"\"\n",
    "    episode_rewards = []\n",
    "    for i in tqdm(range(num_episodes)):\n",
    "        G = 0\n",
    "        state, _ = env.reset()\n",
    "        action = agent.get_action(state)\n",
    "        for t in range(t_max):\n",
    "            next_state, reward, done, trunc, _ = env.step(action)\n",
    "            next_action = agent.get_action(next_state)\n",
    "            flag = (done or trunc)\n",
    "            agent.update(state, action, reward, next_state, flag)\n",
    "            G += reward\n",
    "            if flag:\n",
    "                episode_rewards.append(G)\n",
    "                if decay_rate is not None:\n",
    "                    agent.epsilon = agent.epsilon * decay_rate\n",
    "                break\n",
    "            state = next_state\n",
    "            action = next_action\n",
    "    return np.array(episode_rewards)\n"
   ]
  },
  {
   "cell_type": "code",
   "execution_count": 6,
   "metadata": {},
   "outputs": [],
   "source": [
    "def plot_rewards(env_name, rewards, label):\n",
    "    plt.title(f\"Env: {env_name}  Mean Reward: {np.mean(rewards[-20:]):.1f}\")\n",
    "    plt.plot(rewards, label=label)\n",
    "    plt.grid()\n",
    "    plt.legend()\n",
    "    plt.show()\n"
   ]
  },
  {
   "cell_type": "markdown",
   "metadata": {},
   "source": [
    "### Trying out Q-learning on Cliff Walking environment"
   ]
  },
  {
   "cell_type": "code",
   "execution_count": null,
   "metadata": {},
   "outputs": [
    {
     "data": {
      "text/html": [
       "<img src=\"https://gymnasium.farama.org/_images/cliff_walking.gif\"/>"
      ],
      "text/plain": [
       "<IPython.core.display.Image object>"
      ]
     },
     "metadata": {},
     "output_type": "display_data"
    }
   ],
   "source": [
    "Image(url=\"https://gymnasium.farama.org/_images/cliff_walking.gif\")"
   ]
  },
  {
   "cell_type": "code",
   "execution_count": 7,
   "metadata": {},
   "outputs": [],
   "source": [
    "# create Cliff Walking environment\n",
    "cw_env = gym.make(\"CliffWalking-v0\")"
   ]
  },
  {
   "cell_type": "code",
   "execution_count": 8,
   "metadata": {},
   "outputs": [
    {
     "data": {
      "text/plain": [
       "(36, {'prob': 1})"
      ]
     },
     "execution_count": 8,
     "metadata": {},
     "output_type": "execute_result"
    }
   ],
   "source": [
    "cw_env.reset()"
   ]
  },
  {
   "cell_type": "code",
   "execution_count": 9,
   "metadata": {},
   "outputs": [
    {
     "data": {
      "text/plain": [
       "4"
      ]
     },
     "execution_count": 9,
     "metadata": {},
     "output_type": "execute_result"
    }
   ],
   "source": [
    "cw_env.action_space.n"
   ]
  },
  {
   "cell_type": "code",
   "execution_count": 10,
   "metadata": {},
   "outputs": [
    {
     "data": {
      "text/plain": [
       "48"
      ]
     },
     "execution_count": 10,
     "metadata": {},
     "output_type": "execute_result"
    }
   ],
   "source": [
    "cw_env.observation_space.n"
   ]
  },
  {
   "cell_type": "code",
   "execution_count": 11,
   "metadata": {},
   "outputs": [
    {
     "name": "stderr",
     "output_type": "stream",
     "text": [
      "  0%|          | 0/5000 [00:00<?, ?it/s]"
     ]
    },
    {
     "name": "stderr",
     "output_type": "stream",
     "text": [
      "100%|██████████| 5000/5000 [00:15<00:00, 324.19it/s]\n"
     ]
    }
   ],
   "source": [
    "agent1 = Expected_SARSA(\n",
    "    get_possible_actions = lambda s : range(cw_env.action_space.n),\n",
    "    strategy = epsilon_greedy_strategy,\n",
    "    epsilon = 0.2,\n",
    "    alpha = 0.25, \n",
    "    gamma = 0.99\n",
    ")\n",
    "\n",
    "rewards = train_agent(cw_env, agent1, num_episodes=5000, decay_rate=0.99)"
   ]
  },
  {
   "cell_type": "code",
   "execution_count": 12,
   "metadata": {},
   "outputs": [
    {
     "data": {
      "image/png": "[encoded data removed]",
      "text/plain": [
       "<Figure size 432x288 with 1 Axes>"
      ]
     },
     "metadata": {
      "needs_background": "light"
     },
     "output_type": "display_data"
    }
   ],
   "source": [
    "plot_rewards(\"Cliff Walking\", rewards, \"Expected SARSA\")"
   ]
  },
  {
   "cell_type": "code",
   "execution_count": 13,
   "metadata": {},
   "outputs": [
    {
     "name": "stdout",
     "output_type": "stream",
     "text": [
      "state: 36\n",
      "best_action: UP\n",
      "state: 24\n",
      "best_action: UP\n",
      "state: 12\n",
      "best_action: RIGHT\n",
      "state: 13\n",
      "best_action: RIGHT\n",
      "state: 14\n",
      "best_action: RIGHT\n",
      "state: 15\n",
      "best_action: RIGHT\n",
      "state: 16\n",
      "best_action: RIGHT\n",
      "state: 17\n",
      "best_action: RIGHT\n",
      "state: 18\n",
      "best_action: RIGHT\n",
      "state: 19\n",
      "best_action: RIGHT\n",
      "state: 20\n",
      "best_action: RIGHT\n",
      "state: 21\n",
      "best_action: RIGHT\n",
      "state: 22\n",
      "best_action: RIGHT\n",
      "state: 23\n",
      "best_action: DOWN\n",
      "state: 35\n",
      "best_action: DOWN\n",
      "Terminal state reached.\n",
      "State: 47\n"
     ]
    }
   ],
   "source": [
    "def fn():\n",
    "    action_dict = {\n",
    "        0: \"UP\",\n",
    "        1: \"RIGHT\",\n",
    "        2: \"DOWN\",\n",
    "        3: \"LEFT\"\n",
    "    }\n",
    "    state, _ = cw_env.reset()\n",
    "    print(f\"state: {state}\")\n",
    "    while True:\n",
    "        best_action = agent1.max_action(state)\n",
    "        print(f\"best_action: {action_dict[best_action]}\")\n",
    "        next_state, reward, done, trunc, _ = cw_env.step(best_action)\n",
    "        if done or trunc:\n",
    "            print(f\"Terminal state reached.\\nState: {next_state}\")\n",
    "            break\n",
    "        state = next_state\n",
    "        print(f\"state: {state}\")\n",
    "\n",
    "fn()"
   ]
  },
  {
   "cell_type": "markdown",
   "metadata": {},
   "source": [
    "### Trying out Q-learning on Taxi environment"
   ]
  },
  {
   "cell_type": "code",
   "execution_count": null,
   "metadata": {},
   "outputs": [
    {
     "data": {
      "text/html": [
       "<img src=\"https://gymnasium.farama.org/_images/taxi.gif\"/>"
      ],
      "text/plain": [
       "<IPython.core.display.Image object>"
      ]
     },
     "metadata": {},
     "output_type": "display_data"
    }
   ],
   "source": [
    "Image(url=\"https://gymnasium.farama.org/_images/taxi.gif\")"
   ]
  },
  {
   "cell_type": "code",
   "execution_count": 14,
   "metadata": {},
   "outputs": [],
   "source": [
    "t_env = gym.make(\"Taxi-v3\")"
   ]
  },
  {
   "cell_type": "code",
   "execution_count": 15,
   "metadata": {},
   "outputs": [
    {
     "data": {
      "text/plain": [
       "(402, {'prob': 1.0, 'action_mask': array([0, 1, 0, 0, 0, 0], dtype=int8)})"
      ]
     },
     "execution_count": 15,
     "metadata": {},
     "output_type": "execute_result"
    }
   ],
   "source": [
    "t_env.reset()"
   ]
  },
  {
   "cell_type": "code",
   "execution_count": 16,
   "metadata": {},
   "outputs": [
    {
     "data": {
      "text/plain": [
       "6"
      ]
     },
     "execution_count": 16,
     "metadata": {},
     "output_type": "execute_result"
    }
   ],
   "source": [
    "t_env.action_space.n"
   ]
  },
  {
   "cell_type": "code",
   "execution_count": 17,
   "metadata": {},
   "outputs": [
    {
     "data": {
      "text/plain": [
       "500"
      ]
     },
     "execution_count": 17,
     "metadata": {},
     "output_type": "execute_result"
    }
   ],
   "source": [
    "t_env.observation_space.n"
   ]
  },
  {
   "cell_type": "code",
   "execution_count": 18,
   "metadata": {},
   "outputs": [
    {
     "name": "stderr",
     "output_type": "stream",
     "text": [
      "  0%|          | 0/5000 [00:00<?, ?it/s]"
     ]
    },
    {
     "name": "stderr",
     "output_type": "stream",
     "text": [
      "100%|██████████| 5000/5000 [00:21<00:00, 235.98it/s]\n"
     ]
    }
   ],
   "source": [
    "agent2 = Expected_SARSA(\n",
    "    get_possible_actions = lambda state: range(t_env.action_space.n),\n",
    "    strategy = epsilon_greedy_strategy, \n",
    "    epsilon = 0.2,\n",
    "    alpha = 0.25, \n",
    "    gamma = 0.99\n",
    ")\n",
    "\n",
    "rewards = train_agent(t_env, agent2, num_episodes=5000, decay_rate=0.99)"
   ]
  },
  {
   "cell_type": "code",
   "execution_count": 19,
   "metadata": {},
   "outputs": [
    {
     "data": {
      "image/png": "[encoded data removed]",
      "text/plain": [
       "<Figure size 432x288 with 1 Axes>"
      ]
     },
     "metadata": {
      "needs_background": "light"
     },
     "output_type": "display_data"
    }
   ],
   "source": [
    "plot_rewards(\"Taxi\", rewards, \"Expected SARSA\")"
   ]
  },
  {
   "cell_type": "code",
   "execution_count": null,
   "metadata": {},
   "outputs": [],
   "source": []
  }
 ],
 "metadata": {
  "kernelspec": {
   "display_name": "base",
   "language": "python",
   "name": "python3"
  },
  "language_info": {
   "codemirror_mode": {
    "name": "ipython",
    "version": 3
   },
   "file_extension": ".py",
   "mimetype": "text/x-python",
   "name": "python",
   "nbconvert_exporter": "python",
   "pygments_lexer": "ipython3",
   "version": "3.9.7"
  }
 },
 "nbformat": 4,
 "nbformat_minor": 2
}
