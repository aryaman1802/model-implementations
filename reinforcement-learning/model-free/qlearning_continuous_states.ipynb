{
 "cells": [
  {
   "cell_type": "markdown",
   "metadata": {},
   "source": [
    "## Q-learning (off-policy TD Control) for Continous State Spaces"
   ]
  },
  {
   "cell_type": "markdown",
   "metadata": {},
   "source": [
    "Resources used while writing this notebook:\n",
    "- [Nimish Sanghi's book on Deep RL](https://www.amazon.com/Deep-Reinforcement-Learning-Python-TensorFlow/dp/1484268083)"
   ]
  },
  {
   "cell_type": "markdown",
   "metadata": {},
   "source": [
    "Some info about the CartPole environment:\n",
    "\n",
    "A pole is attached to a cart which moves on a frictionless surface. The pole starts upright at the start of episode. The goal is to prevent the pole from falling by increasing or decreasing the velocity of the cart. \n",
    "\n",
    "Observation Space $\\; \\rightarrow \\; $ (Cart position, Cart velocity, Pole angle, Pole angular velocity):\n",
    "- x-position: from -4.8 to 4.8\n",
    "- x-velocity: from -$\\infty$ to $\\infty$\n",
    "- pole-angle: from $-24^{\\circ}$ (or $\\approx -0.418$ rad) to $24^{\\circ}$ (or $\\approx 0.418$ rad)\n",
    "- pole angular velocity: from -$\\infty$ to $\\infty$\n",
    "\n",
    "Action Space: The agent can either take action 0 or action 1, indicating the direction of the fixed force the cart is pushed with.\n",
    "- 0 $\\; \\rightarrow \\;$ Push cart to the left\n",
    "- 1 $\\; \\rightarrow \\;$ Push cart to the right\n",
    "\n",
    "Rewards: Since the goal is to keep the pole upright for as long as possible, by default, a reward of +1 is given for every step taken, including the termination step. The agent wants to maximize reward by keep pole balanced for longest time interval. The episode terminates once the pole angle is more than $12^{\\circ}$  in either direction or the cart position is beyond 2.4 from the center, i.e., either less than -2.4 or greater than 2.4. In addition, the episode ends when the agent is able to keep the pole upright for 500 steps continuously."
   ]
  },
  {
   "cell_type": "code",
   "execution_count": 24,
   "metadata": {},
   "outputs": [],
   "source": [
    "import gymnasium as gym\n",
    "import numpy as np\n",
    "from collections import defaultdict\n",
    "from tqdm import tqdm\n",
    "import matplotlib.pyplot as plt\n",
    "from IPython.display import Image\n",
    "\n",
    "%matplotlib inline"
   ]
  },
  {
   "cell_type": "code",
   "execution_count": 25,
   "metadata": {},
   "outputs": [],
   "source": [
    "class Q_Learning:\n",
    "    \"\"\"Q-learning (off-policy TD control) algorithm.\"\"\"\n",
    "    def __init__(self, get_possible_actions, strategy, \n",
    "                 epsilon=1, alpha=1, gamma=1):\n",
    "        self._Q = defaultdict(lambda: defaultdict(lambda: 0))\n",
    "        self.get_possible_actions = get_possible_actions\n",
    "        self.epsilon = epsilon\n",
    "        self.strategy = strategy\n",
    "        self.alpha = alpha   # learning rate or step size\n",
    "        self.gamma = gamma   # discount factor\n",
    "\n",
    "\n",
    "    def _get_Q(self, state, action):\n",
    "        return self._Q[state][action]\n",
    "\n",
    "\n",
    "    def set_Q(self, state, action, value):\n",
    "        self._Q[state][action] = value\n",
    "\n",
    "\n",
    "    def update(self, state, action, reward, next_state, done):\n",
    "        \"\"\"\n",
    "        This is the main update function for the Q-learning algorithm.\n",
    "        Note that this function only contains the update equations, \n",
    "        not the entire Q-learning algorithm.\n",
    "        \"\"\"\n",
    "        if not done:\n",
    "            best_next_action = self.max_action(next_state)\n",
    "            td_error = reward + \\\n",
    "                       self.gamma * self._get_Q(next_state, best_next_action) - \\\n",
    "                       self._get_Q(state, action)\n",
    "        else:\n",
    "            td_error = reward - self._get_Q(state, action)\n",
    "        q_value = self._get_Q(state, action) + self.alpha * td_error\n",
    "        self.set_Q(state, action, q_value)\n",
    "\n",
    "\n",
    "    def max_action(self, state):\n",
    "        \"\"\"\n",
    "        Return the best action for a given state, ie,\n",
    "        the action in the state-action pair that has the highest Q-value.\n",
    "        If there are multiple actions with the same Q-value,\n",
    "        return a random action from the set of best actions.\n",
    "        \"\"\"\n",
    "        actions = self.get_possible_actions(state)\n",
    "        best_action = []\n",
    "        best_q_value = float(\"-inf\")\n",
    "        for action in actions:\n",
    "            q_value = self._get_Q(state, action)\n",
    "            if q_value > best_q_value:\n",
    "                best_action = [action]\n",
    "                best_q_value = q_value\n",
    "            elif q_value == best_q_value:\n",
    "                best_action.append(action)\n",
    "        return np.random.choice(np.array(best_action))\n",
    "\n",
    "\n",
    "    def get_action(self, state):\n",
    "        \"\"\"\n",
    "        Choose an action based on the input strategy.\n",
    "        \"\"\"\n",
    "        return self.strategy(self.epsilon, self.get_possible_actions,\n",
    "                             state, self.max_action)\n",
    "\n"
   ]
  },
  {
   "cell_type": "code",
   "execution_count": 26,
   "metadata": {},
   "outputs": [],
   "source": [
    "def epsilon_greedy_strategy(epsilon, get_possible_actions, state, max_action):\n",
    "    \"\"\"\n",
    "    Epsilon-greedy strategy.\n",
    "\n",
    "    Choose a random number in the interval [0, 1) with a uniform \n",
    "    probability distribution. Use np.random.random() to do this.\n",
    "\n",
    "    If this random number is less than epsilon, return a random action.\n",
    "    Otherwise, return the best action for the given state.\n",
    "    \"\"\"\n",
    "    actions = get_possible_actions(state)\n",
    "    if len(actions) == 0:\n",
    "        return None\n",
    "    random_number = np.random.random()\n",
    "    if random_number < epsilon:\n",
    "        # exploration\n",
    "        return np.random.choice(actions)\n",
    "    else:\n",
    "        # exploitation\n",
    "        return max_action(state)\n",
    "    "
   ]
  },
  {
   "cell_type": "code",
   "execution_count": 27,
   "metadata": {},
   "outputs": [],
   "source": [
    "class ReplayBuffer:\n",
    "    def __init__(self, size):\n",
    "        \"\"\"\n",
    "        :param size: maximum number of items in the buffer\n",
    "        \"\"\"\n",
    "        self.size = size\n",
    "        self.buffer = []  # list to store the items\n",
    "\n",
    "    def __len__(self):\n",
    "        return len(self.buffer)\n",
    "    \n",
    "    def add(self, state, action, reward, next_state, done):\n",
    "        \"\"\"\n",
    "        Add a new item to the buffer.\n",
    "        If the buffer is full, remove the oldest item.\n",
    "        \"\"\"\n",
    "        item = (state, action, reward, next_state, done)\n",
    "        self.buffer = self.buffer[-self.size:] + [item]\n",
    "\n",
    "    def sample(self, batch_size):\n",
    "        \"\"\"\n",
    "        Sample a batch of items from the buffer.\n",
    "        \"\"\"\n",
    "        idxs = np.random.choice(len(self.buffer), batch_size)\n",
    "        samples = [self.buffer[i] for i in idxs]\n",
    "        state, action, reward, next_state, done_flag = list(zip(*samples))\n",
    "        return state, action, reward, next_state, done_flag\n"
   ]
  },
  {
   "cell_type": "code",
   "execution_count": 28,
   "metadata": {},
   "outputs": [],
   "source": [
    "def train_agent(env, agent, num_episodes=10_000, t_max=10_000, decay_rate=None,\n",
    "                replay_buffer=None, batch_size=16):\n",
    "    \"\"\"\n",
    "    This is a generic training function.\n",
    "\n",
    "    env: gymnasium environment\n",
    "    agent: Q_Learning object\n",
    "    num_episodes: (int) number of episodes to train the agent\n",
    "    t_max: (int) maximum number of steps per episode\n",
    "    decay_rate: (float) epsilon decay rate\n",
    "    replay_buffer: ReplayBuffer object\n",
    "    batch_size: (int) batch size for experience replay\n",
    "    \"\"\"\n",
    "    episode_rewards = []\n",
    "    for i in tqdm(range(num_episodes)):\n",
    "        G = 0\n",
    "        state, _ = env.reset()\n",
    "        for t in range(t_max):\n",
    "            action = agent.get_action(state)\n",
    "            next_state, reward, done, trunc, _ = env.step(action)\n",
    "            flag = (done or trunc)\n",
    "            if replay_buffer is not None:\n",
    "                replay_buffer.add(state, action, reward, next_state, flag)\n",
    "                states, actions, rewards, next_states, done_flags = \\\n",
    "                    replay_buffer.sample(batch_size)\n",
    "                for i in range(batch_size):\n",
    "                    agent.update(states[i], actions[i], rewards[i],\n",
    "                                 next_states[i], done_flags[i])\n",
    "            else:\n",
    "                agent.update(state, action, reward, next_state, flag)\n",
    "            G += reward\n",
    "            if flag:\n",
    "                episode_rewards.append(G)\n",
    "                if decay_rate is not None:\n",
    "                    agent.epsilon = agent.epsilon * decay_rate\n",
    "                break\n",
    "            state = next_state\n",
    "    return np.array(episode_rewards)\n"
   ]
  },
  {
   "cell_type": "code",
   "execution_count": 29,
   "metadata": {},
   "outputs": [],
   "source": [
    "def plot_rewards(env_name, rewards, label):\n",
    "    plt.title(f\"Env: {env_name}  Mean Reward: {np.mean(rewards[-20:]):.1f}\")\n",
    "    plt.plot(rewards, label=label)\n",
    "    plt.grid()\n",
    "    plt.legend()\n",
    "    plt.show()\n"
   ]
  },
  {
   "cell_type": "markdown",
   "metadata": {},
   "source": [
    "`Observation Wrapper`: https://gymnasium.farama.org/api/wrappers/observation_wrappers/#gymnasium.ObservationWrapper.observation"
   ]
  },
  {
   "cell_type": "code",
   "execution_count": 31,
   "metadata": {},
   "outputs": [],
   "source": [
    "from gymnasium import ObservationWrapper\n",
    "\n",
    "class Discretizer(ObservationWrapper):\n",
    "    \"\"\"\n",
    "    We will use ObservationWrapper class from gym to wrap our environment.\n",
    "    We need to implement observation() method which will receive the\n",
    "    original state values from underlying environment.\n",
    "    In observation() we will discretize the state values, which then\n",
    "    will be passed to outside world by env. \n",
    "    The agent will use these discrete state values to learn an \n",
    "    effective policy using Q-learning.\n",
    "    \"\"\"\n",
    "    def observation(self, state):\n",
    "        discrete_x_pos = round(state[0], 1)\n",
    "        discrete_x_vel = round(state[1], 1)\n",
    "        discrete_pole_angle = round(state[2], 1)\n",
    "        discrete_pole_ang_vel = round(state[3], 1)\n",
    "\n",
    "        return (discrete_x_pos, discrete_x_vel,\n",
    "                discrete_pole_angle, discrete_pole_ang_vel)\n",
    "    "
   ]
  },
  {
   "cell_type": "markdown",
   "metadata": {},
   "source": [
    "### Trying out Q-learning on CartPole environment\n",
    "\n",
    "Check out the [environment page](https://gymnasium.farama.org/environments/classic_control/cart_pole/) for description about it."
   ]
  },
  {
   "cell_type": "code",
   "execution_count": 2,
   "metadata": {},
   "outputs": [
    {
     "data": {
      "text/html": [
       "<img src=\"https://gymnasium.farama.org/_images/cart_pole.gif\"/>"
      ],
      "text/plain": [
       "<IPython.core.display.Image object>"
      ]
     },
     "execution_count": 2,
     "metadata": {},
     "output_type": "execute_result"
    }
   ],
   "source": [
    "Image(url=\"https://gymnasium.farama.org/_images/cart_pole.gif\")"
   ]
  },
  {
   "cell_type": "code",
   "execution_count": 3,
   "metadata": {},
   "outputs": [],
   "source": [
    "env = gym.make(\"CartPole-v1\")"
   ]
  },
  {
   "cell_type": "code",
   "execution_count": 4,
   "metadata": {},
   "outputs": [
    {
     "data": {
      "text/plain": [
       "array([ 0.02846489, -0.01901361, -0.0252371 ,  0.02659684], dtype=float32)"
      ]
     },
     "execution_count": 4,
     "metadata": {},
     "output_type": "execute_result"
    }
   ],
   "source": [
    "state, _ = env.reset()\n",
    "state"
   ]
  },
  {
   "cell_type": "code",
   "execution_count": 13,
   "metadata": {},
   "outputs": [
    {
     "data": {
      "text/plain": [
       "(4,)"
      ]
     },
     "execution_count": 13,
     "metadata": {},
     "output_type": "execute_result"
    }
   ],
   "source": [
    "env.observation_space.shape"
   ]
  },
  {
   "cell_type": "code",
   "execution_count": 11,
   "metadata": {},
   "outputs": [
    {
     "data": {
      "text/plain": [
       "2"
      ]
     },
     "execution_count": 11,
     "metadata": {},
     "output_type": "execute_result"
    }
   ],
   "source": [
    "env.action_space.n"
   ]
  },
  {
   "cell_type": "code",
   "execution_count": 32,
   "metadata": {},
   "outputs": [],
   "source": [
    "# wrap our environment with Discretizer\n",
    "env = Discretizer(env)"
   ]
  },
  {
   "cell_type": "code",
   "execution_count": 51,
   "metadata": {},
   "outputs": [
    {
     "data": {
      "text/plain": [
       "(-0.0, -0.0, 0.0, -0.0)"
      ]
     },
     "execution_count": 51,
     "metadata": {},
     "output_type": "execute_result"
    }
   ],
   "source": [
    "state, _ = env.reset()\n",
    "state"
   ]
  },
  {
   "cell_type": "code",
   "execution_count": 37,
   "metadata": {},
   "outputs": [
    {
     "data": {
      "text/plain": [
       "(4,)"
      ]
     },
     "execution_count": 37,
     "metadata": {},
     "output_type": "execute_result"
    }
   ],
   "source": [
    "env.observation_space.shape"
   ]
  },
  {
   "cell_type": "code",
   "execution_count": 35,
   "metadata": {},
   "outputs": [
    {
     "data": {
      "text/plain": [
       "2"
      ]
     },
     "execution_count": 35,
     "metadata": {},
     "output_type": "execute_result"
    }
   ],
   "source": [
    "env.action_space.n"
   ]
  },
  {
   "cell_type": "code",
   "execution_count": 52,
   "metadata": {},
   "outputs": [
    {
     "name": "stderr",
     "output_type": "stream",
     "text": [
      "100%|██████████| 5000/5000 [04:12<00:00, 19.81it/s]\n"
     ]
    }
   ],
   "source": [
    "# create a Q Learning agent\n",
    "agent = Q_Learning(alpha=0.5, epsilon=0.2, gamma=0.99, \n",
    "                   get_possible_actions=lambda s : range(env.action_space.n),\n",
    "                   strategy=epsilon_greedy_strategy)\n",
    "\n",
    "# train agent using replay buffer and get rewards for episodes\n",
    "rewards = train_agent(env, agent, num_episodes=5000, \n",
    "                      replay_buffer=ReplayBuffer(512), decay_rate=0.99)"
   ]
  },
  {
   "cell_type": "code",
   "execution_count": 53,
   "metadata": {},
   "outputs": [
    {
     "data": {
      "image/png": "[encoded data removed]",
      "text/plain": [
       "<Figure size 432x288 with 1 Axes>"
      ]
     },
     "metadata": {
      "needs_background": "light"
     },
     "output_type": "display_data"
    }
   ],
   "source": [
    "plot_rewards(\"CartPole\", rewards, \"Continuous Q-Learning\")"
   ]
  },
  {
   "cell_type": "code",
   "execution_count": 54,
   "metadata": {},
   "outputs": [
    {
     "name": "stdout",
     "output_type": "stream",
     "text": [
      "state: (-0.0, -0.0, -0.0, -0.0)\n",
      "best_action: LEFT\n",
      "state: (-0.0, -0.2, -0.0, 0.3)\n",
      "best_action: LEFT\n",
      "state: (-0.0, -0.4, -0.0, 0.6)\n",
      "best_action: RIGHT\n",
      "state: (-0.0, -0.2, -0.0, 0.3)\n",
      "best_action: LEFT\n",
      "state: (-0.0, -0.4, -0.0, 0.5)\n",
      "best_action: RIGHT\n",
      "state: (-0.0, -0.2, 0.0, 0.3)\n",
      "best_action: LEFT\n",
      "state: (-0.0, -0.4, 0.0, 0.5)\n",
      "best_action: RIGHT\n",
      "state: (-0.0, -0.2, 0.0, 0.3)\n",
      "best_action: LEFT\n",
      "state: (-0.1, -0.4, 0.0, 0.6)\n",
      "best_action: RIGHT\n",
      "state: (-0.1, -0.2, 0.0, 0.3)\n",
      "best_action: RIGHT\n",
      "state: (-0.1, -0.0, 0.0, -0.0)\n",
      "best_action: RIGHT\n",
      "state: (-0.1, 0.2, 0.0, -0.3)\n",
      "best_action: RIGHT\n",
      "state: (-0.1, 0.4, 0.0, -0.6)\n",
      "best_action: LEFT\n",
      "state: (-0.1, 0.2, 0.0, -0.3)\n",
      "best_action: RIGHT\n",
      "state: (-0.0, 0.4, 0.0, -0.5)\n",
      "best_action: LEFT\n",
      "state: (-0.0, 0.2, 0.0, -0.2)\n",
      "best_action: LEFT\n",
      "state: (-0.0, -0.0, 0.0, 0.1)\n",
      "best_action: RIGHT\n",
      "state: (-0.0, 0.2, 0.0, -0.2)\n",
      "best_action: LEFT\n",
      "state: (-0.0, -0.0, 0.0, 0.1)\n",
      "best_action: RIGHT\n",
      "state: (-0.0, 0.2, 0.0, -0.2)\n",
      "best_action: LEFT\n",
      "state: (-0.0, -0.0, -0.0, 0.1)\n",
      "best_action: RIGHT\n",
      "state: (-0.0, 0.2, -0.0, -0.2)\n",
      "best_action: LEFT\n",
      "state: (-0.0, -0.0, -0.0, 0.1)\n",
      "best_action: RIGHT\n",
      "state: (-0.0, 0.2, -0.0, -0.2)\n",
      "best_action: LEFT\n",
      "state: (-0.0, -0.0, -0.0, 0.1)\n",
      "best_action: RIGHT\n",
      "state: (-0.0, 0.2, -0.0, -0.2)\n",
      "best_action: LEFT\n",
      "state: (-0.0, -0.0, -0.0, 0.0)\n",
      "best_action: LEFT\n",
      "state: (-0.0, -0.2, -0.0, 0.3)\n",
      "best_action: LEFT\n",
      "state: (-0.0, -0.4, -0.0, 0.6)\n",
      "best_action: RIGHT\n",
      "state: (-0.0, -0.2, 0.0, 0.3)\n",
      "best_action: LEFT\n",
      "state: (-0.0, -0.4, 0.0, 0.6)\n",
      "best_action: RIGHT\n",
      "state: (-0.0, -0.2, 0.0, 0.3)\n",
      "best_action: LEFT\n",
      "state: (-0.1, -0.4, 0.0, 0.6)\n",
      "best_action: RIGHT\n",
      "state: (-0.1, -0.2, 0.0, 0.4)\n",
      "best_action: RIGHT\n",
      "state: (-0.1, -0.0, 0.1, 0.1)\n",
      "best_action: RIGHT\n",
      "state: (-0.1, 0.2, 0.1, -0.2)\n",
      "best_action: LEFT\n",
      "state: (-0.1, -0.0, 0.0, 0.1)\n",
      "best_action: RIGHT\n",
      "state: (-0.1, 0.2, 0.1, -0.2)\n",
      "best_action: LEFT\n",
      "state: (-0.1, -0.0, 0.0, 0.1)\n",
      "best_action: RIGHT\n",
      "state: (-0.1, 0.2, 0.1, -0.1)\n",
      "best_action: RIGHT\n",
      "state: (-0.1, 0.4, 0.0, -0.4)\n",
      "best_action: LEFT\n",
      "state: (-0.0, 0.2, 0.0, -0.1)\n",
      "best_action: RIGHT\n",
      "state: (-0.0, 0.4, 0.0, -0.4)\n",
      "best_action: LEFT\n",
      "state: (-0.0, 0.2, 0.0, -0.1)\n",
      "best_action: RIGHT\n",
      "state: (-0.0, 0.4, 0.0, -0.4)\n",
      "best_action: LEFT\n",
      "state: (-0.0, 0.2, 0.0, -0.1)\n",
      "best_action: RIGHT\n",
      "state: (-0.0, 0.4, 0.0, -0.3)\n",
      "best_action: LEFT\n",
      "state: (-0.0, 0.2, 0.0, -0.0)\n",
      "best_action: LEFT\n",
      "state: (-0.0, -0.0, 0.0, 0.2)\n",
      "best_action: RIGHT\n",
      "state: (-0.0, 0.2, 0.0, -0.0)\n",
      "best_action: LEFT\n",
      "state: (-0.0, -0.0, 0.0, 0.3)\n",
      "best_action: LEFT\n",
      "state: (-0.0, -0.2, 0.0, 0.6)\n",
      "best_action: RIGHT\n",
      "state: (-0.0, -0.0, 0.0, 0.3)\n",
      "best_action: LEFT\n",
      "state: (-0.0, -0.2, 0.0, 0.6)\n",
      "best_action: RIGHT\n",
      "state: (-0.0, -0.0, 0.1, 0.3)\n",
      "best_action: RIGHT\n",
      "state: (-0.0, 0.2, 0.1, 0.0)\n",
      "best_action: LEFT\n",
      "state: (-0.0, -0.0, 0.1, 0.3)\n",
      "best_action: RIGHT\n",
      "state: (-0.0, 0.2, 0.1, 0.1)\n",
      "best_action: LEFT\n",
      "state: (-0.0, -0.0, 0.1, 0.4)\n",
      "best_action: RIGHT\n",
      "state: (-0.0, 0.2, 0.1, 0.1)\n",
      "best_action: LEFT\n",
      "state: (-0.0, -0.0, 0.1, 0.4)\n",
      "best_action: RIGHT\n",
      "state: (-0.0, 0.2, 0.1, 0.1)\n",
      "best_action: LEFT\n",
      "state: (-0.0, -0.0, 0.1, 0.5)\n",
      "best_action: RIGHT\n",
      "state: (-0.0, 0.2, 0.1, 0.2)\n",
      "best_action: RIGHT\n",
      "state: (-0.0, 0.4, 0.1, -0.1)\n",
      "best_action: RIGHT\n",
      "state: (0.0, 0.5, 0.1, -0.3)\n",
      "best_action: LEFT\n",
      "state: (0.0, 0.4, 0.1, -0.0)\n",
      "best_action: RIGHT\n",
      "state: (0.0, 0.5, 0.1, -0.3)\n",
      "best_action: LEFT\n",
      "state: (0.0, 0.3, 0.1, 0.0)\n",
      "best_action: RIGHT\n",
      "state: (0.0, 0.5, 0.1, -0.2)\n",
      "best_action: LEFT\n",
      "state: (0.0, 0.3, 0.1, 0.1)\n",
      "best_action: RIGHT\n",
      "state: (0.1, 0.5, 0.1, -0.2)\n",
      "best_action: LEFT\n",
      "state: (0.1, 0.3, 0.1, 0.1)\n",
      "best_action: RIGHT\n",
      "state: (0.1, 0.5, 0.1, -0.1)\n",
      "best_action: RIGHT\n",
      "state: (0.1, 0.7, 0.1, -0.4)\n",
      "best_action: LEFT\n",
      "state: (0.1, 0.5, 0.1, -0.1)\n",
      "best_action: RIGHT\n",
      "state: (0.1, 0.7, 0.1, -0.3)\n",
      "best_action: LEFT\n",
      "state: (0.1, 0.5, 0.1, -0.0)\n",
      "best_action: RIGHT\n",
      "state: (0.1, 0.7, 0.1, -0.3)\n",
      "best_action: LEFT\n",
      "state: (0.1, 0.5, 0.1, 0.0)\n",
      "best_action: RIGHT\n",
      "state: (0.2, 0.7, 0.1, -0.3)\n",
      "best_action: LEFT\n",
      "state: (0.2, 0.5, 0.1, 0.1)\n",
      "best_action: RIGHT\n",
      "state: (0.2, 0.7, 0.1, -0.2)\n",
      "best_action: RIGHT\n",
      "state: (0.2, 0.9, 0.0, -0.5)\n",
      "best_action: LEFT\n",
      "state: (0.2, 0.7, 0.0, -0.2)\n",
      "best_action: LEFT\n",
      "state: (0.2, 0.5, 0.0, 0.1)\n",
      "best_action: LEFT\n",
      "state: (0.2, 0.3, 0.0, 0.4)\n",
      "best_action: RIGHT\n",
      "state: (0.2, 0.5, 0.0, 0.1)\n",
      "best_action: LEFT\n",
      "state: (0.3, 0.3, 0.0, 0.4)\n",
      "best_action: RIGHT\n",
      "state: (0.3, 0.5, 0.1, 0.2)\n",
      "best_action: RIGHT\n",
      "state: (0.3, 0.7, 0.1, -0.1)\n",
      "best_action: RIGHT\n",
      "state: (0.3, 0.9, 0.1, -0.4)\n",
      "best_action: LEFT\n",
      "state: (0.3, 0.7, 0.1, -0.1)\n",
      "best_action: RIGHT\n",
      "state: (0.3, 0.9, 0.0, -0.3)\n",
      "best_action: RIGHT\n",
      "state: (0.3, 1.1, 0.0, -0.6)\n",
      "best_action: LEFT\n",
      "state: (0.4, 0.9, 0.0, -0.3)\n",
      "best_action: LEFT\n",
      "state: (0.4, 0.7, 0.0, -0.0)\n",
      "best_action: LEFT\n",
      "state: (0.4, 0.5, 0.0, 0.3)\n",
      "best_action: LEFT\n",
      "state: (0.4, 0.3, 0.0, 0.6)\n",
      "best_action: LEFT\n",
      "state: (0.4, 0.1, 0.0, 0.9)\n",
      "best_action: RIGHT\n",
      "state: (0.4, 0.3, 0.1, 0.6)\n",
      "best_action: RIGHT\n",
      "state: (0.4, 0.5, 0.1, 0.3)\n",
      "best_action: LEFT\n",
      "state: (0.4, 0.3, 0.1, 0.7)\n",
      "best_action: RIGHT\n",
      "state: (0.4, 0.5, 0.1, 0.4)\n",
      "best_action: RIGHT\n",
      "state: (0.4, 0.7, 0.1, 0.1)\n",
      "best_action: LEFT\n",
      "state: (0.5, 0.5, 0.1, 0.4)\n",
      "best_action: RIGHT\n",
      "state: (0.5, 0.7, 0.1, 0.2)\n",
      "best_action: LEFT\n",
      "state: (0.5, 0.5, 0.1, 0.5)\n",
      "best_action: LEFT\n",
      "state: (0.5, 0.3, 0.1, 0.8)\n",
      "best_action: RIGHT\n",
      "state: (0.5, 0.5, 0.1, 0.6)\n",
      "best_action: LEFT\n",
      "state: (0.5, 0.3, 0.2, 0.9)\n",
      "best_action: LEFT\n",
      "state: (0.5, 0.1, 0.2, 1.3)\n",
      "best_action: RIGHT\n",
      "state: (0.5, 0.3, 0.2, 1.0)\n",
      "best_action: RIGHT\n",
      "Terminal state reached.\n",
      "State: (0.5, 0.5, 0.2, 0.8)\n"
     ]
    }
   ],
   "source": [
    "def fn():\n",
    "    action_dict = {\n",
    "        0: \"LEFT\",\n",
    "        1: \"RIGHT\"\n",
    "    }\n",
    "    state, _ = env.reset()\n",
    "    print(f\"state: {state}\")\n",
    "    while True:\n",
    "        best_action = agent.max_action(state)\n",
    "        print(f\"best_action: {action_dict[best_action]}\")\n",
    "        next_state, reward, done, trunc, _ = env.step(best_action)\n",
    "        if done or trunc:\n",
    "            print(f\"Terminal state reached.\\nState: {next_state}\")\n",
    "            break\n",
    "        state = next_state\n",
    "        print(f\"state: {state}\")\n",
    "\n",
    "fn()"
   ]
  },
  {
   "cell_type": "code",
   "execution_count": null,
   "metadata": {},
   "outputs": [],
   "source": []
  }
 ],
 "metadata": {
  "kernelspec": {
   "display_name": "base",
   "language": "python",
   "name": "python3"
  },
  "language_info": {
   "codemirror_mode": {
    "name": "ipython",
    "version": 3
   },
   "file_extension": ".py",
   "mimetype": "text/x-python",
   "name": "python",
   "nbconvert_exporter": "python",
   "pygments_lexer": "ipython3",
   "version": "3.9.7"
  }
 },
 "nbformat": 4,
 "nbformat_minor": 2
}
