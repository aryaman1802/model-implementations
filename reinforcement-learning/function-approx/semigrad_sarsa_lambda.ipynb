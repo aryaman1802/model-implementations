{
 "cells": [
  {
   "cell_type": "markdown",
   "metadata": {},
   "source": [
    "## Semi-gradient SARSA($\\lambda$) Control"
   ]
  },
  {
   "cell_type": "code",
   "execution_count": 2,
   "metadata": {},
   "outputs": [
    {
     "name": "stdout",
     "output_type": "stream",
     "text": [
      "imports done!\n"
     ]
    }
   ],
   "source": [
    "import gymnasium as gym\n",
    "import numpy as np\n",
    "from collections import defaultdict\n",
    "from tqdm import tqdm\n",
    "import matplotlib.pyplot as plt\n",
    "from IPython.display import Image\n",
    "\n",
    "%matplotlib inline\n",
    "\n",
    "print(\"imports done!\")"
   ]
  },
  {
   "cell_type": "code",
   "execution_count": 3,
   "metadata": {},
   "outputs": [],
   "source": [
    "class SARSA_Lambda:\n",
    "    \"\"\"Semi-gradient SARSA(λ) Control Algorithm with Eligibility Traces.\"\"\"\n",
    "    \n",
    "    def __init__(self, get_possible_actions, strategy, lambda_=0.9, epsilon=1, alpha=0.1, gamma=0.99):\n",
    "        self.Q = defaultdict(lambda: defaultdict(lambda: 0))  # Q-table\n",
    "        self.eligibility_traces = defaultdict(lambda: defaultdict(lambda: 0))  # Eligibility traces\n",
    "        self.get_possible_actions = get_possible_actions\n",
    "        self.strategy = strategy\n",
    "        self.lambda_ = lambda_  # Trace decay parameter\n",
    "        self.epsilon = epsilon  # Exploration rate\n",
    "        self.alpha = alpha      # Learning rate\n",
    "        self.gamma = gamma      # Discount factor\n",
    "\n",
    "    def get_Q(self, state, action):\n",
    "        return self.Q[state][action]\n",
    "\n",
    "    def set_Q(self, state, action, value):\n",
    "        self.Q[state][action] = value\n",
    "\n",
    "    def update(self, state, action, reward, next_state, next_action, done):\n",
    "        \"\"\"\n",
    "        Updates Q-values using eligibility traces.\n",
    "        \"\"\"\n",
    "        td_error = reward + self.gamma * self.get_Q(next_state, next_action) * (not done) - self.get_Q(state, action)\n",
    "        \n",
    "        # Update eligibility traces\n",
    "        for s in self.eligibility_traces:\n",
    "            for a in self.eligibility_traces[s]:\n",
    "                self.eligibility_traces[s][a] *= self.gamma * self.lambda_\n",
    "        self.eligibility_traces[state][action] += 1  # Increase trace for visited pair\n",
    "\n",
    "        # Update Q-values for all state-action pairs\n",
    "        for s in self.eligibility_traces:\n",
    "            for a in self.eligibility_traces[s]:\n",
    "                self.Q[s][a] += self.alpha * td_error * self.eligibility_traces[s][a]\n",
    "\n",
    "        if done:\n",
    "            self.eligibility_traces = defaultdict(lambda: defaultdict(lambda: 0))  # Reset traces at episode end\n",
    "\n",
    "    def get_action(self, state):\n",
    "        return self.strategy(self.epsilon, self.get_possible_actions, state, self.max_action)\n",
    "\n",
    "    def max_action(self, state):\n",
    "        \"\"\"\n",
    "        Selects the action with the highest Q-value.\n",
    "        \"\"\"\n",
    "        actions = self.get_possible_actions(state)\n",
    "        best_action = []\n",
    "        best_q_value = float(\"-inf\")\n",
    "        for action in actions:\n",
    "            q_value = self.get_Q(state, action)\n",
    "            if q_value > best_q_value:\n",
    "                best_action = [action]\n",
    "                best_q_value = q_value\n",
    "            elif q_value == best_q_value:\n",
    "                best_action.append(action)\n",
    "        return np.random.choice(best_action)\n"
   ]
  },
  {
   "cell_type": "code",
   "execution_count": 4,
   "metadata": {},
   "outputs": [],
   "source": [
    "def epsilon_greedy_strategy(epsilon, get_possible_actions, state, max_action):\n",
    "    \"\"\"\n",
    "    Epsilon-greedy strategy.\n",
    "\n",
    "    Choose a random number in the interval [0, 1) with a uniform \n",
    "    probability distribution. Use np.random.random() to do this.\n",
    "\n",
    "    If this random number is less than epsilon, return a random action.\n",
    "    Otherwise, return the best action for the given state.\n",
    "    \"\"\"\n",
    "    actions = get_possible_actions(state)\n",
    "    if len(actions) == 0:\n",
    "        return None\n",
    "    random_number = np.random.random()\n",
    "    if random_number < epsilon:\n",
    "        # exploration\n",
    "        return np.random.choice(actions)\n",
    "    else:\n",
    "        # exploitation\n",
    "        return max_action(state)\n",
    "    "
   ]
  },
  {
   "cell_type": "code",
   "execution_count": 5,
   "metadata": {},
   "outputs": [],
   "source": [
    "def train_sarsa_lambda(env, agent, num_episodes=10_000, t_max=10_000, decay_rate=None):\n",
    "    \"\"\"\n",
    "    Train an agent using the Semi-gradient SARSA(λ) algorithm.\n",
    "    \"\"\"\n",
    "    episode_rewards = []\n",
    "    for episode in tqdm(range(num_episodes)):\n",
    "        G = 0\n",
    "        state, _ = env.reset()\n",
    "        action = agent.get_action(state)\n",
    "        \n",
    "        for t in range(t_max):\n",
    "            next_state, reward, done, trunc, _ = env.step(action)\n",
    "            next_action = agent.get_action(next_state)\n",
    "            agent.update(state, action, reward, next_state, next_action, done)\n",
    "            G += reward\n",
    "\n",
    "            if done or trunc:\n",
    "                episode_rewards.append(G)\n",
    "                if decay_rate is not None:\n",
    "                    agent.epsilon *= decay_rate\n",
    "                break\n",
    "            \n",
    "            state = next_state\n",
    "            action = next_action\n",
    "\n",
    "    return np.array(episode_rewards)"
   ]
  },
  {
   "cell_type": "code",
   "execution_count": 6,
   "metadata": {},
   "outputs": [],
   "source": [
    "def plot_rewards(env_name, rewards, label):\n",
    "    plt.title(f\"Env: {env_name}  Mean Reward: {np.mean(rewards[-20:]):.1f}\")\n",
    "    plt.plot(rewards, label=label)\n",
    "    plt.grid()\n",
    "    plt.legend()\n",
    "    plt.show()\n"
   ]
  },
  {
   "cell_type": "markdown",
   "metadata": {},
   "source": [
    "### Trying out Semi-gradient SARSA(λ) on Cliff Walking environment"
   ]
  },
  {
   "cell_type": "code",
   "execution_count": 7,
   "metadata": {},
   "outputs": [
    {
     "data": {
      "text/html": [
       "<img src=\"https://gymnasium.farama.org/_images/cliff_walking.gif\"/>"
      ],
      "text/plain": [
       "<IPython.core.display.Image object>"
      ]
     },
     "execution_count": 7,
     "metadata": {},
     "output_type": "execute_result"
    }
   ],
   "source": [
    "Image(url=\"https://gymnasium.farama.org/_images/cliff_walking.gif\")"
   ]
  },
  {
   "cell_type": "code",
   "execution_count": 8,
   "metadata": {},
   "outputs": [],
   "source": [
    "# create Cliff Walking environment\n",
    "cw_env = gym.make(\"CliffWalking-v0\")"
   ]
  },
  {
   "cell_type": "code",
   "execution_count": 9,
   "metadata": {},
   "outputs": [
    {
     "data": {
      "text/plain": [
       "(36, {'prob': 1})"
      ]
     },
     "execution_count": 9,
     "metadata": {},
     "output_type": "execute_result"
    }
   ],
   "source": [
    "cw_env.reset()"
   ]
  },
  {
   "cell_type": "code",
   "execution_count": 10,
   "metadata": {},
   "outputs": [
    {
     "data": {
      "text/plain": [
       "4"
      ]
     },
     "execution_count": 10,
     "metadata": {},
     "output_type": "execute_result"
    }
   ],
   "source": [
    "cw_env.action_space.n"
   ]
  },
  {
   "cell_type": "code",
   "execution_count": 11,
   "metadata": {},
   "outputs": [
    {
     "data": {
      "text/plain": [
       "48"
      ]
     },
     "execution_count": 11,
     "metadata": {},
     "output_type": "execute_result"
    }
   ],
   "source": [
    "cw_env.observation_space.n"
   ]
  },
  {
   "cell_type": "code",
   "execution_count": 12,
   "metadata": {},
   "outputs": [
    {
     "name": "stderr",
     "output_type": "stream",
     "text": [
      "  1%|          | 51/5000 [00:01<00:52, 93.55it/s]"
     ]
    },
    {
     "name": "stderr",
     "output_type": "stream",
     "text": [
      "100%|██████████| 5000/5000 [00:15<00:00, 331.96it/s]\n"
     ]
    }
   ],
   "source": [
    "agent1 = SARSA_Lambda(\n",
    "    get_possible_actions = lambda s : range(cw_env.action_space.n),\n",
    "    strategy = epsilon_greedy_strategy,\n",
    "    epsilon = 0.2,\n",
    "    alpha = 0.25, \n",
    "    gamma = 0.99\n",
    ")\n",
    "\n",
    "rewards = train_sarsa_lambda(cw_env, agent1, num_episodes=5000, decay_rate=0.99)"
   ]
  },
  {
   "cell_type": "code",
   "execution_count": 13,
   "metadata": {},
   "outputs": [
    {
     "data": {
      "image/png": "[encoded data removed]",
      "text/plain": [
       "<Figure size 432x288 with 1 Axes>"
      ]
     },
     "metadata": {
      "needs_background": "light"
     },
     "output_type": "display_data"
    }
   ],
   "source": [
    "plot_rewards(\"Cliff Walking\", rewards, \"semi-gradient SARSA(λ)\")"
   ]
  },
  {
   "cell_type": "code",
   "execution_count": 14,
   "metadata": {},
   "outputs": [
    {
     "name": "stdout",
     "output_type": "stream",
     "text": [
      "state: 36\n",
      "best_action: UP\n",
      "state: 24\n",
      "best_action: UP\n",
      "state: 12\n",
      "best_action: RIGHT\n",
      "state: 13\n",
      "best_action: RIGHT\n",
      "state: 14\n",
      "best_action: UP\n",
      "state: 2\n",
      "best_action: RIGHT\n",
      "state: 3\n",
      "best_action: RIGHT\n",
      "state: 4\n",
      "best_action: RIGHT\n",
      "state: 5\n",
      "best_action: RIGHT\n",
      "state: 6\n",
      "best_action: RIGHT\n",
      "state: 7\n",
      "best_action: RIGHT\n",
      "state: 8\n",
      "best_action: RIGHT\n",
      "state: 9\n",
      "best_action: RIGHT\n",
      "state: 10\n",
      "best_action: RIGHT\n",
      "state: 11\n",
      "best_action: DOWN\n",
      "state: 23\n",
      "best_action: DOWN\n",
      "state: 35\n",
      "best_action: DOWN\n",
      "Terminal state reached.\n",
      "State: 47\n"
     ]
    }
   ],
   "source": [
    "def fn():\n",
    "    action_dict = {\n",
    "        0: \"UP\",\n",
    "        1: \"RIGHT\",\n",
    "        2: \"DOWN\",\n",
    "        3: \"LEFT\"\n",
    "    }\n",
    "    state, _ = cw_env.reset()\n",
    "    print(f\"state: {state}\")\n",
    "    while True:\n",
    "        best_action = agent1.max_action(state)\n",
    "        print(f\"best_action: {action_dict[best_action]}\")\n",
    "        next_state, reward, done, trunc, _ = cw_env.step(best_action)\n",
    "        if done or trunc:\n",
    "            print(f\"Terminal state reached.\\nState: {next_state}\")\n",
    "            break\n",
    "        state = next_state\n",
    "        print(f\"state: {state}\")\n",
    "\n",
    "fn()"
   ]
  },
  {
   "cell_type": "code",
   "execution_count": null,
   "metadata": {},
   "outputs": [],
   "source": []
  },
  {
   "cell_type": "code",
   "execution_count": null,
   "metadata": {},
   "outputs": [],
   "source": []
  }
 ],
 "metadata": {
  "kernelspec": {
   "display_name": "base",
   "language": "python",
   "name": "python3"
  },
  "language_info": {
   "codemirror_mode": {
    "name": "ipython",
    "version": 3
   },
   "file_extension": ".py",
   "mimetype": "text/x-python",
   "name": "python",
   "nbconvert_exporter": "python",
   "pygments_lexer": "ipython3",
   "version": "3.9.7"
  }
 },
 "nbformat": 4,
 "nbformat_minor": 2
}
