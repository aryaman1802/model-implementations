{
 "cells": [
  {
   "cell_type": "markdown",
   "metadata": {},
   "source": [
    "## Semi-gradient n-step SARSA Control"
   ]
  },
  {
   "cell_type": "code",
   "execution_count": 6,
   "metadata": {},
   "outputs": [
    {
     "name": "stdout",
     "output_type": "stream",
     "text": [
      "imports done!\n"
     ]
    }
   ],
   "source": [
    "import gymnasium as gym\n",
    "import numpy as np\n",
    "from collections import defaultdict\n",
    "from tqdm import tqdm\n",
    "import matplotlib.pyplot as plt\n",
    "from IPython.display import Image\n",
    "\n",
    "%matplotlib inline\n",
    "\n",
    "print(\"imports done!\")"
   ]
  },
  {
   "cell_type": "code",
   "execution_count": 7,
   "metadata": {},
   "outputs": [],
   "source": [
    "class NStepSARSA:\n",
    "    \"\"\"Semi-gradient n-step SARSA Control Algorithm.\"\"\"\n",
    "    def __init__(self, get_possible_actions, strategy, n=3, epsilon=1, alpha=0.1, gamma=0.99):\n",
    "        self.Q = defaultdict(lambda: defaultdict(lambda: 0))\n",
    "        self.get_possible_actions = get_possible_actions\n",
    "        self.strategy = strategy\n",
    "        self.n = n  # Number of steps to look ahead\n",
    "        self.epsilon = epsilon\n",
    "        self.alpha = alpha   # Learning rate\n",
    "        self.gamma = gamma   # Discount factor\n",
    "\n",
    "    def get_Q(self, state, action):\n",
    "        return self.Q[state][action]\n",
    "\n",
    "    def set_Q(self, state, action, value):\n",
    "        self.Q[state][action] = value\n",
    "\n",
    "    def update(self, trajectory):\n",
    "        \"\"\"\n",
    "        Updates Q-values based on an n-step trajectory.\n",
    "        The trajectory contains [(state, action, reward)] tuples.\n",
    "        \"\"\"\n",
    "        states, actions, rewards = zip(*trajectory)\n",
    "        T = len(rewards)\n",
    "        \n",
    "        # Compute n-step return\n",
    "        G = 0\n",
    "        for t in range(T):\n",
    "            G = rewards[t] + self.gamma * G  # Accumulate discounted rewards\n",
    "            \n",
    "        # If episode doesn't terminate within n steps, bootstrap from Q-value\n",
    "        last_state, last_action = states[-1], actions[-1]\n",
    "        if T == self.n:\n",
    "            G += (self.gamma ** self.n) * self.get_Q(last_state, last_action)\n",
    "\n",
    "        # Update Q-value of the first state-action pair in trajectory\n",
    "        self.set_Q(states[0], actions[0], self.get_Q(states[0], actions[0]) + self.alpha * (G - self.get_Q(states[0], actions[0])))\n",
    "\n",
    "    def get_action(self, state):\n",
    "        return self.strategy(self.epsilon, self.get_possible_actions, state, self.max_action)\n",
    "\n",
    "    def max_action(self, state):\n",
    "        \"\"\"\n",
    "        Selects the action with the highest Q-value for a given state.\n",
    "        If multiple actions have the same Q-value, a random action is chosen.\n",
    "        \"\"\"\n",
    "        actions = self.get_possible_actions(state)\n",
    "        best_action = []\n",
    "        best_q_value = float(\"-inf\")\n",
    "        for action in actions:\n",
    "            q_value = self.get_Q(state, action)\n",
    "            if q_value > best_q_value:\n",
    "                best_action = [action]\n",
    "                best_q_value = q_value\n",
    "            elif q_value == best_q_value:\n",
    "                best_action.append(action)\n",
    "        return np.random.choice(best_action)\n",
    "\n"
   ]
  },
  {
   "cell_type": "code",
   "execution_count": 8,
   "metadata": {},
   "outputs": [],
   "source": [
    "def epsilon_greedy_strategy(epsilon, get_possible_actions, state, max_action):\n",
    "    \"\"\"\n",
    "    Epsilon-greedy strategy.\n",
    "\n",
    "    Choose a random number in the interval [0, 1) with a uniform \n",
    "    probability distribution. Use np.random.random() to do this.\n",
    "\n",
    "    If this random number is less than epsilon, return a random action.\n",
    "    Otherwise, return the best action for the given state.\n",
    "    \"\"\"\n",
    "    actions = get_possible_actions(state)\n",
    "    if len(actions) == 0:\n",
    "        return None\n",
    "    random_number = np.random.random()\n",
    "    if random_number < epsilon:\n",
    "        # exploration\n",
    "        return np.random.choice(actions)\n",
    "    else:\n",
    "        # exploitation\n",
    "        return max_action(state)\n",
    "    "
   ]
  },
  {
   "cell_type": "code",
   "execution_count": 9,
   "metadata": {},
   "outputs": [],
   "source": [
    "def train_nstep_sarsa(env, agent, num_episodes=10_000, t_max=10_000, decay_rate=None):\n",
    "    \"\"\"\n",
    "    Train an agent using the Semi-gradient n-step SARSA algorithm.\n",
    "    \"\"\"\n",
    "    episode_rewards = []\n",
    "    for episode in tqdm(range(num_episodes)):\n",
    "        G = 0\n",
    "        state, _ = env.reset()\n",
    "        action = agent.get_action(state)\n",
    "        trajectory = []\n",
    "        \n",
    "        for t in range(t_max):\n",
    "            next_state, reward, done, trunc, _ = env.step(action)\n",
    "            next_action = agent.get_action(next_state)\n",
    "            trajectory.append((state, action, reward))\n",
    "            G += reward\n",
    "            if len(trajectory) == agent.n or done or trunc:\n",
    "                agent.update(trajectory)\n",
    "                trajectory = []  # Reset trajectory\n",
    "\n",
    "            if done or trunc:\n",
    "                episode_rewards.append(G)\n",
    "                if decay_rate is not None:\n",
    "                    agent.epsilon *= decay_rate  # Decay epsilon over time\n",
    "                break\n",
    "\n",
    "            state = next_state\n",
    "            action = next_action\n",
    "\n",
    "    return np.array(episode_rewards)"
   ]
  },
  {
   "cell_type": "code",
   "execution_count": 10,
   "metadata": {},
   "outputs": [],
   "source": [
    "def plot_rewards(env_name, rewards, label):\n",
    "    plt.title(f\"Env: {env_name}  Mean Reward: {np.mean(rewards[-20:]):.1f}\")\n",
    "    plt.plot(rewards, label=label)\n",
    "    plt.grid()\n",
    "    plt.legend()\n",
    "    plt.show()\n"
   ]
  },
  {
   "cell_type": "markdown",
   "metadata": {},
   "source": [
    "### Trying out Semi-gradient n-step SARSA on Cliff Walking environment"
   ]
  },
  {
   "cell_type": "code",
   "execution_count": 11,
   "metadata": {},
   "outputs": [
    {
     "data": {
      "text/html": [
       "<img src=\"https://gymnasium.farama.org/_images/cliff_walking.gif\"/>"
      ],
      "text/plain": [
       "<IPython.core.display.Image object>"
      ]
     },
     "execution_count": 11,
     "metadata": {},
     "output_type": "execute_result"
    }
   ],
   "source": [
    "Image(url=\"https://gymnasium.farama.org/_images/cliff_walking.gif\")"
   ]
  },
  {
   "cell_type": "code",
   "execution_count": 12,
   "metadata": {},
   "outputs": [],
   "source": [
    "# create Cliff Walking environment\n",
    "cw_env = gym.make(\"CliffWalking-v0\")"
   ]
  },
  {
   "cell_type": "code",
   "execution_count": 13,
   "metadata": {},
   "outputs": [
    {
     "data": {
      "text/plain": [
       "(36, {'prob': 1})"
      ]
     },
     "execution_count": 13,
     "metadata": {},
     "output_type": "execute_result"
    }
   ],
   "source": [
    "cw_env.reset()"
   ]
  },
  {
   "cell_type": "code",
   "execution_count": 14,
   "metadata": {},
   "outputs": [
    {
     "data": {
      "text/plain": [
       "4"
      ]
     },
     "execution_count": 14,
     "metadata": {},
     "output_type": "execute_result"
    }
   ],
   "source": [
    "cw_env.action_space.n"
   ]
  },
  {
   "cell_type": "code",
   "execution_count": 15,
   "metadata": {},
   "outputs": [
    {
     "data": {
      "text/plain": [
       "48"
      ]
     },
     "execution_count": 15,
     "metadata": {},
     "output_type": "execute_result"
    }
   ],
   "source": [
    "cw_env.observation_space.n"
   ]
  },
  {
   "cell_type": "code",
   "execution_count": 16,
   "metadata": {},
   "outputs": [
    {
     "name": "stderr",
     "output_type": "stream",
     "text": [
      "  3%|▎         | 146/5000 [00:01<00:20, 238.76it/s]"
     ]
    },
    {
     "name": "stderr",
     "output_type": "stream",
     "text": [
      "100%|██████████| 5000/5000 [00:13<00:00, 380.53it/s]\n"
     ]
    }
   ],
   "source": [
    "agent1 = NStepSARSA(\n",
    "    get_possible_actions = lambda s : range(cw_env.action_space.n),\n",
    "    strategy = epsilon_greedy_strategy,\n",
    "    epsilon = 0.2,\n",
    "    alpha = 0.25, \n",
    "    gamma = 0.99\n",
    ")\n",
    "\n",
    "rewards = train_nstep_sarsa(cw_env, agent1, num_episodes=5000, decay_rate=0.99)"
   ]
  },
  {
   "cell_type": "code",
   "execution_count": 17,
   "metadata": {},
   "outputs": [
    {
     "data": {
      "image/png": "[encoded data removed]",
      "text/plain": [
       "<Figure size 432x288 with 1 Axes>"
      ]
     },
     "metadata": {
      "needs_background": "light"
     },
     "output_type": "display_data"
    }
   ],
   "source": [
    "plot_rewards(\"Cliff Walking\", rewards, \"semi-gradient n-step SARSA\")"
   ]
  },
  {
   "cell_type": "code",
   "execution_count": 18,
   "metadata": {},
   "outputs": [
    {
     "name": "stdout",
     "output_type": "stream",
     "text": [
      "state: 36\n",
      "best_action: UP\n",
      "state: 24\n",
      "best_action: UP\n",
      "state: 12\n",
      "best_action: RIGHT\n",
      "state: 13\n",
      "best_action: UP\n",
      "state: 1\n",
      "best_action: RIGHT\n",
      "state: 2\n",
      "best_action: RIGHT\n",
      "state: 3\n",
      "best_action: RIGHT\n",
      "state: 4\n",
      "best_action: RIGHT\n",
      "state: 5\n",
      "best_action: RIGHT\n",
      "state: 6\n",
      "best_action: RIGHT\n",
      "state: 7\n",
      "best_action: RIGHT\n",
      "state: 8\n",
      "best_action: RIGHT\n",
      "state: 9\n",
      "best_action: DOWN\n",
      "state: 21\n",
      "best_action: RIGHT\n",
      "state: 22\n",
      "best_action: RIGHT\n",
      "state: 23\n",
      "best_action: DOWN\n",
      "state: 35\n",
      "best_action: DOWN\n",
      "Terminal state reached.\n",
      "State: 47\n"
     ]
    }
   ],
   "source": [
    "def fn():\n",
    "    action_dict = {\n",
    "        0: \"UP\",\n",
    "        1: \"RIGHT\",\n",
    "        2: \"DOWN\",\n",
    "        3: \"LEFT\"\n",
    "    }\n",
    "    state, _ = cw_env.reset()\n",
    "    print(f\"state: {state}\")\n",
    "    while True:\n",
    "        best_action = agent1.max_action(state)\n",
    "        print(f\"best_action: {action_dict[best_action]}\")\n",
    "        next_state, reward, done, trunc, _ = cw_env.step(best_action)\n",
    "        if done or trunc:\n",
    "            print(f\"Terminal state reached.\\nState: {next_state}\")\n",
    "            break\n",
    "        state = next_state\n",
    "        print(f\"state: {state}\")\n",
    "\n",
    "fn()"
   ]
  },
  {
   "cell_type": "code",
   "execution_count": null,
   "metadata": {},
   "outputs": [],
   "source": []
  },
  {
   "cell_type": "code",
   "execution_count": null,
   "metadata": {},
   "outputs": [],
   "source": []
  }
 ],
 "metadata": {
  "kernelspec": {
   "display_name": "base",
   "language": "python",
   "name": "python3"
  },
  "language_info": {
   "codemirror_mode": {
    "name": "ipython",
    "version": 3
   },
   "file_extension": ".py",
   "mimetype": "text/x-python",
   "name": "python",
   "nbconvert_exporter": "python",
   "pygments_lexer": "ipython3",
   "version": "3.9.7"
  }
 },
 "nbformat": 4,
 "nbformat_minor": 2
}
