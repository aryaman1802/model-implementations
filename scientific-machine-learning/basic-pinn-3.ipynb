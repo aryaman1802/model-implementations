{
 "cells": [
  {
   "cell_type": "code",
   "execution_count": 41,
   "metadata": {
    "_cell_guid": "b1076dfc-b9ad-4769-8c92-a6c4dae69d19",
    "_uuid": "8f2839f25d086af736a60e9eeb907d3b93b6e0e5",
    "execution": {
     "iopub.execute_input": "2025-07-31T06:47:20.601075Z",
     "iopub.status.busy": "2025-07-31T06:47:20.600765Z",
     "iopub.status.idle": "2025-07-31T06:47:20.607585Z",
     "shell.execute_reply": "2025-07-31T06:47:20.606251Z",
     "shell.execute_reply.started": "2025-07-31T06:47:20.601053Z"
    },
    "trusted": true
   },
   "outputs": [],
   "source": [
    "# This Python 3 environment comes with many helpful analytics libraries installed\n",
    "# It is defined by the kaggle/python Docker image: https://github.com/kaggle/docker-python\n",
    "# For example, here's several helpful packages to load\n",
    "\n",
    "import numpy as np    # linear algebra\n",
    "import pandas as pd   # data processing, CSV file I/O (e.g. pd.read_csv)\n",
    "\n",
    "# Input data files are available in the read-only \"../input/\" directory\n",
    "# For example, running this (by clicking run or pressing Shift+Enter) will list all files under the input directory\n",
    "\n",
    "import os\n",
    "for dirname, _, filenames in os.walk('/kaggle/input'):\n",
    "    for filename in filenames:\n",
    "        print(os.path.join(dirname, filename))\n",
    "\n",
    "# You can write up to 20GB to the current directory (/kaggle/working/) that gets preserved as output when you create a version using \"Save & Run All\" \n",
    "# You can also write temporary files to /kaggle/temp/, but they won't be saved outside of the current session"
   ]
  },
  {
   "cell_type": "markdown",
   "metadata": {},
   "source": [
    "References:\n",
    "- [elastropy's playlist on Physics Informed Neural Networks](https://youtube.com/playlist?list=PLM7DTyYjZGuLmg3f6j40fEF18jyQmYsC2&si=35a-jywar0nasELh)\n",
    "\n",
    "\n",
    "This notebook continues from the previous 2 notebooks on basic PINNs:\n",
    "- [basic-pinn-1](https://www.kaggle.com/code/aryamanbansal/basic-pinn-1/edit)\n",
    "- [basic-pinn-2](https://www.kaggle.com/code/aryamanbansal/basic-pinn-2/edit)"
   ]
  },
  {
   "cell_type": "markdown",
   "metadata": {},
   "source": [
    "# Physics Informed Neural Networks (PINNs)\n",
    "\n",
    "## Problem Definition - Newton's Law of Cooling\n",
    "\n",
    "Let's consider Newton's law of cooling, which describes the rate of change of temperature of an object in a surrounding medium. The law states that the rate of change of temperature is proportional to the difference between the object's temperature and the ambient temperature (temperature of the surrounding medium).\n",
    "\n",
    "The mathematical formulation is given by:\n",
    "$$\\frac{dT}{dt} + k(T_a - T) = 0 $$\n",
    "where:\n",
    "- $T$ is the temperature of the object,\n",
    "- $T_a$ is the ambient temperature,\n",
    "- $k$ is a positive constant that depends on the properties of the object and the medium.\n",
    "\n",
    "Initial conditions and constants:\n",
    "- $T(t=0) = T_0 = 250 \\degree C$\n",
    "- $T_a = 27 \\degree C$ \n",
    "- $k = 0.45 \\text{ sec}^{-1}$\n",
    "\n",
    "Analytical solution:\n",
    "\n",
    "$$T(t) = T_a + (T_0 - T_a) e^{-kt}$$"
   ]
  },
  {
   "cell_type": "markdown",
   "metadata": {},
   "source": [
    "## Loss functions\n",
    "\n",
    "There are three main components to the loss function in a PINN:\n",
    "\n",
    "#### 1. Data Loss\n",
    "This term measures the difference between the predicted solution and the true solution at given data points. For example, if we have a set of data points $(t_i, T_i)$, the data loss can be defined as:\n",
    "$$\\text{Data Loss} = \\mathcal{L}_{data} = \\frac{1}{N} \\sum_{i=1}^{N} (\\hat{T}(t_i) - T_i)^2$$\n",
    "\n",
    "where $N$ is the number of data points.\n",
    "\n",
    "#### 2. ODE Loss\n",
    "This term measures how well the neural network satisfies the differential equation. It is computed by evaluating the neural network at a set of collocation points and calculating the residual of the ODE. For our example, the ODE loss can be defined as:\n",
    "\n",
    "\\begin{align*}\n",
    "\\text{ODE Loss} = \\mathcal{L}_{ODE} &= \\frac{1}{M} \\sum_{j=1}^{M} \\left( \\frac{d\\hat{T}}{dt}(t_j) - \\frac{dT}{dt}(t_j) \\right)^2 \\\\ \\\\\n",
    "&= \\frac{1}{M} \\sum_{j=1}^{M} \\left( \\frac{d\\hat{T}}{dt}(t_j) + k(T_a - T(t_j)) \\right)^2 \\quad \\left( \\because \\frac{dT}{dt}(t_j) = - k(T_a - T(t_j)) \\right) \\\\\n",
    "\\end{align*}\n",
    "\n",
    "<!-- &= \\frac{1}{M} \\sum_{j=1}^{M} \\left( \\frac{d\\hat{T}}{dt}(t_j) + k(T_a - T_a - (T_0 - T_a) e^{-kt_j}) \\right)^2 \\quad \\left( \\because T(t) = T_a + (T_0 - T_a) e^{-kt} \\right) \\\\\n",
    "&= \\frac{1}{M} \\sum_{j=1}^{M} \\left( \\frac{d\\hat{T}}{dt}(t_j) - k(T_0 - T_a) e^{-kt_j}) \\right)^2 \\\\ -->\n",
    "\n",
    "\n",
    "#### 3. Initial condition Loss\n",
    "This term ensures that the neural network satisfies the initial condition. For our example, the initial condition loss can be defined as:\n",
    "\n",
    "\\begin{align*}\n",
    "\\text{Initial Condition Loss} = \\mathcal{L}_{initial} &= \\left(T(0) - \\hat{T}(0)\\right)^2 \\\\\n",
    "&= \\left(T_0 - \\hat{T}(0)\\right)^2 \\\\\n",
    "\\end{align*}\n",
    "\n",
    "#### 4. Total Loss\n",
    "The total loss function is a weighted sum of the three components:\n",
    "\n",
    "$$\\mathcal{L}_{total} = \\lambda_1 \\cdot \\mathcal{L}_{data} + \\lambda_2 \\cdot \\mathcal{L}_{ODE} + \\lambda_3 \\cdot \\mathcal{L}_{initial}$$\n",
    "\n",
    "$$\\text{OR}$$\n",
    "\n",
    "$$\\text{Total Loss} = \\lambda_1 \\cdot \\text{Data Loss} + \\lambda_2 \\cdot \\text{ODE Loss} + \\lambda_3 \\cdot \\text{Initial Condition Loss}$$\n",
    "\n",
    "where $\\lambda_1$, $\\lambda_2$, and $\\lambda_3$ are hyperparameters that control the relative importance of each term."
   ]
  },
  {
   "cell_type": "code",
   "execution_count": 42,
   "metadata": {
    "execution": {
     "iopub.execute_input": "2025-07-31T06:47:20.609596Z",
     "iopub.status.busy": "2025-07-31T06:47:20.609273Z",
     "iopub.status.idle": "2025-07-31T06:47:20.629156Z",
     "shell.execute_reply": "2025-07-31T06:47:20.628110Z",
     "shell.execute_reply.started": "2025-07-31T06:47:20.609573Z"
    },
    "trusted": true
   },
   "outputs": [
    {
     "name": "stdout",
     "output_type": "stream",
     "text": [
      "imports done!\n"
     ]
    }
   ],
   "source": [
    "import torch\n",
    "import torch.nn as nn\n",
    "import torch.optim as optim\n",
    "\n",
    "import numpy as np\n",
    "import matplotlib.pyplot as plt\n",
    "\n",
    "# from scipy.integrate import solve_bvp\n",
    "from tqdm import tqdm\n",
    "import gc\n",
    "\n",
    "# plot settings\n",
    "plt.close(\"all\")\n",
    "plt.rcParams[\"font.family\"] = \"serif\"\n",
    "plt.rcParams[\"font.serif\"] = \"Times New Roman\"\n",
    "plt.rcParams[\"font.size\"] = 10\n",
    "plt.rcParams[\"figure.dpi\"] = 100\n",
    "\n",
    "print(\"imports done!\")"
   ]
  },
  {
   "cell_type": "code",
   "execution_count": 43,
   "metadata": {
    "execution": {
     "iopub.execute_input": "2025-07-31T06:47:20.630795Z",
     "iopub.status.busy": "2025-07-31T06:47:20.630505Z",
     "iopub.status.idle": "2025-07-31T06:47:20.649981Z",
     "shell.execute_reply": "2025-07-31T06:47:20.649079Z",
     "shell.execute_reply.started": "2025-07-31T06:47:20.630773Z"
    },
    "trusted": true
   },
   "outputs": [
    {
     "data": {
      "text/plain": [
       "'cpu'"
      ]
     },
     "execution_count": 43,
     "metadata": {},
     "output_type": "execute_result"
    }
   ],
   "source": [
    "device = \"cuda\" if torch.cuda.is_available() else \"cpu\"\n",
    "device"
   ]
  },
  {
   "cell_type": "code",
   "execution_count": 44,
   "metadata": {
    "execution": {
     "iopub.execute_input": "2025-07-31T06:47:20.651124Z",
     "iopub.status.busy": "2025-07-31T06:47:20.650884Z",
     "iopub.status.idle": "2025-07-31T06:47:20.672435Z",
     "shell.execute_reply": "2025-07-31T06:47:20.671243Z",
     "shell.execute_reply.started": "2025-07-31T06:47:20.651106Z"
    },
    "trusted": true
   },
   "outputs": [
    {
     "name": "stdout",
     "output_type": "stream",
     "text": [
      "physics-informed neural network created!\n"
     ]
    }
   ],
   "source": [
    "class PINN(nn.Module):\n",
    "    def __init__(self, input_dim, hidden_units, output_dim):\n",
    "        super(PINN, self).__init__()\n",
    "        self.model = nn.Sequential(\n",
    "            nn.Linear(input_dim, hidden_units),\n",
    "            nn.Tanh(),\n",
    "            nn.Linear(hidden_units, hidden_units),\n",
    "            nn.Tanh(),\n",
    "            nn.Linear(hidden_units, hidden_units),\n",
    "            nn.Tanh(),\n",
    "            nn.Linear(hidden_units, output_dim),\n",
    "        )\n",
    "    \n",
    "    def forward(self, x):\n",
    "        return self.model(x)\n",
    "\n",
    "\n",
    "print(\"physics-informed neural network created!\")"
   ]
  },
  {
   "cell_type": "code",
   "execution_count": 45,
   "metadata": {
    "execution": {
     "iopub.execute_input": "2025-07-31T06:47:20.675697Z",
     "iopub.status.busy": "2025-07-31T06:47:20.675316Z",
     "iopub.status.idle": "2025-07-31T06:47:20.701850Z",
     "shell.execute_reply": "2025-07-31T06:47:20.700750Z",
     "shell.execute_reply.started": "2025-07-31T06:47:20.675652Z"
    },
    "trusted": true
   },
   "outputs": [
    {
     "name": "stdout",
     "output_type": "stream",
     "text": [
      "automatic differentiation function created!\n"
     ]
    }
   ],
   "source": [
    "# Automatic differentiation\n",
    "def derivative(T, t):\n",
    "    \"\"\"\n",
    "    Computes dT/dt using PyTorch's autograd.\n",
    "    T and t must be tensors with requires_grad=True for t.\n",
    "    \"\"\"\n",
    "    return torch.autograd.grad(\n",
    "        T, t,\n",
    "        grad_outputs=torch.ones_like(T),\n",
    "        create_graph=True\n",
    "    )[0]\n",
    "\n",
    "\n",
    "print(\"automatic differentiation function created!\")"
   ]
  },
  {
   "cell_type": "code",
   "execution_count": 46,
   "metadata": {
    "execution": {
     "iopub.execute_input": "2025-07-31T06:47:20.703045Z",
     "iopub.status.busy": "2025-07-31T06:47:20.702739Z",
     "iopub.status.idle": "2025-07-31T06:47:20.726041Z",
     "shell.execute_reply": "2025-07-31T06:47:20.725052Z",
     "shell.execute_reply.started": "2025-07-31T06:47:20.703018Z"
    },
    "trusted": true
   },
   "outputs": [
    {
     "name": "stdout",
     "output_type": "stream",
     "text": [
      "loss function created!\n"
     ]
    }
   ],
   "source": [
    "def loss_function(model, t, T, t_ic, T_ic, lambda_data, lambda_ode, lambda_ic, T_0=250, T_a=27, k=0.45):\n",
    "    # make a fresh copy of t that requires grads\n",
    "    # we must do this before passing x through the model\n",
    "    # otherwise the forward-graph will already be built\n",
    "    t_coll = t.clone().detach().requires_grad_(True)\n",
    "    \n",
    "    # Data loss\n",
    "    T_pred = model(t)\n",
    "    residual_data = T_pred - T\n",
    "    data_loss = torch.mean(residual_data.pow(2))\n",
    "\n",
    "    # ODE loss\n",
    "    T_coll = model(t_coll)\n",
    "    T_t = derivative(T_coll, t_coll)   # dT/dt\n",
    "    # ode_loss = torch.mean((T_t - (k*(T_0 - T_a))**torch.exp(-k*t_coll))**2)\n",
    "    residual_ode = T_t + k * (T_coll - T_a)\n",
    "    ode_loss = torch.mean(residual_ode.pow(2))\n",
    "\n",
    "    # Initial condition loss\n",
    "    T_ic_pred = model(t_ic)\n",
    "    residual_ic = T_ic_pred - T_ic\n",
    "    initial_loss = torch.mean(residual_ic.pow(2))\n",
    "\n",
    "    return lambda_data*data_loss + lambda_ode*ode_loss + lambda_ic*initial_loss\n",
    "\n",
    "\n",
    "print(\"loss function created!\")"
   ]
  },
  {
   "cell_type": "code",
   "execution_count": 47,
   "metadata": {
    "execution": {
     "iopub.execute_input": "2025-07-31T06:47:20.727413Z",
     "iopub.status.busy": "2025-07-31T06:47:20.727117Z",
     "iopub.status.idle": "2025-07-31T06:47:20.751952Z",
     "shell.execute_reply": "2025-07-31T06:47:20.751081Z",
     "shell.execute_reply.started": "2025-07-31T06:47:20.727393Z"
    },
    "trusted": true
   },
   "outputs": [
    {
     "name": "stdout",
     "output_type": "stream",
     "text": [
      "training function created!\n"
     ]
    }
   ],
   "source": [
    "def train(model, t_data, T_data, t_ic, T_ic, lambda_data, lambda_ode, lambda_ic,\n",
    "          epochs=10000, learning_rate=0.001, device=\"cpu\", T_0=250, T_a=27, k=0.45):\n",
    "    model = model.to(device)\n",
    "    t_data = t_data.to(device)\n",
    "    T_data = T_data.to(device)\n",
    "    t_ic = t_ic.to(device)\n",
    "    T_ic = T_ic.to(device)\n",
    "    optimizer = optim.AdamW(model.parameters(), lr=learning_rate)\n",
    "    for epoch in tqdm(range(epochs)):\n",
    "        model.train()\n",
    "        optimizer.zero_grad()\n",
    "        loss = loss_function(model, t_data, T_data, t_ic, T_ic, lambda_data, lambda_ode, lambda_ic, T_0, T_a, k)\n",
    "        loss.backward()\n",
    "        optimizer.step()\n",
    "        \n",
    "        if epoch % 1000 == 0:\n",
    "            print(f'Epoch {epoch}, Loss: {loss.item()}')\n",
    "    return model\n",
    "\n",
    "\n",
    "print(\"training function created!\")"
   ]
  },
  {
   "cell_type": "code",
   "execution_count": 48,
   "metadata": {
    "execution": {
     "iopub.execute_input": "2025-07-31T06:47:20.753309Z",
     "iopub.status.busy": "2025-07-31T06:47:20.752985Z",
     "iopub.status.idle": "2025-07-31T06:47:20.779314Z",
     "shell.execute_reply": "2025-07-31T06:47:20.778328Z",
     "shell.execute_reply.started": "2025-07-31T06:47:20.753284Z"
    },
    "trusted": true
   },
   "outputs": [
    {
     "name": "stdout",
     "output_type": "stream",
     "text": [
      "data generation functions created!\n"
     ]
    }
   ],
   "source": [
    "# Generate training data\n",
    "def generate_data(t_min=-20.0, t_max=40.0, T_a=27.0, t_0=0.0, T_0=250.0, k=0.45, num_points=1000):\n",
    "    T_a = torch.tensor([T_a])\n",
    "    T_0 = torch.tensor([T_0])\n",
    "    k = torch.tensor([k])\n",
    "    # generate evenly spaced points from the domain [t_min, t_max]\n",
    "    t_data = torch.linspace(t_min, t_max, num_points).view(-1, 1)    # collocation points\n",
    "    T_data = T_a + (T_0 - T_a)*torch.exp(-k*t_data)\n",
    "    t_ic = torch.tensor([t_0])\n",
    "    T_ic = torch.tensor([T_0])\n",
    "    return t_data, T_data, t_ic, T_ic\n",
    "\n",
    "\n",
    "print(\"data generation functions created!\")"
   ]
  },
  {
   "cell_type": "code",
   "execution_count": 49,
   "metadata": {
    "execution": {
     "iopub.execute_input": "2025-07-31T06:47:20.780465Z",
     "iopub.status.busy": "2025-07-31T06:47:20.780161Z",
     "iopub.status.idle": "2025-07-31T06:49:18.710540Z",
     "shell.execute_reply": "2025-07-31T06:49:18.709560Z",
     "shell.execute_reply.started": "2025-07-31T06:47:20.780432Z"
    },
    "trusted": true
   },
   "outputs": [
    {
     "name": "stderr",
     "output_type": "stream",
     "text": [
      "  0%|          | 0/15000 [00:00<?, ?it/s]"
     ]
    },
    {
     "name": "stdout",
     "output_type": "stream",
     "text": [
      "Epoch 0, Loss: 62713.125\n"
     ]
    },
    {
     "name": "stderr",
     "output_type": "stream",
     "text": [
      "  7%|▋         | 1022/15000 [00:07<01:41, 137.61it/s]"
     ]
    },
    {
     "name": "stdout",
     "output_type": "stream",
     "text": [
      "Epoch 1000, Loss: 38674.5078125\n"
     ]
    },
    {
     "name": "stderr",
     "output_type": "stream",
     "text": [
      " 13%|█▎        | 2022/15000 [00:15<01:33, 139.45it/s]"
     ]
    },
    {
     "name": "stdout",
     "output_type": "stream",
     "text": [
      "Epoch 2000, Loss: 23468.3984375\n"
     ]
    },
    {
     "name": "stderr",
     "output_type": "stream",
     "text": [
      " 20%|██        | 3022/15000 [00:23<01:29, 134.20it/s]"
     ]
    },
    {
     "name": "stdout",
     "output_type": "stream",
     "text": [
      "Epoch 3000, Loss: 13046.61328125\n"
     ]
    },
    {
     "name": "stderr",
     "output_type": "stream",
     "text": [
      " 27%|██▋       | 4012/15000 [00:30<01:34, 115.75it/s]"
     ]
    },
    {
     "name": "stdout",
     "output_type": "stream",
     "text": [
      "Epoch 4000, Loss: 6401.27587890625\n"
     ]
    },
    {
     "name": "stderr",
     "output_type": "stream",
     "text": [
      " 33%|███▎      | 5020/15000 [00:38<01:12, 137.94it/s]"
     ]
    },
    {
     "name": "stdout",
     "output_type": "stream",
     "text": [
      "Epoch 5000, Loss: 2580.70166015625\n"
     ]
    },
    {
     "name": "stderr",
     "output_type": "stream",
     "text": [
      " 40%|████      | 6026/15000 [00:47<01:11, 124.70it/s]"
     ]
    },
    {
     "name": "stdout",
     "output_type": "stream",
     "text": [
      "Epoch 6000, Loss: 678.0308837890625\n"
     ]
    },
    {
     "name": "stderr",
     "output_type": "stream",
     "text": [
      " 47%|████▋     | 7020/15000 [00:54<00:59, 133.56it/s]"
     ]
    },
    {
     "name": "stdout",
     "output_type": "stream",
     "text": [
      "Epoch 7000, Loss: 146.3635711669922\n"
     ]
    },
    {
     "name": "stderr",
     "output_type": "stream",
     "text": [
      " 53%|█████▎    | 8016/15000 [01:02<01:00, 114.74it/s]"
     ]
    },
    {
     "name": "stdout",
     "output_type": "stream",
     "text": [
      "Epoch 8000, Loss: 61.063148498535156\n"
     ]
    },
    {
     "name": "stderr",
     "output_type": "stream",
     "text": [
      " 60%|██████    | 9015/15000 [01:10<00:47, 126.16it/s]"
     ]
    },
    {
     "name": "stdout",
     "output_type": "stream",
     "text": [
      "Epoch 9000, Loss: 45.15454864501953\n"
     ]
    },
    {
     "name": "stderr",
     "output_type": "stream",
     "text": [
      " 67%|██████▋   | 10019/15000 [01:18<00:36, 134.90it/s]"
     ]
    },
    {
     "name": "stdout",
     "output_type": "stream",
     "text": [
      "Epoch 10000, Loss: 43.936851501464844\n"
     ]
    },
    {
     "name": "stderr",
     "output_type": "stream",
     "text": [
      " 73%|███████▎  | 11011/15000 [01:25<00:32, 124.39it/s]"
     ]
    },
    {
     "name": "stdout",
     "output_type": "stream",
     "text": [
      "Epoch 11000, Loss: 43.774696350097656\n"
     ]
    },
    {
     "name": "stderr",
     "output_type": "stream",
     "text": [
      " 80%|████████  | 12014/15000 [01:34<00:23, 128.77it/s]"
     ]
    },
    {
     "name": "stdout",
     "output_type": "stream",
     "text": [
      "Epoch 12000, Loss: 43.68254470825195\n"
     ]
    },
    {
     "name": "stderr",
     "output_type": "stream",
     "text": [
      " 87%|████████▋ | 13022/15000 [01:42<00:15, 129.90it/s]"
     ]
    },
    {
     "name": "stdout",
     "output_type": "stream",
     "text": [
      "Epoch 13000, Loss: 43.626792907714844\n"
     ]
    },
    {
     "name": "stderr",
     "output_type": "stream",
     "text": [
      " 93%|█████████▎| 14013/15000 [01:50<00:08, 120.47it/s]"
     ]
    },
    {
     "name": "stdout",
     "output_type": "stream",
     "text": [
      "Epoch 14000, Loss: 43.565704345703125\n"
     ]
    },
    {
     "name": "stderr",
     "output_type": "stream",
     "text": [
      "100%|██████████| 15000/15000 [01:57<00:00, 127.23it/s]\n"
     ]
    }
   ],
   "source": [
    "# Hyperparameters\n",
    "input_dim = 1\n",
    "output_dim = 1\n",
    "hidden_units = 50\n",
    "epochs = 15000\n",
    "learning_rate = 0.001\n",
    "lambda_data = 0.0\n",
    "lambda_ode = 1.0\n",
    "lambda_bc = 1.0\n",
    "\n",
    "# Generate training data and collocation points\n",
    "x_data, y_data, x_bc, y_bc = generate_data()\n",
    "\n",
    "# Initialize the PINN model\n",
    "model = PINN(input_dim, hidden_units, output_dim)\n",
    "\n",
    "# Train the model\n",
    "trained_model = train(model, x_data, y_data, x_bc, y_bc, lambda_data, lambda_ode, lambda_bc, epochs, learning_rate, device)\n"
   ]
  },
  {
   "cell_type": "code",
   "execution_count": 50,
   "metadata": {
    "execution": {
     "iopub.execute_input": "2025-07-31T06:49:18.712021Z",
     "iopub.status.busy": "2025-07-31T06:49:18.711714Z",
     "iopub.status.idle": "2025-07-31T06:49:18.897370Z",
     "shell.execute_reply": "2025-07-31T06:49:18.896297Z",
     "shell.execute_reply.started": "2025-07-31T06:49:18.711991Z"
    },
    "trusted": true
   },
   "outputs": [
    {
     "name": "stdout",
     "output_type": "stream",
     "text": [
      "freed up some memory\n"
     ]
    }
   ],
   "source": [
    "gc.collect()\n",
    "print(\"freed up some memory\")"
   ]
  },
  {
   "cell_type": "code",
   "execution_count": 55,
   "metadata": {
    "execution": {
     "iopub.execute_input": "2025-07-31T06:53:44.329967Z",
     "iopub.status.busy": "2025-07-31T06:53:44.329215Z",
     "iopub.status.idle": "2025-07-31T06:53:44.541629Z",
     "shell.execute_reply": "2025-07-31T06:53:44.540843Z",
     "shell.execute_reply.started": "2025-07-31T06:53:44.329932Z"
    },
    "trusted": true
   },
   "outputs": [
    {
     "data": {
      "image/png": "[encoded data removed]",
      "text/plain": [
       "<Figure size 640x480 with 1 Axes>"
      ]
     },
     "metadata": {},
     "output_type": "display_data"
    }
   ],
   "source": [
    "# Plot the results\n",
    "T_0=250\n",
    "T_a=27\n",
    "k=0.45\n",
    "x_plot = torch.linspace(0, 10, 1000, device=device).view(-1, 1)\n",
    "y_plot = trained_model(x_plot).cpu().detach().numpy()\n",
    "analytical_soln = T_a + (T_0 - T_a)*np.exp(-k * x_plot).cpu().detach().numpy()\n",
    "\n",
    "plt.plot(x_plot.cpu().numpy(), y_plot, 'ro', label='PINN Approximation')\n",
    "plt.plot(x_plot.cpu().numpy(), analytical_soln, '--', color='black', label=\"Analytical soln\")\n",
    "plt.title('PINN Solution to Poisson\\'s Equation')\n",
    "plt.xlabel('Time (in second)')\n",
    "plt.ylabel('Temperature (in °C)')\n",
    "plt.legend()\n",
    "plt.grid()\n",
    "plt.show()"
   ]
  },
  {
   "cell_type": "code",
   "execution_count": null,
   "metadata": {
    "trusted": true
   },
   "outputs": [],
   "source": []
  },
  {
   "cell_type": "code",
   "execution_count": null,
   "metadata": {
    "trusted": true
   },
   "outputs": [],
   "source": []
  }
 ],
 "metadata": {
  "kaggle": {
   "accelerator": "none",
   "dataSources": [],
   "dockerImageVersionId": 31089,
   "isGpuEnabled": false,
   "isInternetEnabled": true,
   "language": "python",
   "sourceType": "notebook"
  },
  "kernelspec": {
   "display_name": "Python 3",
   "language": "python",
   "name": "python3"
  },
  "language_info": {
   "codemirror_mode": {
    "name": "ipython",
    "version": 3
   },
   "file_extension": ".py",
   "mimetype": "text/x-python",
   "name": "python",
   "nbconvert_exporter": "python",
   "pygments_lexer": "ipython3",
   "version": "3.11.13"
  }
 },
 "nbformat": 4,
 "nbformat_minor": 4
}
