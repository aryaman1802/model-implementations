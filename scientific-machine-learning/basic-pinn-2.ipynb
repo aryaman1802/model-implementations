{
 "cells": [
  {
   "cell_type": "markdown",
   "metadata": {},
   "source": [
    "References:\n",
    "- [elastropy's playlist on Physics Informed Neural Networks](https://youtube.com/playlist?list=PLM7DTyYjZGuLmg3f6j40fEF18jyQmYsC2&si=35a-jywar0nasELh)"
   ]
  },
  {
   "cell_type": "markdown",
   "metadata": {},
   "source": [
    "# Physics Informed Neural Networks (PINNs)\n",
    "\n",
    "## Problem Definition - Poisson's Equation in One Dimension\n",
    "\n",
    "Let's consider a simple boundary value problem (BVP) \"**Poisson's equation in one dimension**\" defined by the following ordinary differential equation (ODE):\n",
    "\n",
    "$$\\frac{d^2y}{dx^2} + \\pi^2 sin(\\pi x) = 0, \\quad x \\in [-1, 1]$$\n",
    "\n",
    "Boundary conditions are: \n",
    "$$y(-1) = 0, \\quad y(1) = 0$$\n",
    "\n",
    "The analytical solution to this problem is:\n",
    "$$y(x) = sin(\\pi x)$$\n",
    "\n",
    "## Role of PINNs\n",
    "\n",
    "Neural networks are universal function approximators, which means they can approximate any function given enough neurons and appropriate training strategy. In the context of PINNs, we use neural networks to approximate the solution of differential equations by minimizing a loss function that incorporates both the differential equation and the boundary conditions. \n",
    "\n",
    "In this notebook, we will implement a PINN to approximate the solution to the above ODE:\n",
    "$$y(x) \\approx \\hat{y}(x)$$\n",
    "\n",
    ", where $\\hat{y}$ is the output of a neural network."
   ]
  },
  {
   "cell_type": "markdown",
   "metadata": {},
   "source": [
    "## Loss functions\n",
    "\n",
    "There are three main components to the loss function in a PINN:\n",
    "\n",
    "#### 1. Data Loss\n",
    "This term measures the difference between the predicted solution and the true solution at given data points. For example, if we have a set of data points $(x_i, y_i)$, the data loss can be defined as:\n",
    "$$\\text{Data Loss} = \\mathcal{L}_{data} = \\frac{1}{N} \\sum_{i=1}^{N} (\\hat{y}(x_i) - y_i)^2$$\n",
    "\n",
    "where $N$ is the number of data points.\n",
    "\n",
    "#### 2. ODE Loss\n",
    "This term measures how well the neural network satisfies the differential equation. It is computed by evaluating the neural network at a set of collocation points and calculating the residual of the ODE. For our example, the ODE loss can be defined as:\n",
    "\n",
    "\\begin{align*}\n",
    "\\text{ODE Loss} = \\mathcal{L}_{ODE} &= \\frac{1}{M} \\sum_{j=1}^{M} \\left( \\frac{d^2\\hat{y}}{dx^2}(x_j) - \\frac{d^2y}{dx^2}(x_j) \\right)^2 \\\\ \\\\\n",
    "&= \\frac{1}{M} \\sum_{j=1}^{M} \\left( \\frac{d^2\\hat{y}}{dx^2}(x_j) + \\pi^2 \\sin(\\pi x_j)\n",
    "\\right)^2 \\quad \\left( \\because \\frac{d^2y}{dx^2}(x_j) = -\\pi^2 \\sin(\\pi x_j) \\right) \\\\\n",
    "\\end{align*}\n",
    "\n",
    "\n",
    ",where $M$ is the number of collocation points sampled from the domain $[-1, 1]$\n",
    "\n",
    "#### 3. Boundary Loss\n",
    "This term ensures that the neural network satisfies the boundary conditions. For our example, the boundary loss can be defined as:\n",
    "\n",
    "\\begin{align*}\n",
    "\\text{Boundary Loss} = \\mathcal{L}_{boundary} &= (\\hat{y}(-1) - y(-1))^2 + (\\hat{y}(1) - y(1))^2 \\\\\n",
    "&= (\\hat{y}(-1) - 0)^2 + (\\hat{y}(1) - 0)^2 \\\\\n",
    "&= \\hat{y}(-1)^2 + \\hat{y}(1)^2 \\\\\n",
    "\\end{align*}\n",
    "\n",
    "#### 4. Total Loss\n",
    "The total loss function is a weighted sum of the three components:\n",
    "\n",
    "$$\\mathcal{L}_{total} = \\lambda_1 \\cdot \\mathcal{L}_{data} + \\lambda_2 \\cdot \\mathcal{L}_{ODE} + \\lambda_3 \\cdot \\mathcal{L}_{boundary}$$\n",
    "\n",
    "$$\\text{OR}$$\n",
    "\n",
    "$$\\text{Total Loss} = \\lambda_1 \\cdot \\text{Data Loss} + \\lambda_2 \\cdot \\text{ODE Loss} + \\lambda_3 \\cdot \\text{Boundary Loss}$$\n",
    "\n",
    "where $\\lambda_1$, $\\lambda_2$, and $\\lambda_3$ are hyperparameters that control the relative importance of each term."
   ]
  },
  {
   "cell_type": "markdown",
   "metadata": {},
   "source": [
    "### Role of Collocation Points\n",
    "\n",
    "Collocation points are specific points in the domain where the ODE and boundary conditions are enforced. \n",
    "- **Why use collocation points?**\n",
    "  - They allow the neural network to learn the underlying physics of the problem by minimizing the residuals of the ODE at these points.\n",
    "  - They help in ensuring that the neural network approximates the solution accurately across the entire domain, not just at the data points.\n",
    "- **How to choose collocation points?**\n",
    "  - Collocation points can be chosen uniformly across the domain or based on specific criteria (e.g., clustering, adaptive sampling)."
   ]
  },
  {
   "cell_type": "code",
   "execution_count": 3,
   "metadata": {
    "execution": {
     "iopub.execute_input": "2025-07-23T07:32:53.276175Z",
     "iopub.status.busy": "2025-07-23T07:32:53.275709Z",
     "iopub.status.idle": "2025-07-23T07:32:58.285410Z",
     "shell.execute_reply": "2025-07-23T07:32:58.284423Z",
     "shell.execute_reply.started": "2025-07-23T07:32:53.276145Z"
    },
    "trusted": true
   },
   "outputs": [
    {
     "name": "stdout",
     "output_type": "stream",
     "text": [
      "imports done!\n"
     ]
    }
   ],
   "source": [
    "import torch\n",
    "import torch.nn as nn\n",
    "import torch.optim as optim\n",
    "\n",
    "import numpy as np\n",
    "import matplotlib.pyplot as plt\n",
    "\n",
    "# from scipy.integrate import solve_bvp\n",
    "from tqdm import tqdm\n",
    "import gc\n",
    "\n",
    "# plot settings\n",
    "plt.close(\"all\")\n",
    "plt.rcParams[\"font.family\"] = \"serif\"\n",
    "plt.rcParams[\"font.serif\"] = \"Times New Roman\"\n",
    "plt.rcParams[\"font.size\"] = 10\n",
    "plt.rcParams[\"figure.dpi\"] = 100\n",
    "\n",
    "print(\"imports done!\")"
   ]
  },
  {
   "cell_type": "code",
   "execution_count": 4,
   "metadata": {
    "execution": {
     "iopub.execute_input": "2025-07-23T07:32:58.286666Z",
     "iopub.status.busy": "2025-07-23T07:32:58.286246Z",
     "iopub.status.idle": "2025-07-23T07:32:58.298875Z",
     "shell.execute_reply": "2025-07-23T07:32:58.297902Z",
     "shell.execute_reply.started": "2025-07-23T07:32:58.286644Z"
    },
    "trusted": true
   },
   "outputs": [
    {
     "data": {
      "text/plain": [
       "'cpu'"
      ]
     },
     "execution_count": 4,
     "metadata": {},
     "output_type": "execute_result"
    }
   ],
   "source": [
    "device = \"cuda\" if torch.cuda.is_available() else \"cpu\"\n",
    "device"
   ]
  },
  {
   "cell_type": "code",
   "execution_count": 5,
   "metadata": {
    "execution": {
     "iopub.execute_input": "2025-07-23T07:32:58.302060Z",
     "iopub.status.busy": "2025-07-23T07:32:58.301537Z",
     "iopub.status.idle": "2025-07-23T07:32:58.339283Z",
     "shell.execute_reply": "2025-07-23T07:32:58.338119Z",
     "shell.execute_reply.started": "2025-07-23T07:32:58.302014Z"
    },
    "trusted": true
   },
   "outputs": [
    {
     "name": "stdout",
     "output_type": "stream",
     "text": [
      "physics-informed neural network created!\n"
     ]
    }
   ],
   "source": [
    "class PINN(nn.Module):\n",
    "    def __init__(self, input_dim, hidden_units, output_dim):\n",
    "        super(PINN, self).__init__()\n",
    "        self.model = nn.Sequential(\n",
    "            nn.Linear(input_dim, hidden_units),\n",
    "            nn.Tanh(),\n",
    "            nn.Linear(hidden_units, hidden_units),\n",
    "            nn.Tanh(),\n",
    "            nn.Linear(hidden_units, hidden_units),\n",
    "            nn.Tanh(),\n",
    "            nn.Linear(hidden_units, output_dim),\n",
    "        )\n",
    "        \n",
    "    def forward(self, x):\n",
    "        return self.model(x)\n",
    "\n",
    "\n",
    "print(\"physics-informed neural network created!\")"
   ]
  },
  {
   "cell_type": "code",
   "execution_count": 6,
   "metadata": {
    "execution": {
     "iopub.execute_input": "2025-07-23T07:32:58.340694Z",
     "iopub.status.busy": "2025-07-23T07:32:58.340306Z",
     "iopub.status.idle": "2025-07-23T07:32:58.360238Z",
     "shell.execute_reply": "2025-07-23T07:32:58.359157Z",
     "shell.execute_reply.started": "2025-07-23T07:32:58.340663Z"
    },
    "trusted": true
   },
   "outputs": [
    {
     "name": "stdout",
     "output_type": "stream",
     "text": [
      "automatic differentiation function created!\n"
     ]
    }
   ],
   "source": [
    "# Automatic differentiation\n",
    "def derivative(y, x):\n",
    "    \"\"\"\n",
    "    Computes dy/dx using PyTorch's autograd.\n",
    "    y and x must be tensors with requires_grad=True for x.\n",
    "    \"\"\"\n",
    "    return torch.autograd.grad(\n",
    "        y, x,\n",
    "        grad_outputs=torch.ones_like(y),\n",
    "        create_graph=True\n",
    "    )[0]\n",
    "\n",
    "\n",
    "print(\"automatic differentiation function created!\")"
   ]
  },
  {
   "cell_type": "code",
   "execution_count": 7,
   "metadata": {
    "execution": {
     "iopub.execute_input": "2025-07-23T07:32:58.361615Z",
     "iopub.status.busy": "2025-07-23T07:32:58.361248Z",
     "iopub.status.idle": "2025-07-23T07:32:58.382738Z",
     "shell.execute_reply": "2025-07-23T07:32:58.381598Z",
     "shell.execute_reply.started": "2025-07-23T07:32:58.361583Z"
    },
    "trusted": true
   },
   "outputs": [
    {
     "name": "stdout",
     "output_type": "stream",
     "text": [
      "loss function created!\n"
     ]
    }
   ],
   "source": [
    "def loss_function(model, x, y, x_bc, y_bc, lambda_data, lambda_ode, lambda_bc):\n",
    "    # make a fresh copy of x that requires grads\n",
    "    # we must do this before passing x through the model\n",
    "    # otherwise the forward-graph will already be built\n",
    "    x_coll = x.clone().detach().requires_grad_(True)\n",
    "    \n",
    "    # Data loss\n",
    "    y_pred = model(x)\n",
    "    data_loss = torch.mean((y_pred - y)**2)\n",
    "\n",
    "    # ODE loss\n",
    "    y_coll = model(x_coll)\n",
    "    y_x = derivative(y_coll, x_coll)   # dy/dx\n",
    "    y_xx = derivative(y_x, x_coll)     # d2y/dx2\n",
    "    ode_loss = torch.mean((y_xx + torch.pi**2 * torch.sin(torch.pi * x_coll))**2)\n",
    "\n",
    "    # Boundary loss\n",
    "    # boundary_loss = (model(torch.tensor([-1.0]))**2 + model(torch.tensor([1.0]))**2)\n",
    "    y_bc_pred = model(x_bc)\n",
    "    boundary_loss = torch.mean((y_bc_pred - y_bc)**2)\n",
    "\n",
    "    return lambda_data*data_loss + lambda_ode*ode_loss + lambda_bc*boundary_loss\n",
    "\n",
    "\n",
    "print(\"loss function created!\")"
   ]
  },
  {
   "cell_type": "code",
   "execution_count": 8,
   "metadata": {
    "execution": {
     "iopub.execute_input": "2025-07-23T07:32:58.384344Z",
     "iopub.status.busy": "2025-07-23T07:32:58.383851Z",
     "iopub.status.idle": "2025-07-23T07:32:58.402599Z",
     "shell.execute_reply": "2025-07-23T07:32:58.401547Z",
     "shell.execute_reply.started": "2025-07-23T07:32:58.384287Z"
    },
    "trusted": true
   },
   "outputs": [
    {
     "name": "stdout",
     "output_type": "stream",
     "text": [
      "training function created!\n"
     ]
    }
   ],
   "source": [
    "def train(model, x_data, y_data, x_bc, y_bc, lambda_data, lambda_ode, lambda_bc, epochs=10000, learning_rate=0.001, device=\"cpu\"):\n",
    "    model = model.to(device)\n",
    "    x_data = x_data.to(device)\n",
    "    y_data = y_data.to(device)\n",
    "    x_bc = x_bc.to(device)\n",
    "    y_bc = y_bc.to(device)\n",
    "    optimizer = optim.Adam(model.parameters(), lr=learning_rate)\n",
    "    for epoch in tqdm(range(epochs)):\n",
    "        model.train()\n",
    "        optimizer.zero_grad()\n",
    "        loss = loss_function(model, x_data, y_data, x_bc, y_bc, lambda_data, lambda_ode, lambda_bc)\n",
    "        loss.backward()\n",
    "        optimizer.step()\n",
    "        \n",
    "        if epoch % 1000 == 0:\n",
    "            print(f'Epoch {epoch}, Loss: {loss.item()}')\n",
    "    return model\n",
    "\n",
    "\n",
    "print(\"training function created!\")"
   ]
  },
  {
   "cell_type": "code",
   "execution_count": 12,
   "metadata": {
    "execution": {
     "iopub.execute_input": "2025-07-23T07:34:14.898789Z",
     "iopub.status.busy": "2025-07-23T07:34:14.897786Z",
     "iopub.status.idle": "2025-07-23T07:34:14.905430Z",
     "shell.execute_reply": "2025-07-23T07:34:14.904431Z",
     "shell.execute_reply.started": "2025-07-23T07:34:14.898759Z"
    },
    "trusted": true
   },
   "outputs": [
    {
     "name": "stdout",
     "output_type": "stream",
     "text": [
      "data generation functions created!\n"
     ]
    }
   ],
   "source": [
    "# Generate training data\n",
    "def generate_data(num_points=1000):\n",
    "    # generate evenly spaced points from the domain [-1,1]\n",
    "    x_data = torch.linspace(-1, 1, num_points).view(-1, 1)    # collocation points\n",
    "    y_data = torch.sin(np.pi * x_data) / np.pi\n",
    "    x_bc = torch.tensor([[-1.0], [1.0]])\n",
    "    y_bc = torch.tensor([[0.0], [0.0]])\n",
    "    return x_data, y_data, x_bc, y_bc\n",
    "\n",
    "\n",
    "print(\"data generation functions created!\")"
   ]
  },
  {
   "cell_type": "code",
   "execution_count": 18,
   "metadata": {
    "execution": {
     "iopub.execute_input": "2025-07-23T07:38:40.893920Z",
     "iopub.status.busy": "2025-07-23T07:38:40.893618Z",
     "iopub.status.idle": "2025-07-23T07:39:02.523187Z",
     "shell.execute_reply": "2025-07-23T07:39:02.522097Z",
     "shell.execute_reply.started": "2025-07-23T07:38:40.893898Z"
    },
    "trusted": true
   },
   "outputs": [
    {
     "name": "stderr",
     "output_type": "stream",
     "text": [
      "  1%|          | 19/2000 [00:00<00:22, 89.84it/s]"
     ]
    },
    {
     "name": "stdout",
     "output_type": "stream",
     "text": [
      "Epoch 0, Loss: 970.1165161132812\n"
     ]
    },
    {
     "name": "stderr",
     "output_type": "stream",
     "text": [
      " 51%|█████     | 1019/2000 [00:11<00:10, 97.04it/s]"
     ]
    },
    {
     "name": "stdout",
     "output_type": "stream",
     "text": [
      "Epoch 1000, Loss: 0.0010168430162593722\n"
     ]
    },
    {
     "name": "stderr",
     "output_type": "stream",
     "text": [
      "100%|██████████| 2000/2000 [00:21<00:00, 93.61it/s] \n"
     ]
    },
    {
     "data": {
      "image/png": "[encoded data removed]",
      "text/plain": [
       "<Figure size 640x480 with 1 Axes>"
      ]
     },
     "metadata": {},
     "output_type": "display_data"
    }
   ],
   "source": [
    "# Main function to run the PINN\n",
    "def main():\n",
    "    # Hyperparameters\n",
    "    input_dim = 1\n",
    "    output_dim = 1\n",
    "    hidden_units = 50\n",
    "    epochs = 2000\n",
    "    learning_rate = 0.001\n",
    "    lambda_data = 0.0\n",
    "    lambda_ode = 20.0\n",
    "    lambda_bc = 5.0\n",
    "\n",
    "    # Generate training data and collocation points\n",
    "    x_data, y_data, x_bc, y_bc = generate_data()\n",
    "\n",
    "    # Initialize the PINN model\n",
    "    model = PINN(input_dim, hidden_units, output_dim)\n",
    "\n",
    "    # Train the model\n",
    "    trained_model = train(model, x_data, y_data, x_bc, y_bc, lambda_data, lambda_ode, lambda_bc, epochs, learning_rate, device)\n",
    "\n",
    "    # Plot the results\n",
    "    x_plot = torch.linspace(-1, 1, 1000, device=device).view(-1, 1)\n",
    "    y_plot = trained_model(x_plot).cpu().detach().numpy()\n",
    "    analytical_soln = np.sin(np.pi * x_plot).cpu().detach().numpy()\n",
    "    \n",
    "    plt.plot(x_plot.cpu().numpy(), y_plot, 'b*', label='PINN Approximation')\n",
    "    plt.plot(x_data.cpu().numpy(), y_data.cpu().numpy(), 'ro', label='Training Data')\n",
    "    plt.plot(x_plot.cpu().numpy(), analytical_soln, '--', color='yellow', label=\"Analytical soln\")\n",
    "    plt.title('PINN Solution to Poisson\\'s Equation')\n",
    "    plt.xlabel('x')\n",
    "    plt.ylabel('y')\n",
    "    plt.legend()\n",
    "    plt.grid()\n",
    "    plt.show()\n",
    "\n",
    "\n",
    "if __name__ == \"__main__\":\n",
    "    main()"
   ]
  },
  {
   "cell_type": "code",
   "execution_count": 19,
   "metadata": {
    "execution": {
     "iopub.execute_input": "2025-07-23T07:39:02.524769Z",
     "iopub.status.busy": "2025-07-23T07:39:02.524512Z",
     "iopub.status.idle": "2025-07-23T07:39:02.699428Z",
     "shell.execute_reply": "2025-07-23T07:39:02.698482Z",
     "shell.execute_reply.started": "2025-07-23T07:39:02.524748Z"
    },
    "trusted": true
   },
   "outputs": [
    {
     "name": "stdout",
     "output_type": "stream",
     "text": [
      "freed up some memory\n"
     ]
    }
   ],
   "source": [
    "gc.collect()\n",
    "print(\"freed up some memory\")"
   ]
  },
  {
   "cell_type": "code",
   "execution_count": null,
   "metadata": {
    "trusted": true
   },
   "outputs": [],
   "source": []
  }
 ],
 "metadata": {
  "kaggle": {
   "accelerator": "none",
   "dataSources": [],
   "dockerImageVersionId": 31089,
   "isGpuEnabled": false,
   "isInternetEnabled": true,
   "language": "python",
   "sourceType": "notebook"
  },
  "kernelspec": {
   "display_name": "base",
   "language": "python",
   "name": "python3"
  },
  "language_info": {
   "codemirror_mode": {
    "name": "ipython",
    "version": 3
   },
   "file_extension": ".py",
   "mimetype": "text/x-python",
   "name": "python",
   "nbconvert_exporter": "python",
   "pygments_lexer": "ipython3",
   "version": "3.9.12"
  }
 },
 "nbformat": 4,
 "nbformat_minor": 4
}
